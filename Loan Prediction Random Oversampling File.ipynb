{
 "cells": [
  {
   "cell_type": "markdown",
   "metadata": {},
   "source": [
    "# Loan Eligibility Problem"
   ]
  },
  {
   "cell_type": "markdown",
   "metadata": {},
   "source": [
    "## Problem Statement:"
   ]
  },
  {
   "cell_type": "markdown",
   "metadata": {},
   "source": [
    "This dataset concerns on loan data. When a customer applies for a loan at our company, we use statistical models to determine whether or not to grant the loan based on likelihood of the loan being paid. The factors involved in determining this likelihood are complex and extensive statistical analysis and modelling are required to predict the outcome for each individual case. We are implementing model that predicts if a loam should be granted to an individual based on the data provided in training dataset.\n",
    "The dataset used is an anonymized synthetic data that was generated specifically for use in this project. The data is designed to exhibit similar characteristics to genuine loan data."
   ]
  },
  {
   "cell_type": "markdown",
   "metadata": {},
   "source": [
    "## Description of the data:\n",
    "In This dataset we have over 1,00,000 loan records to determine the best way to predict whether a loan applicant should be granted a loan or not .Build a machine learning model that returns a unique customer id and loan status label which indicates whether the loan should be given to that individual or not.  \n",
    "\n",
    "The dataset consists of the following fields/feature in the csv file: \n",
    "\n",
    "- Loan ID: A unique identifier for the loan information\n",
    "- Customer ID: A unique identifier for the customer (Customer may have more than one loan)\n",
    "- Loan Status : A categorical variable indicating if the loan was given to the customer (i.e loan given or loan refused)\n",
    "- Current Loan amount: This is the loan amount that either completely paid off or the amount was defaulted\n",
    "- Term: A categorical variable indicating if it is a short term or long term loan\n",
    "- Credit Score: A value between 0 and 800 indicating the riskiness of the borrowers credit history\n",
    "- Years in current job: A categorical variable indicating how many years the customer has been in their current job\n",
    "- Home Ownership: A categorical variable indicating home ownership , values are “RENT”,”HOME MORTGAGE” and “OWN”. If the value is own , then the customer is a home owner with no mortgage\n",
    "- Annual Income: The customer’s annual income\n",
    "- Purpose: A description of the purpose of the loan\n",
    "- Monthly Debt: The customer’s monthly payment for their existing loans\n",
    "- Years of credit score :The years since the first entry in the customer’s credit history\n",
    "- Months since last delinquent: Months since the last delinquent payment\n",
    "- Number of open accounts: The total number of open credit cards\n",
    "- Number of credit problems: The number of credit problems in the customer records\n",
    "- Current Credit balance: the current total debt for the customer\n",
    "- Maximum open credit: the maximum credit limit for all credit sources\n",
    "- Bankruptcies: the number of bankruptcies\n",
    "- Tax Liens: the number of tax liens"
   ]
  },
  {
   "cell_type": "markdown",
   "metadata": {},
   "source": [
    "### Loading Libraries"
   ]
  },
  {
   "cell_type": "code",
   "execution_count": 1,
   "metadata": {},
   "outputs": [],
   "source": [
    "import pandas            as pd\n",
    "import numpy             as np\n",
    "import matplotlib.pyplot as plt\n",
    "import seaborn           as sns\n",
    "import statsmodels.api   as sm\n",
    "import scipy.stats       as stats\n",
    "import datetime          as dt\n",
    "import matplotlib\n",
    "import pydotplus\n",
    "\n",
    "import warnings\n",
    "warnings.filterwarnings('ignore')\n",
    "\n",
    "%matplotlib inline\n",
    "\n",
    "\n",
    "from math                      import sqrt\n",
    "from sklearn.model_selection   import train_test_split, GridSearchCV, RandomizedSearchCV\n",
    "from sklearn.feature_selection import RFE\n",
    "from sklearn.linear_model      import LinearRegression, LogisticRegression\n",
    "from sklearn.linear_model      import RidgeCV, LassoCV, Ridge, Lasso\n",
    "from sklearn.linear_model      import ElasticNetCV, ElasticNet\n",
    "from sklearn.metrics           import mean_squared_error\n",
    "from sklearn.metrics           import r2_score, roc_auc_score, roc_curve, cohen_kappa_score\n",
    "from sklearn.metrics           import confusion_matrix, accuracy_score, classification_report\n",
    "from sklearn.tree              import DecisionTreeClassifier, DecisionTreeRegressor, export_graphviz\n",
    "from sklearn.externals.six     import StringIO\n",
    "from sklearn.preprocessing     import StandardScaler\n",
    "from sklearn.ensemble          import RandomForestClassifier, VotingClassifier\n",
    "from sklearn.neighbors         import KNeighborsClassifier,KNeighborsRegressor\n",
    "from sklearn.svm               import SVC, SVR\n",
    "from sklearn.feature_extraction.text import CountVectorizer\n",
    "from sklearn.experimental      import enable_iterative_imputer\n",
    "from sklearn.impute            import IterativeImputer\n",
    "\n",
    "from scipy.stats               import randint as sp_randint\n",
    "\n",
    "from statsmodels.stats.outliers_influence import variance_inflation_factor\n",
    "\n",
    "from imblearn.over_sampling    import SMOTE\n",
    "\n",
    "from scipy.stats               import shapiro , levene , mannwhitneyu , chi2_contingency , chisquare\n",
    "\n"
   ]
  },
  {
   "cell_type": "markdown",
   "metadata": {},
   "source": [
    "### Loading Dataset"
   ]
  },
  {
   "cell_type": "code",
   "execution_count": 2,
   "metadata": {},
   "outputs": [
    {
     "data": {
      "text/html": [
       "<div>\n",
       "<style scoped>\n",
       "    .dataframe tbody tr th:only-of-type {\n",
       "        vertical-align: middle;\n",
       "    }\n",
       "\n",
       "    .dataframe tbody tr th {\n",
       "        vertical-align: top;\n",
       "    }\n",
       "\n",
       "    .dataframe thead th {\n",
       "        text-align: right;\n",
       "    }\n",
       "</style>\n",
       "<table border=\"1\" class=\"dataframe\">\n",
       "  <thead>\n",
       "    <tr style=\"text-align: right;\">\n",
       "      <th></th>\n",
       "      <th>Loan ID</th>\n",
       "      <th>Customer ID</th>\n",
       "      <th>Loan Status</th>\n",
       "      <th>Current Loan Amount</th>\n",
       "      <th>Term</th>\n",
       "      <th>Credit Score</th>\n",
       "      <th>Years in current job</th>\n",
       "      <th>Home Ownership</th>\n",
       "      <th>Annual Income</th>\n",
       "      <th>Purpose</th>\n",
       "      <th>Monthly Debt</th>\n",
       "      <th>Years of Credit History</th>\n",
       "      <th>Months since last delinquent</th>\n",
       "      <th>Number of Open Accounts</th>\n",
       "      <th>Number of Credit Problems</th>\n",
       "      <th>Current Credit Balance</th>\n",
       "      <th>Maximum Open Credit</th>\n",
       "      <th>Bankruptcies</th>\n",
       "      <th>Tax Liens</th>\n",
       "    </tr>\n",
       "  </thead>\n",
       "  <tbody>\n",
       "    <tr>\n",
       "      <th>0</th>\n",
       "      <td>6cf51492-02a2-423e-b93d-676f05b9ad53</td>\n",
       "      <td>7c202b37-2add-44e8-9aea-d5b119aea935</td>\n",
       "      <td>Loan Refused</td>\n",
       "      <td>12232</td>\n",
       "      <td>Short Term</td>\n",
       "      <td>7280.0</td>\n",
       "      <td>&lt; 1 year</td>\n",
       "      <td>Rent</td>\n",
       "      <td>46643.0</td>\n",
       "      <td>Debt Consolidation</td>\n",
       "      <td>777.39</td>\n",
       "      <td>18.0</td>\n",
       "      <td>10.0</td>\n",
       "      <td>12</td>\n",
       "      <td>0</td>\n",
       "      <td>6762</td>\n",
       "      <td>7946</td>\n",
       "      <td>0.0</td>\n",
       "      <td>0.0</td>\n",
       "    </tr>\n",
       "    <tr>\n",
       "      <th>1</th>\n",
       "      <td>552e7ade-4292-4354-9ff9-c48031697d72</td>\n",
       "      <td>e7217b0a-07ac-47dd-b379-577b5a35b7c6</td>\n",
       "      <td>Loan Refused</td>\n",
       "      <td>25014</td>\n",
       "      <td>Long Term</td>\n",
       "      <td>7330.0</td>\n",
       "      <td>10+ years</td>\n",
       "      <td>Home Mortgage</td>\n",
       "      <td>81099.0</td>\n",
       "      <td>Debt Consolidation</td>\n",
       "      <td>892.09</td>\n",
       "      <td>26.7</td>\n",
       "      <td>NaN</td>\n",
       "      <td>14</td>\n",
       "      <td>0</td>\n",
       "      <td>35706</td>\n",
       "      <td>77961</td>\n",
       "      <td>0.0</td>\n",
       "      <td>0.0</td>\n",
       "    </tr>\n",
       "    <tr>\n",
       "      <th>2</th>\n",
       "      <td>9b5e32b3-8d76-4801-afc8-d729d5a2e6b9</td>\n",
       "      <td>0a62fc41-16c8-40b5-92ff-9e4b763ce714</td>\n",
       "      <td>Loan Refused</td>\n",
       "      <td>16117</td>\n",
       "      <td>Short Term</td>\n",
       "      <td>7240.0</td>\n",
       "      <td>9 years</td>\n",
       "      <td>Home Mortgage</td>\n",
       "      <td>60438.0</td>\n",
       "      <td>Home Improvements</td>\n",
       "      <td>1244.02</td>\n",
       "      <td>16.7</td>\n",
       "      <td>32.0</td>\n",
       "      <td>11</td>\n",
       "      <td>1</td>\n",
       "      <td>11275</td>\n",
       "      <td>14815</td>\n",
       "      <td>1.0</td>\n",
       "      <td>0.0</td>\n",
       "    </tr>\n",
       "    <tr>\n",
       "      <th>3</th>\n",
       "      <td>5419b7c7-ac11-4be2-a8a7-b131fb6d6dbe</td>\n",
       "      <td>30f36c59-5182-4482-8bbb-5b736849ae43</td>\n",
       "      <td>Loan Refused</td>\n",
       "      <td>11716</td>\n",
       "      <td>Short Term</td>\n",
       "      <td>7400.0</td>\n",
       "      <td>3 years</td>\n",
       "      <td>Rent</td>\n",
       "      <td>34171.0</td>\n",
       "      <td>Debt Consolidation</td>\n",
       "      <td>990.94</td>\n",
       "      <td>10.0</td>\n",
       "      <td>NaN</td>\n",
       "      <td>21</td>\n",
       "      <td>0</td>\n",
       "      <td>7009</td>\n",
       "      <td>43533</td>\n",
       "      <td>0.0</td>\n",
       "      <td>0.0</td>\n",
       "    </tr>\n",
       "    <tr>\n",
       "      <th>4</th>\n",
       "      <td>1450910f-9495-4fc9-afaf-9bdf4b9821df</td>\n",
       "      <td>70c26012-bba5-42c0-8dcb-75295ada31bb</td>\n",
       "      <td>Loan Refused</td>\n",
       "      <td>9789</td>\n",
       "      <td>Long Term</td>\n",
       "      <td>6860.0</td>\n",
       "      <td>10+ years</td>\n",
       "      <td>Home Mortgage</td>\n",
       "      <td>47003.0</td>\n",
       "      <td>Home Improvements</td>\n",
       "      <td>503.71</td>\n",
       "      <td>16.7</td>\n",
       "      <td>25.0</td>\n",
       "      <td>13</td>\n",
       "      <td>1</td>\n",
       "      <td>16913</td>\n",
       "      <td>19553</td>\n",
       "      <td>1.0</td>\n",
       "      <td>0.0</td>\n",
       "    </tr>\n",
       "  </tbody>\n",
       "</table>\n",
       "</div>"
      ],
      "text/plain": [
       "                                Loan ID                           Customer ID  \\\n",
       "0  6cf51492-02a2-423e-b93d-676f05b9ad53  7c202b37-2add-44e8-9aea-d5b119aea935   \n",
       "1  552e7ade-4292-4354-9ff9-c48031697d72  e7217b0a-07ac-47dd-b379-577b5a35b7c6   \n",
       "2  9b5e32b3-8d76-4801-afc8-d729d5a2e6b9  0a62fc41-16c8-40b5-92ff-9e4b763ce714   \n",
       "3  5419b7c7-ac11-4be2-a8a7-b131fb6d6dbe  30f36c59-5182-4482-8bbb-5b736849ae43   \n",
       "4  1450910f-9495-4fc9-afaf-9bdf4b9821df  70c26012-bba5-42c0-8dcb-75295ada31bb   \n",
       "\n",
       "    Loan Status  Current Loan Amount        Term  Credit Score  \\\n",
       "0  Loan Refused                12232  Short Term        7280.0   \n",
       "1  Loan Refused                25014   Long Term        7330.0   \n",
       "2  Loan Refused                16117  Short Term        7240.0   \n",
       "3  Loan Refused                11716  Short Term        7400.0   \n",
       "4  Loan Refused                 9789   Long Term        6860.0   \n",
       "\n",
       "  Years in current job Home Ownership  Annual Income             Purpose  \\\n",
       "0             < 1 year           Rent        46643.0  Debt Consolidation   \n",
       "1            10+ years  Home Mortgage        81099.0  Debt Consolidation   \n",
       "2              9 years  Home Mortgage        60438.0   Home Improvements   \n",
       "3              3 years           Rent        34171.0  Debt Consolidation   \n",
       "4            10+ years  Home Mortgage        47003.0   Home Improvements   \n",
       "\n",
       "  Monthly Debt  Years of Credit History  Months since last delinquent  \\\n",
       "0       777.39                     18.0                          10.0   \n",
       "1       892.09                     26.7                           NaN   \n",
       "2      1244.02                     16.7                          32.0   \n",
       "3       990.94                     10.0                           NaN   \n",
       "4       503.71                     16.7                          25.0   \n",
       "\n",
       "   Number of Open Accounts  Number of Credit Problems  Current Credit Balance  \\\n",
       "0                       12                          0                    6762   \n",
       "1                       14                          0                   35706   \n",
       "2                       11                          1                   11275   \n",
       "3                       21                          0                    7009   \n",
       "4                       13                          1                   16913   \n",
       "\n",
       "  Maximum Open Credit  Bankruptcies  Tax Liens  \n",
       "0                7946           0.0        0.0  \n",
       "1               77961           0.0        0.0  \n",
       "2               14815           1.0        0.0  \n",
       "3               43533           0.0        0.0  \n",
       "4               19553           1.0        0.0  "
      ]
     },
     "execution_count": 2,
     "metadata": {},
     "output_type": "execute_result"
    }
   ],
   "source": [
    "lp = pd.read_csv('LoansTrainingSetV2.csv')\n",
    "lp.head()"
   ]
  },
  {
   "cell_type": "markdown",
   "metadata": {},
   "source": [
    "### Nature of the Data"
   ]
  },
  {
   "cell_type": "code",
   "execution_count": 3,
   "metadata": {},
   "outputs": [
    {
     "name": "stdout",
     "output_type": "stream",
     "text": [
      "Dataset contains 111107 observations and 19 attributes\n"
     ]
    }
   ],
   "source": [
    "print(\"Dataset contains\",lp.shape[0],\"observations and\" , lp.shape[1], \"attributes\")"
   ]
  },
  {
   "cell_type": "markdown",
   "metadata": {},
   "source": [
    "### Dataset Attributes"
   ]
  },
  {
   "cell_type": "code",
   "execution_count": 4,
   "metadata": {},
   "outputs": [
    {
     "data": {
      "text/plain": [
       "Index(['Loan ID', 'Customer ID', 'Loan Status', 'Current Loan Amount', 'Term',\n",
       "       'Credit Score', 'Years in current job', 'Home Ownership',\n",
       "       'Annual Income', 'Purpose', 'Monthly Debt', 'Years of Credit History',\n",
       "       'Months since last delinquent', 'Number of Open Accounts',\n",
       "       'Number of Credit Problems', 'Current Credit Balance',\n",
       "       'Maximum Open Credit', 'Bankruptcies', 'Tax Liens'],\n",
       "      dtype='object')"
      ]
     },
     "execution_count": 4,
     "metadata": {},
     "output_type": "execute_result"
    }
   ],
   "source": [
    "lp.columns"
   ]
  },
  {
   "cell_type": "markdown",
   "metadata": {},
   "source": [
    "### Statistical Overview"
   ]
  },
  {
   "cell_type": "code",
   "execution_count": 5,
   "metadata": {},
   "outputs": [
    {
     "data": {
      "text/html": [
       "<div>\n",
       "<style scoped>\n",
       "    .dataframe tbody tr th:only-of-type {\n",
       "        vertical-align: middle;\n",
       "    }\n",
       "\n",
       "    .dataframe tbody tr th {\n",
       "        vertical-align: top;\n",
       "    }\n",
       "\n",
       "    .dataframe thead th {\n",
       "        text-align: right;\n",
       "    }\n",
       "</style>\n",
       "<table border=\"1\" class=\"dataframe\">\n",
       "  <thead>\n",
       "    <tr style=\"text-align: right;\">\n",
       "      <th></th>\n",
       "      <th>Current Loan Amount</th>\n",
       "      <th>Credit Score</th>\n",
       "      <th>Annual Income</th>\n",
       "      <th>Years of Credit History</th>\n",
       "      <th>Months since last delinquent</th>\n",
       "      <th>Number of Open Accounts</th>\n",
       "      <th>Number of Credit Problems</th>\n",
       "      <th>Current Credit Balance</th>\n",
       "      <th>Bankruptcies</th>\n",
       "      <th>Tax Liens</th>\n",
       "    </tr>\n",
       "  </thead>\n",
       "  <tbody>\n",
       "    <tr>\n",
       "      <th>count</th>\n",
       "      <td>1.111070e+05</td>\n",
       "      <td>89769.000000</td>\n",
       "      <td>8.976900e+04</td>\n",
       "      <td>111107.000000</td>\n",
       "      <td>52104.000000</td>\n",
       "      <td>111107.000000</td>\n",
       "      <td>111107.000000</td>\n",
       "      <td>1.111070e+05</td>\n",
       "      <td>110879.00000</td>\n",
       "      <td>111096.000000</td>\n",
       "    </tr>\n",
       "    <tr>\n",
       "      <th>mean</th>\n",
       "      <td>1.147718e+07</td>\n",
       "      <td>1075.795029</td>\n",
       "      <td>7.248600e+04</td>\n",
       "      <td>18.201003</td>\n",
       "      <td>34.902272</td>\n",
       "      <td>11.125105</td>\n",
       "      <td>0.168027</td>\n",
       "      <td>1.548314e+04</td>\n",
       "      <td>0.11766</td>\n",
       "      <td>0.029353</td>\n",
       "    </tr>\n",
       "    <tr>\n",
       "      <th>std</th>\n",
       "      <td>3.185508e+07</td>\n",
       "      <td>1474.133505</td>\n",
       "      <td>5.593094e+04</td>\n",
       "      <td>7.014495</td>\n",
       "      <td>21.970696</td>\n",
       "      <td>5.010267</td>\n",
       "      <td>0.484212</td>\n",
       "      <td>1.982115e+04</td>\n",
       "      <td>0.35142</td>\n",
       "      <td>0.260575</td>\n",
       "    </tr>\n",
       "    <tr>\n",
       "      <th>min</th>\n",
       "      <td>4.910000e+02</td>\n",
       "      <td>585.000000</td>\n",
       "      <td>4.033000e+03</td>\n",
       "      <td>3.600000</td>\n",
       "      <td>0.000000</td>\n",
       "      <td>0.000000</td>\n",
       "      <td>0.000000</td>\n",
       "      <td>0.000000e+00</td>\n",
       "      <td>0.00000</td>\n",
       "      <td>0.000000</td>\n",
       "    </tr>\n",
       "    <tr>\n",
       "      <th>25%</th>\n",
       "      <td>8.162000e+03</td>\n",
       "      <td>705.000000</td>\n",
       "      <td>4.468800e+04</td>\n",
       "      <td>13.500000</td>\n",
       "      <td>16.000000</td>\n",
       "      <td>8.000000</td>\n",
       "      <td>0.000000</td>\n",
       "      <td>5.905000e+03</td>\n",
       "      <td>0.00000</td>\n",
       "      <td>0.000000</td>\n",
       "    </tr>\n",
       "    <tr>\n",
       "      <th>50%</th>\n",
       "      <td>1.418300e+04</td>\n",
       "      <td>724.000000</td>\n",
       "      <td>6.175200e+04</td>\n",
       "      <td>16.900000</td>\n",
       "      <td>32.000000</td>\n",
       "      <td>10.000000</td>\n",
       "      <td>0.000000</td>\n",
       "      <td>1.102700e+04</td>\n",
       "      <td>0.00000</td>\n",
       "      <td>0.000000</td>\n",
       "    </tr>\n",
       "    <tr>\n",
       "      <th>75%</th>\n",
       "      <td>2.382200e+04</td>\n",
       "      <td>741.000000</td>\n",
       "      <td>8.688700e+04</td>\n",
       "      <td>21.700000</td>\n",
       "      <td>51.000000</td>\n",
       "      <td>14.000000</td>\n",
       "      <td>0.000000</td>\n",
       "      <td>1.933800e+04</td>\n",
       "      <td>0.00000</td>\n",
       "      <td>0.000000</td>\n",
       "    </tr>\n",
       "    <tr>\n",
       "      <th>max</th>\n",
       "      <td>1.000000e+08</td>\n",
       "      <td>7510.000000</td>\n",
       "      <td>8.713547e+06</td>\n",
       "      <td>70.500000</td>\n",
       "      <td>176.000000</td>\n",
       "      <td>76.000000</td>\n",
       "      <td>15.000000</td>\n",
       "      <td>1.730472e+06</td>\n",
       "      <td>7.00000</td>\n",
       "      <td>15.000000</td>\n",
       "    </tr>\n",
       "  </tbody>\n",
       "</table>\n",
       "</div>"
      ],
      "text/plain": [
       "       Current Loan Amount  Credit Score  Annual Income  \\\n",
       "count         1.111070e+05  89769.000000   8.976900e+04   \n",
       "mean          1.147718e+07   1075.795029   7.248600e+04   \n",
       "std           3.185508e+07   1474.133505   5.593094e+04   \n",
       "min           4.910000e+02    585.000000   4.033000e+03   \n",
       "25%           8.162000e+03    705.000000   4.468800e+04   \n",
       "50%           1.418300e+04    724.000000   6.175200e+04   \n",
       "75%           2.382200e+04    741.000000   8.688700e+04   \n",
       "max           1.000000e+08   7510.000000   8.713547e+06   \n",
       "\n",
       "       Years of Credit History  Months since last delinquent  \\\n",
       "count            111107.000000                  52104.000000   \n",
       "mean                 18.201003                     34.902272   \n",
       "std                   7.014495                     21.970696   \n",
       "min                   3.600000                      0.000000   \n",
       "25%                  13.500000                     16.000000   \n",
       "50%                  16.900000                     32.000000   \n",
       "75%                  21.700000                     51.000000   \n",
       "max                  70.500000                    176.000000   \n",
       "\n",
       "       Number of Open Accounts  Number of Credit Problems  \\\n",
       "count            111107.000000              111107.000000   \n",
       "mean                 11.125105                   0.168027   \n",
       "std                   5.010267                   0.484212   \n",
       "min                   0.000000                   0.000000   \n",
       "25%                   8.000000                   0.000000   \n",
       "50%                  10.000000                   0.000000   \n",
       "75%                  14.000000                   0.000000   \n",
       "max                  76.000000                  15.000000   \n",
       "\n",
       "       Current Credit Balance  Bankruptcies      Tax Liens  \n",
       "count            1.111070e+05  110879.00000  111096.000000  \n",
       "mean             1.548314e+04       0.11766       0.029353  \n",
       "std              1.982115e+04       0.35142       0.260575  \n",
       "min              0.000000e+00       0.00000       0.000000  \n",
       "25%              5.905000e+03       0.00000       0.000000  \n",
       "50%              1.102700e+04       0.00000       0.000000  \n",
       "75%              1.933800e+04       0.00000       0.000000  \n",
       "max              1.730472e+06       7.00000      15.000000  "
      ]
     },
     "execution_count": 5,
     "metadata": {},
     "output_type": "execute_result"
    }
   ],
   "source": [
    "lp.describe()"
   ]
  },
  {
   "cell_type": "markdown",
   "metadata": {},
   "source": [
    "### Concise summary of the data"
   ]
  },
  {
   "cell_type": "code",
   "execution_count": 6,
   "metadata": {},
   "outputs": [
    {
     "name": "stdout",
     "output_type": "stream",
     "text": [
      "<class 'pandas.core.frame.DataFrame'>\n",
      "RangeIndex: 111107 entries, 0 to 111106\n",
      "Data columns (total 19 columns):\n",
      " #   Column                        Non-Null Count   Dtype  \n",
      "---  ------                        --------------   -----  \n",
      " 0   Loan ID                       111107 non-null  object \n",
      " 1   Customer ID                   111107 non-null  object \n",
      " 2   Loan Status                   111107 non-null  object \n",
      " 3   Current Loan Amount           111107 non-null  int64  \n",
      " 4   Term                          111107 non-null  object \n",
      " 5   Credit Score                  89769 non-null   float64\n",
      " 6   Years in current job          106414 non-null  object \n",
      " 7   Home Ownership                111107 non-null  object \n",
      " 8   Annual Income                 89769 non-null   float64\n",
      " 9   Purpose                       111107 non-null  object \n",
      " 10  Monthly Debt                  111107 non-null  object \n",
      " 11  Years of Credit History       111107 non-null  float64\n",
      " 12  Months since last delinquent  52104 non-null   float64\n",
      " 13  Number of Open Accounts       111107 non-null  int64  \n",
      " 14  Number of Credit Problems     111107 non-null  int64  \n",
      " 15  Current Credit Balance        111107 non-null  int64  \n",
      " 16  Maximum Open Credit           111107 non-null  object \n",
      " 17  Bankruptcies                  110879 non-null  float64\n",
      " 18  Tax Liens                     111096 non-null  float64\n",
      "dtypes: float64(6), int64(4), object(9)\n",
      "memory usage: 16.1+ MB\n"
     ]
    }
   ],
   "source": [
    "lp.info()"
   ]
  },
  {
   "cell_type": "code",
   "execution_count": 7,
   "metadata": {},
   "outputs": [],
   "source": [
    "dfb=lp.copy()"
   ]
  },
  {
   "cell_type": "markdown",
   "metadata": {},
   "source": [
    "### Variable Categorization"
   ]
  },
  {
   "cell_type": "code",
   "execution_count": 8,
   "metadata": {},
   "outputs": [
    {
     "name": "stdout",
     "output_type": "stream",
     "text": [
      "Count of categorical values are 9\n"
     ]
    }
   ],
   "source": [
    "cat_cols = lp.select_dtypes(['object']).columns\n",
    "print(\"Count of categorical values are\",cat_cols.value_counts().sum())"
   ]
  },
  {
   "cell_type": "code",
   "execution_count": 9,
   "metadata": {},
   "outputs": [
    {
     "data": {
      "text/plain": [
       "3.8674055889005907"
      ]
     },
     "execution_count": 9,
     "metadata": {},
     "output_type": "execute_result"
    }
   ],
   "source": [
    "lp['Credit Score'].skew()"
   ]
  },
  {
   "cell_type": "code",
   "execution_count": 10,
   "metadata": {},
   "outputs": [
    {
     "name": "stdout",
     "output_type": "stream",
     "text": [
      "Count of numerical values are 10\n"
     ]
    }
   ],
   "source": [
    "num_cols = lp.select_dtypes(['float64','int64']).columns\n",
    "print(\"Count of numerical values are\",num_cols.value_counts().sum())"
   ]
  },
  {
   "cell_type": "code",
   "execution_count": 11,
   "metadata": {},
   "outputs": [
    {
     "data": {
      "text/plain": [
       "2"
      ]
     },
     "execution_count": 11,
     "metadata": {},
     "output_type": "execute_result"
    }
   ],
   "source": [
    "dfb['Maximum Open Credit']=dfb['Maximum Open Credit'].replace({'#VALUE!':np.nan})\n",
    "\n",
    "dfb['Maximum Open Credit']=dfb['Maximum Open Credit'].astype(float)\n",
    "\n",
    "dfb['Maximum Open Credit'].isnull().sum()"
   ]
  },
  {
   "cell_type": "code",
   "execution_count": 12,
   "metadata": {},
   "outputs": [],
   "source": [
    "dfb['Maximum Open Credit']=dfb['Maximum Open Credit'].fillna(dfb['Maximum Open Credit'].median())"
   ]
  },
  {
   "cell_type": "code",
   "execution_count": 13,
   "metadata": {},
   "outputs": [],
   "source": [
    "dfb['Monthly Debt']=dfb['Monthly Debt'].replace({'$1051.41':'1051.41','$157.15':'157.15','$944.7':'944.7','$481.34':'481.34','$1838.98':'1838.98','$471.6':'471.6'})\n",
    "\n",
    "dfb['Monthly Debt']=dfb['Monthly Debt'].astype(float)"
   ]
  },
  {
   "cell_type": "code",
   "execution_count": 14,
   "metadata": {},
   "outputs": [],
   "source": [
    "dfb['Tax Liens'] = dfb['Tax Liens'].astype('object')"
   ]
  },
  {
   "cell_type": "code",
   "execution_count": 15,
   "metadata": {},
   "outputs": [],
   "source": [
    "dfb['Bankruptcies'] = dfb['Bankruptcies'].astype('object')"
   ]
  },
  {
   "cell_type": "code",
   "execution_count": 16,
   "metadata": {},
   "outputs": [],
   "source": [
    "dfb['Tax Liens'] = dfb['Tax Liens'].fillna(dfb['Tax Liens'].mode()[0])"
   ]
  },
  {
   "cell_type": "code",
   "execution_count": 17,
   "metadata": {},
   "outputs": [],
   "source": [
    "dfb['Bankruptcies'] = dfb['Bankruptcies'].fillna(dfb['Bankruptcies'].mode()[0])"
   ]
  },
  {
   "cell_type": "code",
   "execution_count": 18,
   "metadata": {},
   "outputs": [],
   "source": [
    "dfb=dfb.drop('Months since last delinquent',axis=1)"
   ]
  },
  {
   "cell_type": "code",
   "execution_count": 19,
   "metadata": {},
   "outputs": [],
   "source": [
    "from sklearn.experimental import enable_iterative_imputer\n",
    "from sklearn.impute import IterativeImputer"
   ]
  },
  {
   "cell_type": "code",
   "execution_count": 20,
   "metadata": {},
   "outputs": [],
   "source": [
    "mice_imputer= IterativeImputer(initial_strategy='median',imputation_order='random',random_state=3)"
   ]
  },
  {
   "cell_type": "code",
   "execution_count": 21,
   "metadata": {},
   "outputs": [],
   "source": [
    "df2=dfb[['Credit Score','Annual Income']]"
   ]
  },
  {
   "cell_type": "code",
   "execution_count": 22,
   "metadata": {},
   "outputs": [],
   "source": [
    "df2.iloc[:,:]=np.round(mice_imputer.fit_transform(df2))"
   ]
  },
  {
   "cell_type": "code",
   "execution_count": 23,
   "metadata": {},
   "outputs": [],
   "source": [
    "df1=dfb.drop(columns=['Credit Score','Annual Income'],axis=1)"
   ]
  },
  {
   "cell_type": "code",
   "execution_count": 24,
   "metadata": {},
   "outputs": [],
   "source": [
    "result= pd.concat([df1,df2], axis=1)"
   ]
  },
  {
   "cell_type": "code",
   "execution_count": 25,
   "metadata": {},
   "outputs": [],
   "source": [
    "result['Credit Score']=result[result['Credit Score']<=800]['Credit Score']"
   ]
  },
  {
   "cell_type": "code",
   "execution_count": 26,
   "metadata": {},
   "outputs": [],
   "source": [
    "result['Credit Score']= result['Credit Score'].fillna(800)"
   ]
  },
  {
   "cell_type": "code",
   "execution_count": 27,
   "metadata": {},
   "outputs": [
    {
     "data": {
      "text/plain": [
       "-0.04321025021475512"
      ]
     },
     "execution_count": 27,
     "metadata": {},
     "output_type": "execute_result"
    }
   ],
   "source": [
    "result['Credit Score'].skew()"
   ]
  },
  {
   "cell_type": "code",
   "execution_count": 28,
   "metadata": {},
   "outputs": [],
   "source": [
    "result['Tax Liens'] = result['Tax Liens'].astype('object')"
   ]
  },
  {
   "cell_type": "code",
   "execution_count": 29,
   "metadata": {},
   "outputs": [],
   "source": [
    "result['Bankruptcies'] = result['Bankruptcies'].astype('object')"
   ]
  },
  {
   "cell_type": "code",
   "execution_count": 30,
   "metadata": {},
   "outputs": [],
   "source": [
    "num_cols1 = result.select_dtypes(['float64','int64']).columns"
   ]
  },
  {
   "cell_type": "code",
   "execution_count": 31,
   "metadata": {},
   "outputs": [],
   "source": [
    "from scipy.stats import skew, norm, probplot, boxcox"
   ]
  },
  {
   "cell_type": "code",
   "execution_count": 32,
   "metadata": {},
   "outputs": [],
   "source": [
    "skewed_features = result[num_cols1].apply(lambda x : skew (x.dropna())).sort_values(ascending=False)\n",
    "\n",
    "#compute skewness\n",
    "skewness = pd.DataFrame({'Skew' :skewed_features})  "
   ]
  },
  {
   "cell_type": "code",
   "execution_count": 33,
   "metadata": {},
   "outputs": [
    {
     "name": "stdout",
     "output_type": "stream",
     "text": [
      "There are 8 highest skewed numerical features to box cox transform\n"
     ]
    }
   ],
   "source": [
    "# Get only higest skewed features\n",
    "skewness = skewness[abs(skewness) > 0.7]\n",
    "skewness = skewness.dropna()\n",
    "print (\"There are {} highest skewed numerical features to box cox transform\".format(skewness.shape[0]))"
   ]
  },
  {
   "cell_type": "code",
   "execution_count": 34,
   "metadata": {},
   "outputs": [],
   "source": [
    "#Create Empty list \n",
    "l_opt = {}\n",
    "\n",
    "#create for loop for skewness.index\n",
    "for feat in skewness.index:\n",
    "    result[feat], l_opt[feat] = boxcox((result[feat]+1))"
   ]
  },
  {
   "cell_type": "code",
   "execution_count": 35,
   "metadata": {},
   "outputs": [],
   "source": [
    "#create skewed_features2 for skewness.index\n",
    "skewed_features2 = result[skewness.index].apply(lambda x : skew (x.dropna())).sort_values(ascending=False)\n",
    "\n",
    "#compute skewness\n",
    "skewness2 = pd.DataFrame({'New Skew' :skewed_features2}) "
   ]
  },
  {
   "cell_type": "code",
   "execution_count": 36,
   "metadata": {},
   "outputs": [
    {
     "data": {
      "text/html": [
       "<div>\n",
       "<style scoped>\n",
       "    .dataframe tbody tr th:only-of-type {\n",
       "        vertical-align: middle;\n",
       "    }\n",
       "\n",
       "    .dataframe tbody tr th {\n",
       "        vertical-align: top;\n",
       "    }\n",
       "\n",
       "    .dataframe thead th {\n",
       "        text-align: right;\n",
       "    }\n",
       "</style>\n",
       "<table border=\"1\" class=\"dataframe\">\n",
       "  <thead>\n",
       "    <tr style=\"text-align: right;\">\n",
       "      <th></th>\n",
       "      <th>Skew</th>\n",
       "      <th>New Skew</th>\n",
       "    </tr>\n",
       "  </thead>\n",
       "  <tbody>\n",
       "    <tr>\n",
       "      <th>Maximum Open Credit</th>\n",
       "      <td>136.993677</td>\n",
       "      <td>0.659540</td>\n",
       "    </tr>\n",
       "    <tr>\n",
       "      <th>Annual Income</th>\n",
       "      <td>49.780770</td>\n",
       "      <td>-0.000847</td>\n",
       "    </tr>\n",
       "    <tr>\n",
       "      <th>Current Credit Balance</th>\n",
       "      <td>14.184075</td>\n",
       "      <td>0.193766</td>\n",
       "    </tr>\n",
       "    <tr>\n",
       "      <th>Number of Credit Problems</th>\n",
       "      <td>4.904700</td>\n",
       "      <td>2.084735</td>\n",
       "    </tr>\n",
       "    <tr>\n",
       "      <th>Current Loan Amount</th>\n",
       "      <td>2.419085</td>\n",
       "      <td>0.250956</td>\n",
       "    </tr>\n",
       "    <tr>\n",
       "      <th>Monthly Debt</th>\n",
       "      <td>2.212429</td>\n",
       "      <td>0.049988</td>\n",
       "    </tr>\n",
       "    <tr>\n",
       "      <th>Number of Open Accounts</th>\n",
       "      <td>1.182993</td>\n",
       "      <td>0.002508</td>\n",
       "    </tr>\n",
       "    <tr>\n",
       "      <th>Years of Credit History</th>\n",
       "      <td>1.071703</td>\n",
       "      <td>0.001111</td>\n",
       "    </tr>\n",
       "  </tbody>\n",
       "</table>\n",
       "</div>"
      ],
      "text/plain": [
       "                                 Skew  New Skew\n",
       "Maximum Open Credit        136.993677  0.659540\n",
       "Annual Income               49.780770 -0.000847\n",
       "Current Credit Balance      14.184075  0.193766\n",
       "Number of Credit Problems    4.904700  2.084735\n",
       "Current Loan Amount          2.419085  0.250956\n",
       "Monthly Debt                 2.212429  0.049988\n",
       "Number of Open Accounts      1.182993  0.002508\n",
       "Years of Credit History      1.071703  0.001111"
      ]
     },
     "metadata": {},
     "output_type": "display_data"
    }
   ],
   "source": [
    "# concat both skewness, skewness2\n",
    "display(pd.concat([skewness, skewness2], axis=1).sort_values(by=['Skew'], ascending=False))"
   ]
  },
  {
   "cell_type": "code",
   "execution_count": 37,
   "metadata": {},
   "outputs": [
    {
     "data": {
      "text/plain": [
       "Number of Credit Problems    2.084735\n",
       "Maximum Open Credit          0.659540\n",
       "Current Loan Amount          0.250956\n",
       "Current Credit Balance       0.193766\n",
       "Monthly Debt                 0.049988\n",
       "Number of Open Accounts      0.002508\n",
       "Years of Credit History      0.001111\n",
       "Annual Income               -0.000847\n",
       "dtype: float64"
      ]
     },
     "execution_count": 37,
     "metadata": {},
     "output_type": "execute_result"
    }
   ],
   "source": [
    "skewed_features2"
   ]
  },
  {
   "cell_type": "code",
   "execution_count": 38,
   "metadata": {},
   "outputs": [],
   "source": [
    "result['Credit Score']=np.log1p(result['Credit Score'])"
   ]
  },
  {
   "cell_type": "code",
   "execution_count": 39,
   "metadata": {},
   "outputs": [],
   "source": [
    "result['Purpose']=result['Purpose'].replace({'other':'Other'})"
   ]
  },
  {
   "cell_type": "code",
   "execution_count": 40,
   "metadata": {},
   "outputs": [
    {
     "data": {
      "text/plain": [
       "-0.2131917238359278"
      ]
     },
     "execution_count": 40,
     "metadata": {},
     "output_type": "execute_result"
    }
   ],
   "source": [
    "result['Credit Score'].skew()"
   ]
  },
  {
   "cell_type": "code",
   "execution_count": 41,
   "metadata": {},
   "outputs": [],
   "source": [
    "result['Loan Status']=result['Loan Status'].replace({'Charged Off': 0,'Fully Paid': 1 })"
   ]
  },
  {
   "cell_type": "code",
   "execution_count": 42,
   "metadata": {},
   "outputs": [],
   "source": [
    "result['Term']=result['Term'].replace({'Short Term': 0, 'Long Term': 1})"
   ]
  },
  {
   "cell_type": "code",
   "execution_count": 43,
   "metadata": {},
   "outputs": [],
   "source": [
    "result = result.drop(['Loan ID','Customer ID'],axis=1)"
   ]
  },
  {
   "cell_type": "code",
   "execution_count": 44,
   "metadata": {},
   "outputs": [
    {
     "data": {
      "text/plain": [
       "0.0011105491311304123"
      ]
     },
     "execution_count": 44,
     "metadata": {},
     "output_type": "execute_result"
    }
   ],
   "source": [
    "result['Years of Credit History'].skew()"
   ]
  },
  {
   "cell_type": "code",
   "execution_count": 45,
   "metadata": {
    "scrolled": true
   },
   "outputs": [
    {
     "name": "stdout",
     "output_type": "stream",
     "text": [
      "<class 'pandas.core.frame.DataFrame'>\n",
      "RangeIndex: 111107 entries, 0 to 111106\n",
      "Data columns (total 16 columns):\n",
      " #   Column                     Non-Null Count   Dtype  \n",
      "---  ------                     --------------   -----  \n",
      " 0   Loan Status                111107 non-null  int64  \n",
      " 1   Current Loan Amount        111107 non-null  float64\n",
      " 2   Term                       111107 non-null  int64  \n",
      " 3   Years in current job       106414 non-null  object \n",
      " 4   Home Ownership             111107 non-null  object \n",
      " 5   Purpose                    111107 non-null  object \n",
      " 6   Monthly Debt               111107 non-null  float64\n",
      " 7   Years of Credit History    111107 non-null  float64\n",
      " 8   Number of Open Accounts    111107 non-null  float64\n",
      " 9   Number of Credit Problems  111107 non-null  float64\n",
      " 10  Current Credit Balance     111107 non-null  float64\n",
      " 11  Maximum Open Credit        111107 non-null  float64\n",
      " 12  Bankruptcies               111107 non-null  object \n",
      " 13  Tax Liens                  111107 non-null  object \n",
      " 14  Credit Score               111107 non-null  float64\n",
      " 15  Annual Income              111107 non-null  float64\n",
      "dtypes: float64(9), int64(2), object(5)\n",
      "memory usage: 13.6+ MB\n"
     ]
    }
   ],
   "source": [
    "result.info()"
   ]
  },
  {
   "cell_type": "code",
   "execution_count": 46,
   "metadata": {},
   "outputs": [
    {
     "data": {
      "text/html": [
       "<div>\n",
       "<style scoped>\n",
       "    .dataframe tbody tr th:only-of-type {\n",
       "        vertical-align: middle;\n",
       "    }\n",
       "\n",
       "    .dataframe tbody tr th {\n",
       "        vertical-align: top;\n",
       "    }\n",
       "\n",
       "    .dataframe thead th {\n",
       "        text-align: right;\n",
       "    }\n",
       "</style>\n",
       "<table border=\"1\" class=\"dataframe\">\n",
       "  <thead>\n",
       "    <tr style=\"text-align: right;\">\n",
       "      <th></th>\n",
       "      <th>Loan Status</th>\n",
       "      <th>Current Loan Amount</th>\n",
       "      <th>Term</th>\n",
       "      <th>Monthly Debt</th>\n",
       "      <th>Years of Credit History</th>\n",
       "      <th>Number of Open Accounts</th>\n",
       "      <th>Number of Credit Problems</th>\n",
       "      <th>Current Credit Balance</th>\n",
       "      <th>Maximum Open Credit</th>\n",
       "      <th>Credit Score</th>\n",
       "      <th>Annual Income</th>\n",
       "    </tr>\n",
       "  </thead>\n",
       "  <tbody>\n",
       "    <tr>\n",
       "      <th>count</th>\n",
       "      <td>111107.000000</td>\n",
       "      <td>111107.000000</td>\n",
       "      <td>111107.000000</td>\n",
       "      <td>111107.000000</td>\n",
       "      <td>111107.000000</td>\n",
       "      <td>111107.000000</td>\n",
       "      <td>111107.000000</td>\n",
       "      <td>111107.000000</td>\n",
       "      <td>111107.000000</td>\n",
       "      <td>111107.000000</td>\n",
       "      <td>111107.000000</td>\n",
       "    </tr>\n",
       "    <tr>\n",
       "      <th>mean</th>\n",
       "      <td>0.773435</td>\n",
       "      <td>2.633961</td>\n",
       "      <td>0.277507</td>\n",
       "      <td>30.683766</td>\n",
       "      <td>3.174099</td>\n",
       "      <td>2.935393</td>\n",
       "      <td>0.014951</td>\n",
       "      <td>41.172035</td>\n",
       "      <td>30.787729</td>\n",
       "      <td>6.601425</td>\n",
       "      <td>10.892508</td>\n",
       "    </tr>\n",
       "    <tr>\n",
       "      <th>std</th>\n",
       "      <td>0.418611</td>\n",
       "      <td>0.036285</td>\n",
       "      <td>0.447771</td>\n",
       "      <td>8.432926</td>\n",
       "      <td>0.427619</td>\n",
       "      <td>0.590554</td>\n",
       "      <td>0.037182</td>\n",
       "      <td>11.709927</td>\n",
       "      <td>6.618632</td>\n",
       "      <td>0.058830</td>\n",
       "      <td>0.458625</td>\n",
       "    </tr>\n",
       "    <tr>\n",
       "      <th>min</th>\n",
       "      <td>0.000000</td>\n",
       "      <td>2.437091</td>\n",
       "      <td>0.000000</td>\n",
       "      <td>0.000000</td>\n",
       "      <td>1.601176</td>\n",
       "      <td>0.000000</td>\n",
       "      <td>0.000000</td>\n",
       "      <td>0.000000</td>\n",
       "      <td>0.000000</td>\n",
       "      <td>6.373320</td>\n",
       "      <td>8.200566</td>\n",
       "    </tr>\n",
       "    <tr>\n",
       "      <th>25%</th>\n",
       "      <td>1.000000</td>\n",
       "      <td>2.615277</td>\n",
       "      <td>0.000000</td>\n",
       "      <td>25.434454</td>\n",
       "      <td>2.910520</td>\n",
       "      <td>2.609941</td>\n",
       "      <td>0.000000</td>\n",
       "      <td>34.100710</td>\n",
       "      <td>27.051743</td>\n",
       "      <td>6.568078</td>\n",
       "      <td>10.627725</td>\n",
       "    </tr>\n",
       "    <tr>\n",
       "      <th>50%</th>\n",
       "      <td>1.000000</td>\n",
       "      <td>2.633357</td>\n",
       "      <td>0.000000</td>\n",
       "      <td>30.716738</td>\n",
       "      <td>3.161123</td>\n",
       "      <td>2.894780</td>\n",
       "      <td>0.000000</td>\n",
       "      <td>40.940976</td>\n",
       "      <td>30.598434</td>\n",
       "      <td>6.598509</td>\n",
       "      <td>11.001888</td>\n",
       "    </tr>\n",
       "    <tr>\n",
       "      <th>75%</th>\n",
       "      <td>1.000000</td>\n",
       "      <td>2.647283</td>\n",
       "      <td>1.000000</td>\n",
       "      <td>35.992513</td>\n",
       "      <td>3.447729</td>\n",
       "      <td>3.352527</td>\n",
       "      <td>0.000000</td>\n",
       "      <td>48.143145</td>\n",
       "      <td>34.373352</td>\n",
       "      <td>6.621406</td>\n",
       "      <td>11.097190</td>\n",
       "    </tr>\n",
       "    <tr>\n",
       "      <th>max</th>\n",
       "      <td>1.000000</td>\n",
       "      <td>2.710361</td>\n",
       "      <td>1.000000</td>\n",
       "      <td>111.695141</td>\n",
       "      <td>4.893402</td>\n",
       "      <td>6.159637</td>\n",
       "      <td>0.107565</td>\n",
       "      <td>167.741866</td>\n",
       "      <td>167.814532</td>\n",
       "      <td>6.685861</td>\n",
       "      <td>15.605556</td>\n",
       "    </tr>\n",
       "  </tbody>\n",
       "</table>\n",
       "</div>"
      ],
      "text/plain": [
       "         Loan Status  Current Loan Amount           Term   Monthly Debt  \\\n",
       "count  111107.000000        111107.000000  111107.000000  111107.000000   \n",
       "mean        0.773435             2.633961       0.277507      30.683766   \n",
       "std         0.418611             0.036285       0.447771       8.432926   \n",
       "min         0.000000             2.437091       0.000000       0.000000   \n",
       "25%         1.000000             2.615277       0.000000      25.434454   \n",
       "50%         1.000000             2.633357       0.000000      30.716738   \n",
       "75%         1.000000             2.647283       1.000000      35.992513   \n",
       "max         1.000000             2.710361       1.000000     111.695141   \n",
       "\n",
       "       Years of Credit History  Number of Open Accounts  \\\n",
       "count            111107.000000            111107.000000   \n",
       "mean                  3.174099                 2.935393   \n",
       "std                   0.427619                 0.590554   \n",
       "min                   1.601176                 0.000000   \n",
       "25%                   2.910520                 2.609941   \n",
       "50%                   3.161123                 2.894780   \n",
       "75%                   3.447729                 3.352527   \n",
       "max                   4.893402                 6.159637   \n",
       "\n",
       "       Number of Credit Problems  Current Credit Balance  Maximum Open Credit  \\\n",
       "count              111107.000000           111107.000000        111107.000000   \n",
       "mean                    0.014951               41.172035            30.787729   \n",
       "std                     0.037182               11.709927             6.618632   \n",
       "min                     0.000000                0.000000             0.000000   \n",
       "25%                     0.000000               34.100710            27.051743   \n",
       "50%                     0.000000               40.940976            30.598434   \n",
       "75%                     0.000000               48.143145            34.373352   \n",
       "max                     0.107565              167.741866           167.814532   \n",
       "\n",
       "        Credit Score  Annual Income  \n",
       "count  111107.000000  111107.000000  \n",
       "mean        6.601425      10.892508  \n",
       "std         0.058830       0.458625  \n",
       "min         6.373320       8.200566  \n",
       "25%         6.568078      10.627725  \n",
       "50%         6.598509      11.001888  \n",
       "75%         6.621406      11.097190  \n",
       "max         6.685861      15.605556  "
      ]
     },
     "execution_count": 46,
     "metadata": {},
     "output_type": "execute_result"
    }
   ],
   "source": [
    "result.describe()"
   ]
  },
  {
   "cell_type": "markdown",
   "metadata": {},
   "source": [
    "### Data Preprocessing"
   ]
  },
  {
   "cell_type": "markdown",
   "metadata": {},
   "source": [
    "Data preprocessing is done to enhance the quality of data to promote extraction of meaningful insights from the data.\n",
    "In simple words, cleaning and organizing the raw data to make it suitable for building and training machine learning models.\n",
    "Data preprocessing in machine learning is a data mining technique that transforms raw data into an understandable and readable format."
   ]
  },
  {
   "cell_type": "markdown",
   "metadata": {},
   "source": [
    "Here Data Preprocessing is going to be done through each columns"
   ]
  },
  {
   "cell_type": "markdown",
   "metadata": {},
   "source": [
    "Checking for Outliers"
   ]
  },
  {
   "cell_type": "code",
   "execution_count": 47,
   "metadata": {},
   "outputs": [
    {
     "data": {
      "image/png": "[encoded data removed]",
      "text/plain": [
       "<Figure size 432x288 with 1 Axes>"
      ]
     },
     "metadata": {
      "needs_background": "light"
     },
     "output_type": "display_data"
    },
    {
     "data": {
      "image/png": "[encoded data removed]",
      "text/plain": [
       "<Figure size 432x288 with 1 Axes>"
      ]
     },
     "metadata": {
      "needs_background": "light"
     },
     "output_type": "display_data"
    },
    {
     "data": {
      "image/png": "[encoded data removed]",
      "text/plain": [
       "<Figure size 432x288 with 1 Axes>"
      ]
     },
     "metadata": {
      "needs_background": "light"
     },
     "output_type": "display_data"
    },
    {
     "data": {
      "image/png": "[encoded data removed]",
      "text/plain": [
       "<Figure size 432x288 with 1 Axes>"
      ]
     },
     "metadata": {
      "needs_background": "light"
     },
     "output_type": "display_data"
    },
    {
     "data": {
      "image/png": "[encoded data removed]",
      "text/plain": [
       "<Figure size 432x288 with 1 Axes>"
      ]
     },
     "metadata": {
      "needs_background": "light"
     },
     "output_type": "display_data"
    },
    {
     "data": {
      "image/png": "[encoded data removed]",
      "text/plain": [
       "<Figure size 432x288 with 1 Axes>"
      ]
     },
     "metadata": {
      "needs_background": "light"
     },
     "output_type": "display_data"
    },
    {
     "data": {
      "image/png": "[encoded data removed]",
      "text/plain": [
       "<Figure size 432x288 with 1 Axes>"
      ]
     },
     "metadata": {
      "needs_background": "light"
     },
     "output_type": "display_data"
    },
    {
     "data": {
      "image/png": "[encoded data removed]",
      "text/plain": [
       "<Figure size 432x288 with 1 Axes>"
      ]
     },
     "metadata": {
      "needs_background": "light"
     },
     "output_type": "display_data"
    },
    {
     "data": {
      "image/png": "[encoded data removed]",
      "text/plain": [
       "<Figure size 432x288 with 1 Axes>"
      ]
     },
     "metadata": {
      "needs_background": "light"
     },
     "output_type": "display_data"
    }
   ],
   "source": [
    "for col in num_cols1:\n",
    "    sns.boxplot(dfb[col])\n",
    "    plt.show()"
   ]
  },
  {
   "cell_type": "code",
   "execution_count": 48,
   "metadata": {},
   "outputs": [
    {
     "data": {
      "image/png": "[encoded data removed]",
      "text/plain": [
       "<Figure size 432x288 with 1 Axes>"
      ]
     },
     "metadata": {
      "needs_background": "light"
     },
     "output_type": "display_data"
    },
    {
     "data": {
      "image/png": "[encoded data removed]",
      "text/plain": [
       "<Figure size 432x288 with 1 Axes>"
      ]
     },
     "metadata": {
      "needs_background": "light"
     },
     "output_type": "display_data"
    },
    {
     "data": {
      "image/png": "[encoded data removed]",
      "text/plain": [
       "<Figure size 432x288 with 1 Axes>"
      ]
     },
     "metadata": {
      "needs_background": "light"
     },
     "output_type": "display_data"
    },
    {
     "data": {
      "image/png": "[encoded data removed]",
      "text/plain": [
       "<Figure size 432x288 with 1 Axes>"
      ]
     },
     "metadata": {
      "needs_background": "light"
     },
     "output_type": "display_data"
    },
    {
     "data": {
      "image/png": "[encoded data removed]",
      "text/plain": [
       "<Figure size 432x288 with 1 Axes>"
      ]
     },
     "metadata": {
      "needs_background": "light"
     },
     "output_type": "display_data"
    },
    {
     "data": {
      "image/png": "[encoded data removed]",
      "text/plain": [
       "<Figure size 432x288 with 1 Axes>"
      ]
     },
     "metadata": {
      "needs_background": "light"
     },
     "output_type": "display_data"
    },
    {
     "data": {
      "image/png": "[encoded data removed]",
      "text/plain": [
       "<Figure size 432x288 with 1 Axes>"
      ]
     },
     "metadata": {
      "needs_background": "light"
     },
     "output_type": "display_data"
    },
    {
     "data": {
      "image/png": "[encoded data removed]",
      "text/plain": [
       "<Figure size 432x288 with 1 Axes>"
      ]
     },
     "metadata": {
      "needs_background": "light"
     },
     "output_type": "display_data"
    },
    {
     "data": {
      "image/png": "[encoded data removed]",
      "text/plain": [
       "<Figure size 432x288 with 1 Axes>"
      ]
     },
     "metadata": {
      "needs_background": "light"
     },
     "output_type": "display_data"
    }
   ],
   "source": [
    "for col in num_cols1:\n",
    "    sns.boxplot(result[col])\n",
    "    plt.show()"
   ]
  },
  {
   "cell_type": "code",
   "execution_count": 49,
   "metadata": {},
   "outputs": [],
   "source": [
    "from scipy.stats import shapiro , levene , mannwhitneyu , chi2_contingency , chisquare\n",
    "from scipy.stats import ttest_1samp,ttest_ind,wilcoxon"
   ]
  },
  {
   "cell_type": "code",
   "execution_count": 50,
   "metadata": {},
   "outputs": [],
   "source": [
    "cat_cols=['Years in current job','Home Ownership','Purpose','Tax Liens','Term','Bankruptcies']"
   ]
  },
  {
   "cell_type": "code",
   "execution_count": 51,
   "metadata": {},
   "outputs": [],
   "source": [
    "chi_stat=[]\n",
    "p_value=[]\n",
    "for i in cat_cols:\n",
    "    chi_res=stats.chi2_contingency(np.array(pd.crosstab(result[i],result['Loan Status'])))\n",
    "    chi_stat.append(chi_res[0])\n",
    "    p_value.append(chi_res[1])"
   ]
  },
  {
   "cell_type": "code",
   "execution_count": 52,
   "metadata": {},
   "outputs": [
    {
     "data": {
      "text/plain": [
       "[4.839283790867385e-05,\n",
       " 1.5373178904528492e-67,\n",
       " 7.300080869073768e-36,\n",
       " 0.025847191259009597,\n",
       " 5.275922191927291e-291,\n",
       " 0.28626320187784615]"
      ]
     },
     "execution_count": 52,
     "metadata": {},
     "output_type": "execute_result"
    }
   ],
   "source": [
    "p_value"
   ]
  },
  {
   "cell_type": "markdown",
   "metadata": {},
   "source": [
    "From the chi square test and from the above pvalues the pvalue of 'Bankruptcies' > 0.05 hence it is not significant feature apart from that all other categorical variables are significant since there pvalue is lesser than 0.05"
   ]
  },
  {
   "cell_type": "code",
   "execution_count": 53,
   "metadata": {},
   "outputs": [
    {
     "data": {
      "text/plain": [
       "Index(['Loan Status', 'Current Loan Amount', 'Term', 'Years in current job',\n",
       "       'Home Ownership', 'Purpose', 'Monthly Debt', 'Years of Credit History',\n",
       "       'Number of Open Accounts', 'Number of Credit Problems',\n",
       "       'Current Credit Balance', 'Maximum Open Credit', 'Bankruptcies',\n",
       "       'Tax Liens', 'Credit Score', 'Annual Income'],\n",
       "      dtype='object')"
      ]
     },
     "execution_count": 53,
     "metadata": {},
     "output_type": "execute_result"
    }
   ],
   "source": [
    "result.columns"
   ]
  },
  {
   "cell_type": "markdown",
   "metadata": {},
   "source": [
    "#### Statistical tests for Numerical variables"
   ]
  },
  {
   "cell_type": "code",
   "execution_count": 54,
   "metadata": {},
   "outputs": [
    {
     "name": "stdout",
     "output_type": "stream",
     "text": [
      "(0.9146707057952881, 0.0)\n",
      "Since p < 0.05, we reject Ho. Hence, the distribution followed is not normal.\n",
      "MannwhitneyuResult(statistic=975312301.5, pvalue=3.4888300978058134e-125)\n",
      "Since p < 0.05, we reject Ho. Hence, we can conclude that the Current Loan Amount is significant.\n",
      "\n",
      "\n",
      "(0.9233394265174866, 0.0)\n",
      "Since p < 0.05, we reject Ho. Hence, the distribution followed is not normal.\n",
      "MannwhitneyuResult(statistic=868843543.5, pvalue=0.0)\n",
      "Since p < 0.05, we reject Ho. Hence, we can conclude that the Credit Score is significant.\n",
      "\n",
      "\n",
      "(0.971626341342926, 0.0)\n",
      "Since p < 0.05, we reject Ho. Hence, the distribution followed is not normal.\n",
      "MannwhitneyuResult(statistic=985920224.0, pvalue=1.963548080269194e-102)\n",
      "Since p < 0.05, we reject Ho. Hence, we can conclude that the Annual Income is significant.\n",
      "\n",
      "\n",
      "(0.9964699745178223, 7.003129205309706e-41)\n",
      "Since p < 0.05, we reject Ho. Hence, the distribution followed is not normal.\n",
      "MannwhitneyuResult(statistic=1063205158.0, pvalue=1.9607003018434183e-05)\n",
      "Since p < 0.05, we reject Ho. Hence, we can conclude that the Monthly Debt is significant.\n",
      "\n",
      "\n",
      "(0.9985778331756592, 1.9972767895490388e-27)\n",
      "Since p < 0.05, we reject Ho. Hence, the distribution followed is not normal.\n",
      "MannwhitneyuResult(statistic=1035340848.5, pvalue=2.3629846611856143e-25)\n",
      "Since p < 0.05, we reject Ho. Hence, we can conclude that the Years of Years of Credit History is significant.\n",
      "\n",
      "\n",
      "(0.9946415424346924, 0.0)\n",
      "Since p < 0.05, we reject Ho. Hence, the distribution followed is not normal.\n",
      "MannwhitneyuResult(statistic=1062001264.5, pvalue=5.624799296568255e-06)\n",
      "Since p < 0.05, we reject Ho. Hence, we can conclude that the Number of Open Accounts is significant.\n",
      "\n",
      "\n",
      "(0.4104177951812744, 0.0)\n",
      "Since p < 0.05, we reject Ho. Hence, the distribution followed is not normal.\n",
      "MannwhitneyuResult(statistic=1080798399.0, pvalue=0.3815394512303305)\n",
      "Since p < 0.05, we reject Ho. Hence, we can conclude that the Number of Credit Problems is insignificant.\n",
      "\n",
      "\n",
      "(0.978602409362793, 0.0)\n",
      "Since p < 0.05, we reject Ho. Hence, the distribution followed is not normal.\n",
      "MannwhitneyuResult(statistic=1068414660.5, pvalue=0.0015990161171079542)\n",
      "Since p < 0.05, we reject Ho. Hence, we can conclude that the Current Credit Balance is significant.\n",
      "\n",
      "\n",
      "(0.9147775769233704, 0.0)\n",
      "Since p < 0.05, we reject Ho. Hence, the distribution followed is not normal.\n",
      "MannwhitneyuResult(statistic=1025304155.0, pvalue=1.3464147616267887e-36)\n",
      "Since p < 0.05, we reject Ho. Hence, we can conclude that the Maximum Open Credit is significant.\n",
      "\n",
      "\n"
     ]
    }
   ],
   "source": [
    "no = result [ result [ \"Loan Status\" ] == 0 ] [ \"Current Loan Amount\" ]\n",
    "yes = result [ result [ \"Loan Status\" ] == 1 ] [ \"Current Loan Amount\" ]\n",
    "print ( shapiro ( result [ \"Current Loan Amount\" ] ) )\n",
    "print ( \"Since p < 0.05, we reject Ho. Hence, the distribution followed is not normal.\" )\n",
    "print ( mannwhitneyu ( no , yes ) )\n",
    "print ( \"Since p < 0.05, we reject Ho. Hence, we can conclude that the Current Loan Amount is significant.\" )\n",
    "print ( \"\\n\" )\n",
    "\n",
    "no = result [ result [ \"Loan Status\" ] == 0 ] [ \"Credit Score\" ]\n",
    "yes = result [ result [ \"Loan Status\" ] == 1 ] [ \"Credit Score\" ]\n",
    "print ( shapiro (result[ \"Credit Score\" ] ) )\n",
    "print ( \"Since p < 0.05, we reject Ho. Hence, the distribution followed is not normal.\" )\n",
    "print(mannwhitneyu ( no, yes))\n",
    "print ( \"Since p < 0.05, we reject Ho. Hence, we can conclude that the Credit Score is significant.\" )\n",
    "print ( \"\\n\" )\n",
    "\n",
    "no = result [ result [ \"Loan Status\" ] == 0 ] [ \"Annual Income\" ]\n",
    "yes = result [ result [ \"Loan Status\" ] == 1 ] [ \"Annual Income\" ]\n",
    "print ( shapiro ( result[ \"Annual Income\" ] ) )\n",
    "print ( \"Since p < 0.05, we reject Ho. Hence, the distribution followed is not normal.\" )\n",
    "print ( mannwhitneyu ( no , yes ) )\n",
    "print ( \"Since p < 0.05, we reject Ho. Hence, we can conclude that the Annual Income is significant.\" )\n",
    "print ( \"\\n\" )\n",
    "\n",
    "no = result [result [ \"Loan Status\" ] == 0 ] [ \"Monthly Debt\" ]\n",
    "yes = result [ result [ \"Loan Status\" ] == 1 ] [ \"Monthly Debt\" ]\n",
    "print ( shapiro ( result [ \"Monthly Debt\" ] ) )\n",
    "print ( \"Since p < 0.05, we reject Ho. Hence, the distribution followed is not normal.\" )\n",
    "print ( mannwhitneyu ( no , yes ) )\n",
    "print ( \"Since p < 0.05, we reject Ho. Hence, we can conclude that the Monthly Debt is significant.\" )\n",
    "print ( \"\\n\" )\n",
    "\n",
    "no = result [ result [ \"Loan Status\" ] == 0 ] [ \"Years of Credit History\" ]\n",
    "yes = result [ result [ \"Loan Status\" ] == 1 ] [ \"Years of Credit History\" ]\n",
    "print ( shapiro ( result [ \"Years of Credit History\" ] ) )\n",
    "print ( \"Since p < 0.05, we reject Ho. Hence, the distribution followed is not normal.\" )\n",
    "print ( mannwhitneyu ( no , yes ) )\n",
    "print ( \"Since p < 0.05, we reject Ho. Hence, we can conclude that the Years of Years of Credit History is significant.\" )\n",
    "print ( \"\\n\" )\n",
    "\n",
    "no = result [ result [ \"Loan Status\" ] == 0 ] [ \"Number of Open Accounts\" ]\n",
    "yes = result [ result [ \"Loan Status\" ] == 1 ] [ \"Number of Open Accounts\" ]\n",
    "print ( shapiro ( result [ \"Number of Open Accounts\" ] ) )\n",
    "print ( \"Since p < 0.05, we reject Ho. Hence, the distribution followed is not normal.\" )\n",
    "print ( mannwhitneyu ( no , yes ) )\n",
    "print ( \"Since p < 0.05, we reject Ho. Hence, we can conclude that the Number of Open Accounts is significant.\" )\n",
    "print ( \"\\n\" )\n",
    "\n",
    "\n",
    "no = result [ result [ \"Loan Status\" ] == 0 ] [ 'Number of Credit Problems' ]\n",
    "yes = result [ result [ \"Loan Status\" ] == 1 ] [ 'Number of Credit Problems' ]\n",
    "print ( shapiro ( result [ 'Number of Credit Problems' ] ) )\n",
    "print ( \"Since p < 0.05, we reject Ho. Hence, the distribution followed is not normal.\" )\n",
    "print ( mannwhitneyu ( no , yes ) )\n",
    "print ( \"Since p < 0.05, we reject Ho. Hence, we can conclude that the Number of Credit Problems is insignificant.\" )\n",
    "print ( \"\\n\" )\n",
    "\n",
    "\n",
    "no = result [ result [ \"Loan Status\" ] == 0 ] [ \"Current Credit Balance\" ]\n",
    "yes = result [ result [ \"Loan Status\" ] == 1 ] [ \"Current Credit Balance\" ]\n",
    "print ( shapiro ( result [ \"Current Credit Balance\" ] ) )\n",
    "print ( \"Since p < 0.05, we reject Ho. Hence, the distribution followed is not normal.\" )\n",
    "print ( mannwhitneyu ( no , yes ) )\n",
    "print ( \"Since p < 0.05, we reject Ho. Hence, we can conclude that the Current Credit Balance is significant.\" )\n",
    "print ( \"\\n\" )\n",
    "\n",
    "no = result [ result [ \"Loan Status\" ] == 0 ] [ \"Maximum Open Credit\" ]\n",
    "yes = result [ result [ \"Loan Status\" ] == 1 ] [ \"Maximum Open Credit\" ]\n",
    "print ( shapiro ( result [ \"Maximum Open Credit\" ] ) )\n",
    "print ( \"Since p < 0.05, we reject Ho. Hence, the distribution followed is not normal.\" )\n",
    "print ( mannwhitneyu ( no , yes ) )\n",
    "print ( \"Since p < 0.05, we reject Ho. Hence, we can conclude that the Maximum Open Credit is significant.\" )\n",
    "print ( \"\\n\" )"
   ]
  },
  {
   "cell_type": "markdown",
   "metadata": {},
   "source": [
    "Here we could infer that all numerical columns are significant"
   ]
  },
  {
   "cell_type": "code",
   "execution_count": 55,
   "metadata": {},
   "outputs": [
    {
     "data": {
      "image/png": "[encoded data removed]",
      "text/plain": [
       "<Figure size 1800x720 with 2 Axes>"
      ]
     },
     "metadata": {
      "needs_background": "light"
     },
     "output_type": "display_data"
    }
   ],
   "source": [
    "plt.figure(figsize=(25, 10))\n",
    "sns.heatmap(result.corr(), cbar = True,  square = True, annot=True, fmt= '.2f',annot_kws={'size': 15},\n",
    "           cmap= 'coolwarm')\n",
    "plt.title('Correlation between features');"
   ]
  },
  {
   "cell_type": "code",
   "execution_count": 56,
   "metadata": {},
   "outputs": [],
   "source": [
    "dfff=pd.get_dummies(data=result,columns=['Years in current job','Home Ownership','Purpose','Tax Liens'],drop_first=True)"
   ]
  },
  {
   "cell_type": "code",
   "execution_count": 57,
   "metadata": {},
   "outputs": [
    {
     "data": {
      "text/html": [
       "<div>\n",
       "<style scoped>\n",
       "    .dataframe tbody tr th:only-of-type {\n",
       "        vertical-align: middle;\n",
       "    }\n",
       "\n",
       "    .dataframe tbody tr th {\n",
       "        vertical-align: top;\n",
       "    }\n",
       "\n",
       "    .dataframe thead th {\n",
       "        text-align: right;\n",
       "    }\n",
       "</style>\n",
       "<table border=\"1\" class=\"dataframe\">\n",
       "  <thead>\n",
       "    <tr style=\"text-align: right;\">\n",
       "      <th></th>\n",
       "      <th>Loan Status</th>\n",
       "      <th>Current Loan Amount</th>\n",
       "      <th>Term</th>\n",
       "      <th>Monthly Debt</th>\n",
       "      <th>Years of Credit History</th>\n",
       "      <th>Number of Open Accounts</th>\n",
       "      <th>Number of Credit Problems</th>\n",
       "      <th>Current Credit Balance</th>\n",
       "      <th>Maximum Open Credit</th>\n",
       "      <th>Bankruptcies</th>\n",
       "      <th>...</th>\n",
       "      <th>Tax Liens_3.0</th>\n",
       "      <th>Tax Liens_4.0</th>\n",
       "      <th>Tax Liens_5.0</th>\n",
       "      <th>Tax Liens_6.0</th>\n",
       "      <th>Tax Liens_7.0</th>\n",
       "      <th>Tax Liens_8.0</th>\n",
       "      <th>Tax Liens_9.0</th>\n",
       "      <th>Tax Liens_10.0</th>\n",
       "      <th>Tax Liens_11.0</th>\n",
       "      <th>Tax Liens_15.0</th>\n",
       "    </tr>\n",
       "  </thead>\n",
       "  <tbody>\n",
       "    <tr>\n",
       "      <th>0</th>\n",
       "      <td>0</td>\n",
       "      <td>2.628870</td>\n",
       "      <td>0</td>\n",
       "      <td>29.582577</td>\n",
       "      <td>3.232674</td>\n",
       "      <td>3.138639</td>\n",
       "      <td>0.000000</td>\n",
       "      <td>35.489959</td>\n",
       "      <td>24.372832</td>\n",
       "      <td>0</td>\n",
       "      <td>...</td>\n",
       "      <td>0</td>\n",
       "      <td>0</td>\n",
       "      <td>0</td>\n",
       "      <td>0</td>\n",
       "      <td>0</td>\n",
       "      <td>0</td>\n",
       "      <td>0</td>\n",
       "      <td>0</td>\n",
       "      <td>0</td>\n",
       "      <td>0</td>\n",
       "    </tr>\n",
       "    <tr>\n",
       "      <th>1</th>\n",
       "      <td>0</td>\n",
       "      <td>2.648463</td>\n",
       "      <td>1</td>\n",
       "      <td>31.284662</td>\n",
       "      <td>3.691188</td>\n",
       "      <td>3.352527</td>\n",
       "      <td>0.000000</td>\n",
       "      <td>57.337438</td>\n",
       "      <td>40.890921</td>\n",
       "      <td>0</td>\n",
       "      <td>...</td>\n",
       "      <td>0</td>\n",
       "      <td>0</td>\n",
       "      <td>0</td>\n",
       "      <td>0</td>\n",
       "      <td>0</td>\n",
       "      <td>0</td>\n",
       "      <td>0</td>\n",
       "      <td>0</td>\n",
       "      <td>0</td>\n",
       "      <td>0</td>\n",
       "    </tr>\n",
       "    <tr>\n",
       "      <th>2</th>\n",
       "      <td>0</td>\n",
       "      <td>2.637041</td>\n",
       "      <td>0</td>\n",
       "      <td>35.778495</td>\n",
       "      <td>3.147673</td>\n",
       "      <td>3.021021</td>\n",
       "      <td>0.107394</td>\n",
       "      <td>41.206149</td>\n",
       "      <td>28.177362</td>\n",
       "      <td>1</td>\n",
       "      <td>...</td>\n",
       "      <td>0</td>\n",
       "      <td>0</td>\n",
       "      <td>0</td>\n",
       "      <td>0</td>\n",
       "      <td>0</td>\n",
       "      <td>0</td>\n",
       "      <td>0</td>\n",
       "      <td>0</td>\n",
       "      <td>0</td>\n",
       "      <td>0</td>\n",
       "    </tr>\n",
       "    <tr>\n",
       "      <th>3</th>\n",
       "      <td>0</td>\n",
       "      <td>2.627516</td>\n",
       "      <td>0</td>\n",
       "      <td>32.644751</td>\n",
       "      <td>2.586833</td>\n",
       "      <td>3.948466</td>\n",
       "      <td>0.000000</td>\n",
       "      <td>35.866201</td>\n",
       "      <td>35.955078</td>\n",
       "      <td>0</td>\n",
       "      <td>...</td>\n",
       "      <td>0</td>\n",
       "      <td>0</td>\n",
       "      <td>0</td>\n",
       "      <td>0</td>\n",
       "      <td>0</td>\n",
       "      <td>0</td>\n",
       "      <td>0</td>\n",
       "      <td>0</td>\n",
       "      <td>0</td>\n",
       "      <td>0</td>\n",
       "    </tr>\n",
       "    <tr>\n",
       "      <th>4</th>\n",
       "      <td>0</td>\n",
       "      <td>2.621635</td>\n",
       "      <td>1</td>\n",
       "      <td>24.756381</td>\n",
       "      <td>3.147673</td>\n",
       "      <td>3.248823</td>\n",
       "      <td>0.107394</td>\n",
       "      <td>46.326224</td>\n",
       "      <td>30.026383</td>\n",
       "      <td>1</td>\n",
       "      <td>...</td>\n",
       "      <td>0</td>\n",
       "      <td>0</td>\n",
       "      <td>0</td>\n",
       "      <td>0</td>\n",
       "      <td>0</td>\n",
       "      <td>0</td>\n",
       "      <td>0</td>\n",
       "      <td>0</td>\n",
       "      <td>0</td>\n",
       "      <td>0</td>\n",
       "    </tr>\n",
       "  </tbody>\n",
       "</table>\n",
       "<p>5 rows × 51 columns</p>\n",
       "</div>"
      ],
      "text/plain": [
       "   Loan Status  Current Loan Amount  Term  Monthly Debt  \\\n",
       "0            0             2.628870     0     29.582577   \n",
       "1            0             2.648463     1     31.284662   \n",
       "2            0             2.637041     0     35.778495   \n",
       "3            0             2.627516     0     32.644751   \n",
       "4            0             2.621635     1     24.756381   \n",
       "\n",
       "   Years of Credit History  Number of Open Accounts  \\\n",
       "0                 3.232674                 3.138639   \n",
       "1                 3.691188                 3.352527   \n",
       "2                 3.147673                 3.021021   \n",
       "3                 2.586833                 3.948466   \n",
       "4                 3.147673                 3.248823   \n",
       "\n",
       "   Number of Credit Problems  Current Credit Balance  Maximum Open Credit  \\\n",
       "0                   0.000000               35.489959            24.372832   \n",
       "1                   0.000000               57.337438            40.890921   \n",
       "2                   0.107394               41.206149            28.177362   \n",
       "3                   0.000000               35.866201            35.955078   \n",
       "4                   0.107394               46.326224            30.026383   \n",
       "\n",
       "  Bankruptcies  ...  Tax Liens_3.0  Tax Liens_4.0  Tax Liens_5.0  \\\n",
       "0            0  ...              0              0              0   \n",
       "1            0  ...              0              0              0   \n",
       "2            1  ...              0              0              0   \n",
       "3            0  ...              0              0              0   \n",
       "4            1  ...              0              0              0   \n",
       "\n",
       "   Tax Liens_6.0  Tax Liens_7.0  Tax Liens_8.0  Tax Liens_9.0  Tax Liens_10.0  \\\n",
       "0              0              0              0              0               0   \n",
       "1              0              0              0              0               0   \n",
       "2              0              0              0              0               0   \n",
       "3              0              0              0              0               0   \n",
       "4              0              0              0              0               0   \n",
       "\n",
       "   Tax Liens_11.0  Tax Liens_15.0  \n",
       "0               0               0  \n",
       "1               0               0  \n",
       "2               0               0  \n",
       "3               0               0  \n",
       "4               0               0  \n",
       "\n",
       "[5 rows x 51 columns]"
      ]
     },
     "execution_count": 57,
     "metadata": {},
     "output_type": "execute_result"
    }
   ],
   "source": [
    "dfff.head()"
   ]
  },
  {
   "cell_type": "code",
   "execution_count": 58,
   "metadata": {},
   "outputs": [
    {
     "data": {
      "text/plain": [
       "(111107, 51)"
      ]
     },
     "execution_count": 58,
     "metadata": {},
     "output_type": "execute_result"
    }
   ],
   "source": [
    "dfff.shape"
   ]
  },
  {
   "cell_type": "code",
   "execution_count": 59,
   "metadata": {},
   "outputs": [
    {
     "name": "stdout",
     "output_type": "stream",
     "text": [
      "<class 'pandas.core.frame.DataFrame'>\n",
      "RangeIndex: 111107 entries, 0 to 111106\n",
      "Data columns (total 51 columns):\n",
      " #   Column                          Non-Null Count   Dtype  \n",
      "---  ------                          --------------   -----  \n",
      " 0   Loan Status                     111107 non-null  int64  \n",
      " 1   Current Loan Amount             111107 non-null  float64\n",
      " 2   Term                            111107 non-null  int64  \n",
      " 3   Monthly Debt                    111107 non-null  float64\n",
      " 4   Years of Credit History         111107 non-null  float64\n",
      " 5   Number of Open Accounts         111107 non-null  float64\n",
      " 6   Number of Credit Problems       111107 non-null  float64\n",
      " 7   Current Credit Balance          111107 non-null  float64\n",
      " 8   Maximum Open Credit             111107 non-null  float64\n",
      " 9   Bankruptcies                    111107 non-null  object \n",
      " 10  Credit Score                    111107 non-null  float64\n",
      " 11  Annual Income                   111107 non-null  float64\n",
      " 12  Years in current job_10+ years  111107 non-null  uint8  \n",
      " 13  Years in current job_2 years    111107 non-null  uint8  \n",
      " 14  Years in current job_3 years    111107 non-null  uint8  \n",
      " 15  Years in current job_4 years    111107 non-null  uint8  \n",
      " 16  Years in current job_5 years    111107 non-null  uint8  \n",
      " 17  Years in current job_6 years    111107 non-null  uint8  \n",
      " 18  Years in current job_7 years    111107 non-null  uint8  \n",
      " 19  Years in current job_8 years    111107 non-null  uint8  \n",
      " 20  Years in current job_9 years    111107 non-null  uint8  \n",
      " 21  Years in current job_< 1 year   111107 non-null  uint8  \n",
      " 22  Home Ownership_Home Mortgage    111107 non-null  uint8  \n",
      " 23  Home Ownership_Own Home         111107 non-null  uint8  \n",
      " 24  Home Ownership_Rent             111107 non-null  uint8  \n",
      " 25  Purpose_Buy House               111107 non-null  uint8  \n",
      " 26  Purpose_Buy a Car               111107 non-null  uint8  \n",
      " 27  Purpose_Debt Consolidation      111107 non-null  uint8  \n",
      " 28  Purpose_Educational Expenses    111107 non-null  uint8  \n",
      " 29  Purpose_Home Improvements       111107 non-null  uint8  \n",
      " 30  Purpose_Medical Bills           111107 non-null  uint8  \n",
      " 31  Purpose_Other                   111107 non-null  uint8  \n",
      " 32  Purpose_Take a Trip             111107 non-null  uint8  \n",
      " 33  Purpose_major_purchase          111107 non-null  uint8  \n",
      " 34  Purpose_moving                  111107 non-null  uint8  \n",
      " 35  Purpose_renewable_energy        111107 non-null  uint8  \n",
      " 36  Purpose_small_business          111107 non-null  uint8  \n",
      " 37  Purpose_vacation                111107 non-null  uint8  \n",
      " 38  Purpose_wedding                 111107 non-null  uint8  \n",
      " 39  Tax Liens_1.0                   111107 non-null  uint8  \n",
      " 40  Tax Liens_2.0                   111107 non-null  uint8  \n",
      " 41  Tax Liens_3.0                   111107 non-null  uint8  \n",
      " 42  Tax Liens_4.0                   111107 non-null  uint8  \n",
      " 43  Tax Liens_5.0                   111107 non-null  uint8  \n",
      " 44  Tax Liens_6.0                   111107 non-null  uint8  \n",
      " 45  Tax Liens_7.0                   111107 non-null  uint8  \n",
      " 46  Tax Liens_8.0                   111107 non-null  uint8  \n",
      " 47  Tax Liens_9.0                   111107 non-null  uint8  \n",
      " 48  Tax Liens_10.0                  111107 non-null  uint8  \n",
      " 49  Tax Liens_11.0                  111107 non-null  uint8  \n",
      " 50  Tax Liens_15.0                  111107 non-null  uint8  \n",
      "dtypes: float64(9), int64(2), object(1), uint8(39)\n",
      "memory usage: 14.3+ MB\n"
     ]
    }
   ],
   "source": [
    "dfff.info()"
   ]
  },
  {
   "cell_type": "code",
   "execution_count": 60,
   "metadata": {},
   "outputs": [],
   "source": [
    "from sklearn.model_selection import train_test_split\n",
    "X=dfff.drop(['Loan Status','Bankruptcies'],axis=1)\n",
    "y=dfff['Loan Status']\n",
    "X_train , X_test , y_train , y_test = train_test_split(X,y,test_size=0.3,random_state=3)"
   ]
  },
  {
   "cell_type": "code",
   "execution_count": 61,
   "metadata": {},
   "outputs": [
    {
     "name": "stdout",
     "output_type": "stream",
     "text": [
      "Warning: Maximum number of iterations has been exceeded.\n",
      "         Current function value: 0.491150\n",
      "         Iterations: 35\n",
      "                                     Results: Logit\n",
      "========================================================================================\n",
      "Model:                       Logit                   Pseudo R-squared:        0.080     \n",
      "Dependent Variable:          Loan Status             AIC:                     76495.3837\n",
      "Date:                        2020-08-27 19:15        BIC:                     76949.2002\n",
      "No. Observations:            77774                   Log-Likelihood:          -38199.   \n",
      "Df Model:                    48                      LL-Null:                 -41543.   \n",
      "Df Residuals:                77725                   LLR p-value:             0.0000    \n",
      "Converged:                   0.0000                  Scale:                   1.0000    \n",
      "No. Iterations:              35.0000                                                    \n",
      "----------------------------------------------------------------------------------------\n",
      "                                Coef.   Std.Err.     z     P>|z|     [0.025     0.975]  \n",
      "----------------------------------------------------------------------------------------\n",
      "Current Loan Amount            13.9800     0.2511  55.6738 0.0000     13.4878    14.4721\n",
      "Term                           -1.0473     0.0211 -49.7236 0.0000     -1.0886    -1.0060\n",
      "Monthly Debt                   -0.0216     0.0016 -13.5944 0.0000     -0.0247    -0.0185\n",
      "Years of Credit History         0.1344     0.0231   5.8222 0.0000      0.0892     0.1797\n",
      "Number of Open Accounts        -0.1551     0.0188  -8.2542 0.0000     -0.1920    -0.1183\n",
      "Number of Credit Problems       0.0966     0.2666   0.3622 0.7172     -0.4260     0.6191\n",
      "Current Credit Balance         -0.0252     0.0015 -16.9574 0.0000     -0.0282    -0.0223\n",
      "Maximum Open Credit             0.0444     0.0026  17.0668 0.0000      0.0393     0.0495\n",
      "Credit Score                   -6.4555     0.1031 -62.5953 0.0000     -6.6577    -6.2534\n",
      "Annual Income                   0.5885     0.0260  22.6621 0.0000      0.5376     0.6394\n",
      "Years in current job_10+ years  0.1691     0.0316   5.3559 0.0000      0.1072     0.2310\n",
      "Years in current job_2 years    0.2438     0.0402   6.0702 0.0000      0.1651     0.3226\n",
      "Years in current job_3 years    0.2715     0.0416   6.5319 0.0000      0.1900     0.3529\n",
      "Years in current job_4 years    0.1854     0.0451   4.1124 0.0000      0.0970     0.2737\n",
      "Years in current job_5 years    0.1882     0.0436   4.3200 0.0000      0.1028     0.2736\n",
      "Years in current job_6 years    0.1113     0.0459   2.4251 0.0153      0.0213     0.2012\n",
      "Years in current job_7 years    0.1759     0.0468   3.7616 0.0002      0.0842     0.2675\n",
      "Years in current job_8 years    0.1258     0.0493   2.5502 0.0108      0.0291     0.2226\n",
      "Years in current job_9 years    0.0720     0.0520   1.3849 0.1661     -0.0299     0.1740\n",
      "Years in current job_< 1 year   0.1606     0.0409   3.9235 0.0001      0.0804     0.2409\n",
      "Home Ownership_Home Mortgage    0.6309     0.2601   2.4257 0.0153      0.1211     1.1407\n",
      "Home Ownership_Own Home         0.4903     0.2609   1.8793 0.0602     -0.0210     1.0016\n",
      "Home Ownership_Rent             0.3814     0.2593   1.4708 0.1413     -0.1269     0.8897\n",
      "Purpose_Buy House               0.6285     0.1315   4.7781 0.0000      0.3707     0.8864\n",
      "Purpose_Buy a Car               1.3220     0.1110  11.9138 0.0000      1.1045     1.5395\n",
      "Purpose_Debt Consolidation      0.7450     0.0671  11.1101 0.0000      0.6135     0.8764\n",
      "Purpose_Educational Expenses    1.4173     0.3391   4.1793 0.0000      0.7526     2.0820\n",
      "Purpose_Home Improvements       0.7492     0.0769   9.7463 0.0000      0.5985     0.8999\n",
      "Purpose_Medical Bills           0.6538     0.1049   6.2304 0.0000      0.4481     0.8595\n",
      "Purpose_Other                   0.8834     0.0726  12.1746 0.0000      0.7412     1.0256\n",
      "Purpose_Take a Trip             1.4446     0.1790   8.0696 0.0000      1.0937     1.7955\n",
      "Purpose_major_purchase          0.6560     0.1627   4.0330 0.0001      0.3372     0.9748\n",
      "Purpose_moving                  0.4103     0.2308   1.7773 0.0755     -0.0422     0.8627\n",
      "Purpose_renewable_energy        0.1775     0.7871   0.2255 0.8216     -1.3652     1.7202\n",
      "Purpose_small_business         -0.5776     0.1617  -3.5708 0.0004     -0.8946    -0.2605\n",
      "Purpose_vacation                0.7503     0.2818   2.6626 0.0078      0.1980     1.3026\n",
      "Purpose_wedding                 0.6820     0.2836   2.4046 0.0162      0.1261     1.2378\n",
      "Tax Liens_1.0                  -0.2382     0.0811  -2.9386 0.0033     -0.3971    -0.0793\n",
      "Tax Liens_2.0                  -0.2441     0.1440  -1.6945 0.0902     -0.5264     0.0382\n",
      "Tax Liens_3.0                  -0.5594     0.2535  -2.2068 0.0273     -1.0562    -0.0626\n",
      "Tax Liens_4.0                  -0.5021     0.3566  -1.4081 0.1591     -1.2010     0.1968\n",
      "Tax Liens_5.0                  -1.2232     0.6572  -1.8612 0.0627     -2.5112     0.0649\n",
      "Tax Liens_6.0                   0.5408     1.1030   0.4902 0.6240     -1.6212     2.7027\n",
      "Tax Liens_7.0                  -2.0285     1.0355  -1.9590 0.0501     -4.0580     0.0010\n",
      "Tax Liens_8.0                  18.9701 39350.9556   0.0005 0.9996 -77107.4857 77145.4258\n",
      "Tax Liens_9.0                  -0.9930     1.2662  -0.7843 0.4329     -3.4747     1.4886\n",
      "Tax Liens_10.0                 19.1804 39371.8155   0.0005 0.9996 -77148.1601 77186.5208\n",
      "Tax Liens_11.0                 18.9282 39326.0835   0.0005 0.9996 -77058.7792 77096.6356\n",
      "Tax Liens_15.0                 19.3148 39394.9824   0.0005 0.9996 -77193.4319 77232.0615\n",
      "========================================================================================\n",
      "\n"
     ]
    }
   ],
   "source": [
    "import statsmodels.api as sm\n",
    "logit_model=sm.Logit(y_train,X_train)\n",
    "result=logit_model.fit()\n",
    "print(result.summary2())"
   ]
  },
  {
   "cell_type": "code",
   "execution_count": 62,
   "metadata": {},
   "outputs": [
    {
     "name": "stdout",
     "output_type": "stream",
     "text": [
      "                 Generalized Linear Model Regression Results                  \n",
      "==============================================================================\n",
      "Dep. Variable:            Loan Status   No. Observations:                77774\n",
      "Model:                            GLM   Df Residuals:                    77725\n",
      "Model Family:                Binomial   Df Model:                           48\n",
      "Link Function:                  logit   Scale:                          1.0000\n",
      "Method:                          IRLS   Log-Likelihood:                -38199.\n",
      "Date:                Thu, 27 Aug 2020   Deviance:                       76397.\n",
      "Time:                        19:15:38   Pearson chi2:                 7.67e+04\n",
      "No. Iterations:                    24                                         \n",
      "Covariance Type:            nonrobust                                         \n",
      "==================================================================================================\n",
      "                                     coef    std err          z      P>|z|      [0.025      0.975]\n",
      "--------------------------------------------------------------------------------------------------\n",
      "Current Loan Amount               13.9800      0.251     55.674      0.000      13.488      14.472\n",
      "Term                              -1.0473      0.021    -49.724      0.000      -1.089      -1.006\n",
      "Monthly Debt                      -0.0216      0.002    -13.594      0.000      -0.025      -0.018\n",
      "Years of Credit History            0.1344      0.023      5.822      0.000       0.089       0.180\n",
      "Number of Open Accounts           -0.1551      0.019     -8.254      0.000      -0.192      -0.118\n",
      "Number of Credit Problems          0.0966      0.267      0.362      0.717      -0.426       0.619\n",
      "Current Credit Balance            -0.0252      0.001    -16.957      0.000      -0.028      -0.022\n",
      "Maximum Open Credit                0.0444      0.003     17.067      0.000       0.039       0.050\n",
      "Credit Score                      -6.4555      0.103    -62.595      0.000      -6.658      -6.253\n",
      "Annual Income                      0.5885      0.026     22.662      0.000       0.538       0.639\n",
      "Years in current job_10+ years     0.1691      0.032      5.356      0.000       0.107       0.231\n",
      "Years in current job_2 years       0.2438      0.040      6.070      0.000       0.165       0.323\n",
      "Years in current job_3 years       0.2715      0.042      6.532      0.000       0.190       0.353\n",
      "Years in current job_4 years       0.1854      0.045      4.112      0.000       0.097       0.274\n",
      "Years in current job_5 years       0.1882      0.044      4.320      0.000       0.103       0.274\n",
      "Years in current job_6 years       0.1113      0.046      2.425      0.015       0.021       0.201\n",
      "Years in current job_7 years       0.1759      0.047      3.762      0.000       0.084       0.268\n",
      "Years in current job_8 years       0.1258      0.049      2.550      0.011       0.029       0.223\n",
      "Years in current job_9 years       0.0720      0.052      1.385      0.166      -0.030       0.174\n",
      "Years in current job_< 1 year      0.1606      0.041      3.924      0.000       0.080       0.241\n",
      "Home Ownership_Home Mortgage       0.6309      0.260      2.426      0.015       0.121       1.141\n",
      "Home Ownership_Own Home            0.4903      0.261      1.879      0.060      -0.021       1.002\n",
      "Home Ownership_Rent                0.3814      0.259      1.471      0.141      -0.127       0.890\n",
      "Purpose_Buy House                  0.6285      0.132      4.778      0.000       0.371       0.886\n",
      "Purpose_Buy a Car                  1.3220      0.111     11.914      0.000       1.105       1.540\n",
      "Purpose_Debt Consolidation         0.7450      0.067     11.110      0.000       0.614       0.876\n",
      "Purpose_Educational Expenses       1.4173      0.339      4.179      0.000       0.753       2.082\n",
      "Purpose_Home Improvements          0.7492      0.077      9.746      0.000       0.599       0.900\n",
      "Purpose_Medical Bills              0.6538      0.105      6.230      0.000       0.448       0.859\n",
      "Purpose_Other                      0.8834      0.073     12.175      0.000       0.741       1.026\n",
      "Purpose_Take a Trip                1.4446      0.179      8.070      0.000       1.094       1.795\n",
      "Purpose_major_purchase             0.6560      0.163      4.033      0.000       0.337       0.975\n",
      "Purpose_moving                     0.4103      0.231      1.777      0.076      -0.042       0.863\n",
      "Purpose_renewable_energy           0.1775      0.787      0.225      0.822      -1.365       1.720\n",
      "Purpose_small_business            -0.5776      0.162     -3.571      0.000      -0.895      -0.261\n",
      "Purpose_vacation                   0.7503      0.282      2.663      0.008       0.198       1.303\n",
      "Purpose_wedding                    0.6820      0.284      2.405      0.016       0.126       1.238\n",
      "Tax Liens_1.0                     -0.2382      0.081     -2.939      0.003      -0.397      -0.079\n",
      "Tax Liens_2.0                     -0.2441      0.144     -1.694      0.090      -0.526       0.038\n",
      "Tax Liens_3.0                     -0.5594      0.253     -2.207      0.027      -1.056      -0.063\n",
      "Tax Liens_4.0                     -0.5021      0.357     -1.408      0.159      -1.201       0.197\n",
      "Tax Liens_5.0                     -1.2232      0.657     -1.861      0.063      -2.511       0.065\n",
      "Tax Liens_6.0                      0.5408      1.103      0.490      0.624      -1.621       2.703\n",
      "Tax Liens_7.0                     -2.0285      1.035     -1.959      0.050      -4.058       0.001\n",
      "Tax Liens_8.0                     23.3757   2.16e+05      0.000      1.000   -4.23e+05    4.23e+05\n",
      "Tax Liens_9.0                     -0.9930      1.266     -0.784      0.433      -3.475       1.489\n",
      "Tax Liens_10.0                    23.5848   2.16e+05      0.000      1.000   -4.23e+05    4.23e+05\n",
      "Tax Liens_11.0                    23.3350   2.16e+05      0.000      1.000   -4.23e+05    4.23e+05\n",
      "Tax Liens_15.0                    23.7180   2.16e+05      0.000      1.000   -4.23e+05    4.23e+05\n",
      "==================================================================================================\n"
     ]
    }
   ],
   "source": [
    "from statsmodels.genmod.generalized_linear_model import GLM\n",
    "from statsmodels.genmod import families\n",
    "res = GLM(y_train, X_train,\n",
    "          family=families.Binomial()).fit(attach_wls=True, atol=1e-10)\n",
    "print(res.summary())"
   ]
  },
  {
   "cell_type": "code",
   "execution_count": 63,
   "metadata": {},
   "outputs": [],
   "source": [
    "infl = res.get_influence(observed=False)"
   ]
  },
  {
   "cell_type": "code",
   "execution_count": 64,
   "metadata": {},
   "outputs": [
    {
     "data": {
      "text/html": [
       "<div>\n",
       "<style scoped>\n",
       "    .dataframe tbody tr th:only-of-type {\n",
       "        vertical-align: middle;\n",
       "    }\n",
       "\n",
       "    .dataframe tbody tr th {\n",
       "        vertical-align: top;\n",
       "    }\n",
       "\n",
       "    .dataframe thead th {\n",
       "        text-align: right;\n",
       "    }\n",
       "</style>\n",
       "<table border=\"1\" class=\"dataframe\">\n",
       "  <thead>\n",
       "    <tr style=\"text-align: right;\">\n",
       "      <th></th>\n",
       "      <th>dfb_Current Loan Amount</th>\n",
       "      <th>dfb_Term</th>\n",
       "      <th>dfb_Monthly Debt</th>\n",
       "      <th>dfb_Years of Credit History</th>\n",
       "      <th>dfb_Number of Open Accounts</th>\n",
       "      <th>dfb_Number of Credit Problems</th>\n",
       "      <th>dfb_Current Credit Balance</th>\n",
       "      <th>dfb_Maximum Open Credit</th>\n",
       "      <th>dfb_Credit Score</th>\n",
       "      <th>dfb_Annual Income</th>\n",
       "      <th>...</th>\n",
       "      <th>dfb_Tax Liens_7.0</th>\n",
       "      <th>dfb_Tax Liens_8.0</th>\n",
       "      <th>dfb_Tax Liens_9.0</th>\n",
       "      <th>dfb_Tax Liens_10.0</th>\n",
       "      <th>dfb_Tax Liens_11.0</th>\n",
       "      <th>dfb_Tax Liens_15.0</th>\n",
       "      <th>cooks_d</th>\n",
       "      <th>standard_resid</th>\n",
       "      <th>hat_diag</th>\n",
       "      <th>dffits_internal</th>\n",
       "    </tr>\n",
       "  </thead>\n",
       "  <tbody>\n",
       "    <tr>\n",
       "      <th>74634</th>\n",
       "      <td>0.000109</td>\n",
       "      <td>0.010195</td>\n",
       "      <td>-0.008391</td>\n",
       "      <td>0.002342</td>\n",
       "      <td>-0.001468</td>\n",
       "      <td>-0.001756</td>\n",
       "      <td>-0.002853</td>\n",
       "      <td>0.004551</td>\n",
       "      <td>0.007132</td>\n",
       "      <td>-0.015600</td>\n",
       "      <td>...</td>\n",
       "      <td>0.000448</td>\n",
       "      <td>3.182667e-09</td>\n",
       "      <td>-1.356487</td>\n",
       "      <td>-1.486284e-09</td>\n",
       "      <td>-1.245034e-09</td>\n",
       "      <td>-9.971195e-10</td>\n",
       "      <td>0.037635</td>\n",
       "      <td>-2.068217</td>\n",
       "      <td>0.301248</td>\n",
       "      <td>-1.357991</td>\n",
       "    </tr>\n",
       "    <tr>\n",
       "      <th>67606</th>\n",
       "      <td>-0.005593</td>\n",
       "      <td>0.007987</td>\n",
       "      <td>-0.008185</td>\n",
       "      <td>-0.002744</td>\n",
       "      <td>0.023188</td>\n",
       "      <td>0.000401</td>\n",
       "      <td>0.013307</td>\n",
       "      <td>-0.013826</td>\n",
       "      <td>0.002430</td>\n",
       "      <td>0.006127</td>\n",
       "      <td>...</td>\n",
       "      <td>-0.000076</td>\n",
       "      <td>3.103282e-09</td>\n",
       "      <td>-0.000216</td>\n",
       "      <td>1.215473e-09</td>\n",
       "      <td>-8.872033e-10</td>\n",
       "      <td>6.767482e-11</td>\n",
       "      <td>0.025650</td>\n",
       "      <td>-3.434110</td>\n",
       "      <td>0.096309</td>\n",
       "      <td>-1.121085</td>\n",
       "    </tr>\n",
       "    <tr>\n",
       "      <th>20008</th>\n",
       "      <td>-0.007800</td>\n",
       "      <td>-0.000494</td>\n",
       "      <td>0.006142</td>\n",
       "      <td>0.007174</td>\n",
       "      <td>0.000087</td>\n",
       "      <td>-0.001938</td>\n",
       "      <td>-0.005540</td>\n",
       "      <td>0.003603</td>\n",
       "      <td>0.009931</td>\n",
       "      <td>-0.006631</td>\n",
       "      <td>...</td>\n",
       "      <td>0.000184</td>\n",
       "      <td>1.109351e-09</td>\n",
       "      <td>1.058762</td>\n",
       "      <td>9.510796e-10</td>\n",
       "      <td>2.600429e-09</td>\n",
       "      <td>-1.151683e-09</td>\n",
       "      <td>0.022911</td>\n",
       "      <td>1.295620</td>\n",
       "      <td>0.400761</td>\n",
       "      <td>1.059546</td>\n",
       "    </tr>\n",
       "    <tr>\n",
       "      <th>100624</th>\n",
       "      <td>-0.007256</td>\n",
       "      <td>0.013409</td>\n",
       "      <td>-0.002388</td>\n",
       "      <td>-0.005139</td>\n",
       "      <td>0.001482</td>\n",
       "      <td>0.000402</td>\n",
       "      <td>-0.003831</td>\n",
       "      <td>0.000571</td>\n",
       "      <td>0.004524</td>\n",
       "      <td>0.006699</td>\n",
       "      <td>...</td>\n",
       "      <td>0.884194</td>\n",
       "      <td>-9.440190e-10</td>\n",
       "      <td>-0.000063</td>\n",
       "      <td>-2.549878e-10</td>\n",
       "      <td>1.244015e-09</td>\n",
       "      <td>5.688119e-10</td>\n",
       "      <td>0.015994</td>\n",
       "      <td>1.551875</td>\n",
       "      <td>0.245517</td>\n",
       "      <td>0.885263</td>\n",
       "    </tr>\n",
       "    <tr>\n",
       "      <th>74385</th>\n",
       "      <td>-0.000747</td>\n",
       "      <td>0.004292</td>\n",
       "      <td>-0.001694</td>\n",
       "      <td>0.003393</td>\n",
       "      <td>-0.002503</td>\n",
       "      <td>-0.001650</td>\n",
       "      <td>-0.002642</td>\n",
       "      <td>-0.000101</td>\n",
       "      <td>-0.000384</td>\n",
       "      <td>0.004467</td>\n",
       "      <td>...</td>\n",
       "      <td>-0.725493</td>\n",
       "      <td>1.539231e-10</td>\n",
       "      <td>-0.000034</td>\n",
       "      <td>1.918349e-10</td>\n",
       "      <td>-1.493522e-10</td>\n",
       "      <td>2.263216e-11</td>\n",
       "      <td>0.010766</td>\n",
       "      <td>-1.200956</td>\n",
       "      <td>0.267816</td>\n",
       "      <td>-0.726332</td>\n",
       "    </tr>\n",
       "    <tr>\n",
       "      <th>77902</th>\n",
       "      <td>-0.003253</td>\n",
       "      <td>0.006800</td>\n",
       "      <td>0.013332</td>\n",
       "      <td>-0.006908</td>\n",
       "      <td>0.009393</td>\n",
       "      <td>0.002656</td>\n",
       "      <td>0.020518</td>\n",
       "      <td>-0.023532</td>\n",
       "      <td>0.013523</td>\n",
       "      <td>-0.021753</td>\n",
       "      <td>...</td>\n",
       "      <td>0.000094</td>\n",
       "      <td>1.702342e-09</td>\n",
       "      <td>0.000222</td>\n",
       "      <td>1.522795e-09</td>\n",
       "      <td>7.996662e-10</td>\n",
       "      <td>1.169069e-09</td>\n",
       "      <td>0.007681</td>\n",
       "      <td>-2.969877</td>\n",
       "      <td>0.040923</td>\n",
       "      <td>-0.613470</td>\n",
       "    </tr>\n",
       "    <tr>\n",
       "      <th>927</th>\n",
       "      <td>0.004805</td>\n",
       "      <td>0.000536</td>\n",
       "      <td>-0.000017</td>\n",
       "      <td>-0.006057</td>\n",
       "      <td>-0.000388</td>\n",
       "      <td>0.002282</td>\n",
       "      <td>0.001761</td>\n",
       "      <td>0.001073</td>\n",
       "      <td>-0.005125</td>\n",
       "      <td>0.001358</td>\n",
       "      <td>...</td>\n",
       "      <td>-0.605452</td>\n",
       "      <td>-4.863019e-10</td>\n",
       "      <td>-0.000063</td>\n",
       "      <td>-5.389458e-10</td>\n",
       "      <td>-7.784660e-10</td>\n",
       "      <td>-7.184210e-10</td>\n",
       "      <td>0.007508</td>\n",
       "      <td>-1.014815</td>\n",
       "      <td>0.263203</td>\n",
       "      <td>-0.606539</td>\n",
       "    </tr>\n",
       "    <tr>\n",
       "      <th>50644</th>\n",
       "      <td>-0.005627</td>\n",
       "      <td>0.008530</td>\n",
       "      <td>0.006555</td>\n",
       "      <td>-0.002444</td>\n",
       "      <td>-0.002492</td>\n",
       "      <td>-0.001039</td>\n",
       "      <td>-0.002400</td>\n",
       "      <td>-0.001995</td>\n",
       "      <td>0.010474</td>\n",
       "      <td>-0.006711</td>\n",
       "      <td>...</td>\n",
       "      <td>0.000124</td>\n",
       "      <td>1.696635e-09</td>\n",
       "      <td>0.000046</td>\n",
       "      <td>5.662672e-10</td>\n",
       "      <td>-1.059144e-10</td>\n",
       "      <td>3.752408e-10</td>\n",
       "      <td>0.005599</td>\n",
       "      <td>-1.637499</td>\n",
       "      <td>0.092814</td>\n",
       "      <td>-0.523770</td>\n",
       "    </tr>\n",
       "    <tr>\n",
       "      <th>3717</th>\n",
       "      <td>0.004662</td>\n",
       "      <td>0.001025</td>\n",
       "      <td>-0.005071</td>\n",
       "      <td>0.002571</td>\n",
       "      <td>0.003376</td>\n",
       "      <td>0.000446</td>\n",
       "      <td>0.002606</td>\n",
       "      <td>0.001535</td>\n",
       "      <td>-0.005766</td>\n",
       "      <td>0.000228</td>\n",
       "      <td>...</td>\n",
       "      <td>0.000064</td>\n",
       "      <td>-2.485011e-10</td>\n",
       "      <td>-0.000071</td>\n",
       "      <td>6.196597e-12</td>\n",
       "      <td>-4.533305e-10</td>\n",
       "      <td>-2.656687e-10</td>\n",
       "      <td>0.004361</td>\n",
       "      <td>-1.083528</td>\n",
       "      <td>0.153991</td>\n",
       "      <td>-0.462274</td>\n",
       "    </tr>\n",
       "    <tr>\n",
       "      <th>106862</th>\n",
       "      <td>0.004455</td>\n",
       "      <td>0.003667</td>\n",
       "      <td>-0.006268</td>\n",
       "      <td>-0.003287</td>\n",
       "      <td>-0.000537</td>\n",
       "      <td>0.000514</td>\n",
       "      <td>0.002191</td>\n",
       "      <td>-0.000530</td>\n",
       "      <td>-0.003257</td>\n",
       "      <td>-0.001426</td>\n",
       "      <td>...</td>\n",
       "      <td>0.000045</td>\n",
       "      <td>4.288407e-10</td>\n",
       "      <td>0.447342</td>\n",
       "      <td>-1.032655e-09</td>\n",
       "      <td>-1.886998e-09</td>\n",
       "      <td>3.212500e-10</td>\n",
       "      <td>0.004092</td>\n",
       "      <td>0.685595</td>\n",
       "      <td>0.299007</td>\n",
       "      <td>0.447766</td>\n",
       "    </tr>\n",
       "  </tbody>\n",
       "</table>\n",
       "<p>10 rows × 53 columns</p>\n",
       "</div>"
      ],
      "text/plain": [
       "        dfb_Current Loan Amount  dfb_Term  dfb_Monthly Debt  \\\n",
       "74634                  0.000109  0.010195         -0.008391   \n",
       "67606                 -0.005593  0.007987         -0.008185   \n",
       "20008                 -0.007800 -0.000494          0.006142   \n",
       "100624                -0.007256  0.013409         -0.002388   \n",
       "74385                 -0.000747  0.004292         -0.001694   \n",
       "77902                 -0.003253  0.006800          0.013332   \n",
       "927                    0.004805  0.000536         -0.000017   \n",
       "50644                 -0.005627  0.008530          0.006555   \n",
       "3717                   0.004662  0.001025         -0.005071   \n",
       "106862                 0.004455  0.003667         -0.006268   \n",
       "\n",
       "        dfb_Years of Credit History  dfb_Number of Open Accounts  \\\n",
       "74634                      0.002342                    -0.001468   \n",
       "67606                     -0.002744                     0.023188   \n",
       "20008                      0.007174                     0.000087   \n",
       "100624                    -0.005139                     0.001482   \n",
       "74385                      0.003393                    -0.002503   \n",
       "77902                     -0.006908                     0.009393   \n",
       "927                       -0.006057                    -0.000388   \n",
       "50644                     -0.002444                    -0.002492   \n",
       "3717                       0.002571                     0.003376   \n",
       "106862                    -0.003287                    -0.000537   \n",
       "\n",
       "        dfb_Number of Credit Problems  dfb_Current Credit Balance  \\\n",
       "74634                       -0.001756                   -0.002853   \n",
       "67606                        0.000401                    0.013307   \n",
       "20008                       -0.001938                   -0.005540   \n",
       "100624                       0.000402                   -0.003831   \n",
       "74385                       -0.001650                   -0.002642   \n",
       "77902                        0.002656                    0.020518   \n",
       "927                          0.002282                    0.001761   \n",
       "50644                       -0.001039                   -0.002400   \n",
       "3717                         0.000446                    0.002606   \n",
       "106862                       0.000514                    0.002191   \n",
       "\n",
       "        dfb_Maximum Open Credit  dfb_Credit Score  dfb_Annual Income  ...  \\\n",
       "74634                  0.004551          0.007132          -0.015600  ...   \n",
       "67606                 -0.013826          0.002430           0.006127  ...   \n",
       "20008                  0.003603          0.009931          -0.006631  ...   \n",
       "100624                 0.000571          0.004524           0.006699  ...   \n",
       "74385                 -0.000101         -0.000384           0.004467  ...   \n",
       "77902                 -0.023532          0.013523          -0.021753  ...   \n",
       "927                    0.001073         -0.005125           0.001358  ...   \n",
       "50644                 -0.001995          0.010474          -0.006711  ...   \n",
       "3717                   0.001535         -0.005766           0.000228  ...   \n",
       "106862                -0.000530         -0.003257          -0.001426  ...   \n",
       "\n",
       "        dfb_Tax Liens_7.0  dfb_Tax Liens_8.0  dfb_Tax Liens_9.0  \\\n",
       "74634            0.000448       3.182667e-09          -1.356487   \n",
       "67606           -0.000076       3.103282e-09          -0.000216   \n",
       "20008            0.000184       1.109351e-09           1.058762   \n",
       "100624           0.884194      -9.440190e-10          -0.000063   \n",
       "74385           -0.725493       1.539231e-10          -0.000034   \n",
       "77902            0.000094       1.702342e-09           0.000222   \n",
       "927             -0.605452      -4.863019e-10          -0.000063   \n",
       "50644            0.000124       1.696635e-09           0.000046   \n",
       "3717             0.000064      -2.485011e-10          -0.000071   \n",
       "106862           0.000045       4.288407e-10           0.447342   \n",
       "\n",
       "        dfb_Tax Liens_10.0  dfb_Tax Liens_11.0  dfb_Tax Liens_15.0   cooks_d  \\\n",
       "74634        -1.486284e-09       -1.245034e-09       -9.971195e-10  0.037635   \n",
       "67606         1.215473e-09       -8.872033e-10        6.767482e-11  0.025650   \n",
       "20008         9.510796e-10        2.600429e-09       -1.151683e-09  0.022911   \n",
       "100624       -2.549878e-10        1.244015e-09        5.688119e-10  0.015994   \n",
       "74385         1.918349e-10       -1.493522e-10        2.263216e-11  0.010766   \n",
       "77902         1.522795e-09        7.996662e-10        1.169069e-09  0.007681   \n",
       "927          -5.389458e-10       -7.784660e-10       -7.184210e-10  0.007508   \n",
       "50644         5.662672e-10       -1.059144e-10        3.752408e-10  0.005599   \n",
       "3717          6.196597e-12       -4.533305e-10       -2.656687e-10  0.004361   \n",
       "106862       -1.032655e-09       -1.886998e-09        3.212500e-10  0.004092   \n",
       "\n",
       "        standard_resid  hat_diag  dffits_internal  \n",
       "74634        -2.068217  0.301248        -1.357991  \n",
       "67606        -3.434110  0.096309        -1.121085  \n",
       "20008         1.295620  0.400761         1.059546  \n",
       "100624        1.551875  0.245517         0.885263  \n",
       "74385        -1.200956  0.267816        -0.726332  \n",
       "77902        -2.969877  0.040923        -0.613470  \n",
       "927          -1.014815  0.263203        -0.606539  \n",
       "50644        -1.637499  0.092814        -0.523770  \n",
       "3717         -1.083528  0.153991        -0.462274  \n",
       "106862        0.685595  0.299007         0.447766  \n",
       "\n",
       "[10 rows x 53 columns]"
      ]
     },
     "execution_count": 64,
     "metadata": {},
     "output_type": "execute_result"
    }
   ],
   "source": [
    "summ_df = infl.summary_frame()\n",
    "summ_df.sort_values('cooks_d', ascending=False)[:10]"
   ]
  },
  {
   "cell_type": "code",
   "execution_count": 65,
   "metadata": {},
   "outputs": [
    {
     "data": {
      "image/png": "[encoded data removed]",
      "text/plain": [
       "<Figure size 432x288 with 1 Axes>"
      ]
     },
     "execution_count": 65,
     "metadata": {},
     "output_type": "execute_result"
    },
    {
     "data": {
      "image/png": "[encoded data removed]",
      "text/plain": [
       "<Figure size 432x288 with 1 Axes>"
      ]
     },
     "metadata": {
      "needs_background": "light"
     },
     "output_type": "display_data"
    }
   ],
   "source": [
    "infl.plot_index(y_var='cooks', threshold=2 * infl.cooks_distance[0].mean())"
   ]
  },
  {
   "cell_type": "code",
   "execution_count": 66,
   "metadata": {},
   "outputs": [],
   "source": [
    "pd.set_option('display.max_columns',None)"
   ]
  },
  {
   "cell_type": "code",
   "execution_count": 67,
   "metadata": {},
   "outputs": [],
   "source": [
    "Xc =sm.add_constant(X)"
   ]
  },
  {
   "cell_type": "code",
   "execution_count": 68,
   "metadata": {},
   "outputs": [
    {
     "data": {
      "text/html": [
       "<div>\n",
       "<style scoped>\n",
       "    .dataframe tbody tr th:only-of-type {\n",
       "        vertical-align: middle;\n",
       "    }\n",
       "\n",
       "    .dataframe tbody tr th {\n",
       "        vertical-align: top;\n",
       "    }\n",
       "\n",
       "    .dataframe thead th {\n",
       "        text-align: right;\n",
       "    }\n",
       "</style>\n",
       "<table border=\"1\" class=\"dataframe\">\n",
       "  <thead>\n",
       "    <tr style=\"text-align: right;\">\n",
       "      <th></th>\n",
       "      <th>Current Loan Amount</th>\n",
       "      <th>Term</th>\n",
       "      <th>Monthly Debt</th>\n",
       "      <th>Years of Credit History</th>\n",
       "      <th>Number of Open Accounts</th>\n",
       "      <th>Number of Credit Problems</th>\n",
       "      <th>Current Credit Balance</th>\n",
       "      <th>Maximum Open Credit</th>\n",
       "      <th>Credit Score</th>\n",
       "      <th>Annual Income</th>\n",
       "      <th>Years in current job_10+ years</th>\n",
       "      <th>Years in current job_2 years</th>\n",
       "      <th>Years in current job_3 years</th>\n",
       "      <th>Years in current job_4 years</th>\n",
       "      <th>Years in current job_5 years</th>\n",
       "      <th>Years in current job_6 years</th>\n",
       "      <th>Years in current job_7 years</th>\n",
       "      <th>Years in current job_8 years</th>\n",
       "      <th>Years in current job_9 years</th>\n",
       "      <th>Years in current job_&lt; 1 year</th>\n",
       "      <th>Home Ownership_Home Mortgage</th>\n",
       "      <th>Home Ownership_Own Home</th>\n",
       "      <th>Home Ownership_Rent</th>\n",
       "      <th>Purpose_Buy House</th>\n",
       "      <th>Purpose_Buy a Car</th>\n",
       "      <th>Purpose_Debt Consolidation</th>\n",
       "      <th>Purpose_Educational Expenses</th>\n",
       "      <th>Purpose_Home Improvements</th>\n",
       "      <th>Purpose_Medical Bills</th>\n",
       "      <th>Purpose_Other</th>\n",
       "      <th>Purpose_Take a Trip</th>\n",
       "      <th>Purpose_major_purchase</th>\n",
       "      <th>Purpose_moving</th>\n",
       "      <th>Purpose_renewable_energy</th>\n",
       "      <th>Purpose_small_business</th>\n",
       "      <th>Purpose_vacation</th>\n",
       "      <th>Purpose_wedding</th>\n",
       "      <th>Tax Liens_1.0</th>\n",
       "      <th>Tax Liens_2.0</th>\n",
       "      <th>Tax Liens_3.0</th>\n",
       "      <th>Tax Liens_4.0</th>\n",
       "      <th>Tax Liens_5.0</th>\n",
       "      <th>Tax Liens_6.0</th>\n",
       "      <th>Tax Liens_7.0</th>\n",
       "      <th>Tax Liens_8.0</th>\n",
       "      <th>Tax Liens_9.0</th>\n",
       "      <th>Tax Liens_10.0</th>\n",
       "      <th>Tax Liens_11.0</th>\n",
       "      <th>Tax Liens_15.0</th>\n",
       "    </tr>\n",
       "  </thead>\n",
       "  <tbody>\n",
       "    <tr>\n",
       "      <th>vif</th>\n",
       "      <td>1.162478</td>\n",
       "      <td>1.137532</td>\n",
       "      <td>2.103249</td>\n",
       "      <td>1.206364</td>\n",
       "      <td>1.507652</td>\n",
       "      <td>1.211447</td>\n",
       "      <td>3.226633</td>\n",
       "      <td>2.969381</td>\n",
       "      <td>1.127028</td>\n",
       "      <td>1.573104</td>\n",
       "      <td>2.809891</td>\n",
       "      <td>1.711865</td>\n",
       "      <td>1.648684</td>\n",
       "      <td>1.497195</td>\n",
       "      <td>1.543586</td>\n",
       "      <td>1.46014</td>\n",
       "      <td>1.454071</td>\n",
       "      <td>1.37793</td>\n",
       "      <td>1.326479</td>\n",
       "      <td>1.640019</td>\n",
       "      <td>191.56983</td>\n",
       "      <td>64.376391</td>\n",
       "      <td>186.24011</td>\n",
       "      <td>1.425949</td>\n",
       "      <td>1.796767</td>\n",
       "      <td>11.06185</td>\n",
       "      <td>1.066518</td>\n",
       "      <td>4.485325</td>\n",
       "      <td>1.706859</td>\n",
       "      <td>6.26756</td>\n",
       "      <td>1.955314</td>\n",
       "      <td>1.229917</td>\n",
       "      <td>1.095851</td>\n",
       "      <td>1.006578</td>\n",
       "      <td>1.179027</td>\n",
       "      <td>1.062087</td>\n",
       "      <td>1.071596</td>\n",
       "      <td>1.100648</td>\n",
       "      <td>1.028609</td>\n",
       "      <td>1.009328</td>\n",
       "      <td>1.005499</td>\n",
       "      <td>1.001748</td>\n",
       "      <td>1.001174</td>\n",
       "      <td>1.00126</td>\n",
       "      <td>1.000512</td>\n",
       "      <td>1.000549</td>\n",
       "      <td>1.000144</td>\n",
       "      <td>1.000445</td>\n",
       "      <td>1.000222</td>\n",
       "    </tr>\n",
       "  </tbody>\n",
       "</table>\n",
       "</div>"
      ],
      "text/plain": [
       "     Current Loan Amount      Term  Monthly Debt  Years of Credit History  \\\n",
       "vif             1.162478  1.137532      2.103249                 1.206364   \n",
       "\n",
       "     Number of Open Accounts  Number of Credit Problems  \\\n",
       "vif                 1.507652                   1.211447   \n",
       "\n",
       "     Current Credit Balance  Maximum Open Credit  Credit Score  Annual Income  \\\n",
       "vif                3.226633             2.969381      1.127028       1.573104   \n",
       "\n",
       "     Years in current job_10+ years  Years in current job_2 years  \\\n",
       "vif                        2.809891                      1.711865   \n",
       "\n",
       "     Years in current job_3 years  Years in current job_4 years  \\\n",
       "vif                      1.648684                      1.497195   \n",
       "\n",
       "     Years in current job_5 years  Years in current job_6 years  \\\n",
       "vif                      1.543586                       1.46014   \n",
       "\n",
       "     Years in current job_7 years  Years in current job_8 years  \\\n",
       "vif                      1.454071                       1.37793   \n",
       "\n",
       "     Years in current job_9 years  Years in current job_< 1 year  \\\n",
       "vif                      1.326479                       1.640019   \n",
       "\n",
       "     Home Ownership_Home Mortgage  Home Ownership_Own Home  \\\n",
       "vif                     191.56983                64.376391   \n",
       "\n",
       "     Home Ownership_Rent  Purpose_Buy House  Purpose_Buy a Car  \\\n",
       "vif            186.24011           1.425949           1.796767   \n",
       "\n",
       "     Purpose_Debt Consolidation  Purpose_Educational Expenses  \\\n",
       "vif                    11.06185                      1.066518   \n",
       "\n",
       "     Purpose_Home Improvements  Purpose_Medical Bills  Purpose_Other  \\\n",
       "vif                   4.485325               1.706859        6.26756   \n",
       "\n",
       "     Purpose_Take a Trip  Purpose_major_purchase  Purpose_moving  \\\n",
       "vif             1.955314                1.229917        1.095851   \n",
       "\n",
       "     Purpose_renewable_energy  Purpose_small_business  Purpose_vacation  \\\n",
       "vif                  1.006578                1.179027          1.062087   \n",
       "\n",
       "     Purpose_wedding  Tax Liens_1.0  Tax Liens_2.0  Tax Liens_3.0  \\\n",
       "vif         1.071596       1.100648       1.028609       1.009328   \n",
       "\n",
       "     Tax Liens_4.0  Tax Liens_5.0  Tax Liens_6.0  Tax Liens_7.0  \\\n",
       "vif       1.005499       1.001748       1.001174        1.00126   \n",
       "\n",
       "     Tax Liens_8.0  Tax Liens_9.0  Tax Liens_10.0  Tax Liens_11.0  \\\n",
       "vif       1.000512       1.000549        1.000144        1.000445   \n",
       "\n",
       "     Tax Liens_15.0  \n",
       "vif        1.000222  "
      ]
     },
     "execution_count": 68,
     "metadata": {},
     "output_type": "execute_result"
    }
   ],
   "source": [
    "from statsmodels.stats.outliers_influence import variance_inflation_factor\n",
    "vif=[variance_inflation_factor(Xc.values, i) for i in range(Xc.shape[1])]\n",
    "pd.DataFrame({'vif': vif[1:]}, index=X.columns).T"
   ]
  },
  {
   "cell_type": "markdown",
   "metadata": {},
   "source": [
    "From the Above Muliticollinearity test the column 'Home Ownership_Home Mortgage' VIF is 191.570088 which is very high hence we are dropping that column"
   ]
  },
  {
   "cell_type": "code",
   "execution_count": 69,
   "metadata": {},
   "outputs": [],
   "source": [
    "X=dfff.drop(['Loan Status','Bankruptcies','Number of Credit Problems','Home Ownership_Home Mortgage'],axis=1)\n",
    "y=dfff['Loan Status']\n",
    "X_train , X_test , y_train , y_test = train_test_split(X,y,test_size=0.3,random_state=3)"
   ]
  },
  {
   "cell_type": "code",
   "execution_count": 70,
   "metadata": {},
   "outputs": [],
   "source": [
    "Xc =sm.add_constant(X)"
   ]
  },
  {
   "cell_type": "code",
   "execution_count": 71,
   "metadata": {},
   "outputs": [
    {
     "data": {
      "text/html": [
       "<div>\n",
       "<style scoped>\n",
       "    .dataframe tbody tr th:only-of-type {\n",
       "        vertical-align: middle;\n",
       "    }\n",
       "\n",
       "    .dataframe tbody tr th {\n",
       "        vertical-align: top;\n",
       "    }\n",
       "\n",
       "    .dataframe thead th {\n",
       "        text-align: right;\n",
       "    }\n",
       "</style>\n",
       "<table border=\"1\" class=\"dataframe\">\n",
       "  <thead>\n",
       "    <tr style=\"text-align: right;\">\n",
       "      <th></th>\n",
       "      <th>Current Loan Amount</th>\n",
       "      <th>Term</th>\n",
       "      <th>Monthly Debt</th>\n",
       "      <th>Years of Credit History</th>\n",
       "      <th>Number of Open Accounts</th>\n",
       "      <th>Current Credit Balance</th>\n",
       "      <th>Maximum Open Credit</th>\n",
       "      <th>Credit Score</th>\n",
       "      <th>Annual Income</th>\n",
       "      <th>Years in current job_10+ years</th>\n",
       "      <th>Years in current job_2 years</th>\n",
       "      <th>Years in current job_3 years</th>\n",
       "      <th>Years in current job_4 years</th>\n",
       "      <th>Years in current job_5 years</th>\n",
       "      <th>Years in current job_6 years</th>\n",
       "      <th>Years in current job_7 years</th>\n",
       "      <th>Years in current job_8 years</th>\n",
       "      <th>Years in current job_9 years</th>\n",
       "      <th>Years in current job_&lt; 1 year</th>\n",
       "      <th>Home Ownership_Own Home</th>\n",
       "      <th>Home Ownership_Rent</th>\n",
       "      <th>Purpose_Buy House</th>\n",
       "      <th>Purpose_Buy a Car</th>\n",
       "      <th>Purpose_Debt Consolidation</th>\n",
       "      <th>Purpose_Educational Expenses</th>\n",
       "      <th>Purpose_Home Improvements</th>\n",
       "      <th>Purpose_Medical Bills</th>\n",
       "      <th>Purpose_Other</th>\n",
       "      <th>Purpose_Take a Trip</th>\n",
       "      <th>Purpose_major_purchase</th>\n",
       "      <th>Purpose_moving</th>\n",
       "      <th>Purpose_renewable_energy</th>\n",
       "      <th>Purpose_small_business</th>\n",
       "      <th>Purpose_vacation</th>\n",
       "      <th>Purpose_wedding</th>\n",
       "      <th>Tax Liens_1.0</th>\n",
       "      <th>Tax Liens_2.0</th>\n",
       "      <th>Tax Liens_3.0</th>\n",
       "      <th>Tax Liens_4.0</th>\n",
       "      <th>Tax Liens_5.0</th>\n",
       "      <th>Tax Liens_6.0</th>\n",
       "      <th>Tax Liens_7.0</th>\n",
       "      <th>Tax Liens_8.0</th>\n",
       "      <th>Tax Liens_9.0</th>\n",
       "      <th>Tax Liens_10.0</th>\n",
       "      <th>Tax Liens_11.0</th>\n",
       "      <th>Tax Liens_15.0</th>\n",
       "    </tr>\n",
       "  </thead>\n",
       "  <tbody>\n",
       "    <tr>\n",
       "      <th>vif</th>\n",
       "      <td>1.161947</td>\n",
       "      <td>1.137223</td>\n",
       "      <td>2.102991</td>\n",
       "      <td>1.188114</td>\n",
       "      <td>1.502836</td>\n",
       "      <td>3.182419</td>\n",
       "      <td>2.967242</td>\n",
       "      <td>1.125232</td>\n",
       "      <td>1.573083</td>\n",
       "      <td>2.809869</td>\n",
       "      <td>1.711128</td>\n",
       "      <td>1.648307</td>\n",
       "      <td>1.497051</td>\n",
       "      <td>1.543311</td>\n",
       "      <td>1.460019</td>\n",
       "      <td>1.454069</td>\n",
       "      <td>1.37793</td>\n",
       "      <td>1.326471</td>\n",
       "      <td>1.638989</td>\n",
       "      <td>1.107826</td>\n",
       "      <td>1.26853</td>\n",
       "      <td>1.425875</td>\n",
       "      <td>1.796759</td>\n",
       "      <td>11.057529</td>\n",
       "      <td>1.066408</td>\n",
       "      <td>4.482693</td>\n",
       "      <td>1.706746</td>\n",
       "      <td>6.267503</td>\n",
       "      <td>1.354836</td>\n",
       "      <td>1.229872</td>\n",
       "      <td>1.095846</td>\n",
       "      <td>1.006558</td>\n",
       "      <td>1.179024</td>\n",
       "      <td>1.062078</td>\n",
       "      <td>1.071583</td>\n",
       "      <td>1.003403</td>\n",
       "      <td>1.001543</td>\n",
       "      <td>1.001072</td>\n",
       "      <td>1.001158</td>\n",
       "      <td>1.000502</td>\n",
       "      <td>1.000416</td>\n",
       "      <td>1.000782</td>\n",
       "      <td>1.00038</td>\n",
       "      <td>1.000221</td>\n",
       "      <td>1.000082</td>\n",
       "      <td>1.000299</td>\n",
       "      <td>1.000148</td>\n",
       "    </tr>\n",
       "  </tbody>\n",
       "</table>\n",
       "</div>"
      ],
      "text/plain": [
       "     Current Loan Amount      Term  Monthly Debt  Years of Credit History  \\\n",
       "vif             1.161947  1.137223      2.102991                 1.188114   \n",
       "\n",
       "     Number of Open Accounts  Current Credit Balance  Maximum Open Credit  \\\n",
       "vif                 1.502836                3.182419             2.967242   \n",
       "\n",
       "     Credit Score  Annual Income  Years in current job_10+ years  \\\n",
       "vif      1.125232       1.573083                        2.809869   \n",
       "\n",
       "     Years in current job_2 years  Years in current job_3 years  \\\n",
       "vif                      1.711128                      1.648307   \n",
       "\n",
       "     Years in current job_4 years  Years in current job_5 years  \\\n",
       "vif                      1.497051                      1.543311   \n",
       "\n",
       "     Years in current job_6 years  Years in current job_7 years  \\\n",
       "vif                      1.460019                      1.454069   \n",
       "\n",
       "     Years in current job_8 years  Years in current job_9 years  \\\n",
       "vif                       1.37793                      1.326471   \n",
       "\n",
       "     Years in current job_< 1 year  Home Ownership_Own Home  \\\n",
       "vif                       1.638989                 1.107826   \n",
       "\n",
       "     Home Ownership_Rent  Purpose_Buy House  Purpose_Buy a Car  \\\n",
       "vif              1.26853           1.425875           1.796759   \n",
       "\n",
       "     Purpose_Debt Consolidation  Purpose_Educational Expenses  \\\n",
       "vif                   11.057529                      1.066408   \n",
       "\n",
       "     Purpose_Home Improvements  Purpose_Medical Bills  Purpose_Other  \\\n",
       "vif                   4.482693               1.706746       6.267503   \n",
       "\n",
       "     Purpose_Take a Trip  Purpose_major_purchase  Purpose_moving  \\\n",
       "vif             1.354836                1.229872        1.095846   \n",
       "\n",
       "     Purpose_renewable_energy  Purpose_small_business  Purpose_vacation  \\\n",
       "vif                  1.006558                1.179024          1.062078   \n",
       "\n",
       "     Purpose_wedding  Tax Liens_1.0  Tax Liens_2.0  Tax Liens_3.0  \\\n",
       "vif         1.071583       1.003403       1.001543       1.001072   \n",
       "\n",
       "     Tax Liens_4.0  Tax Liens_5.0  Tax Liens_6.0  Tax Liens_7.0  \\\n",
       "vif       1.001158       1.000502       1.000416       1.000782   \n",
       "\n",
       "     Tax Liens_8.0  Tax Liens_9.0  Tax Liens_10.0  Tax Liens_11.0  \\\n",
       "vif        1.00038       1.000221        1.000082        1.000299   \n",
       "\n",
       "     Tax Liens_15.0  \n",
       "vif        1.000148  "
      ]
     },
     "execution_count": 71,
     "metadata": {},
     "output_type": "execute_result"
    }
   ],
   "source": [
    "vif=[variance_inflation_factor(Xc.values, i) for i in range(Xc.shape[1])]\n",
    "pd.DataFrame({'vif': vif[1:]}, index=X.columns).T"
   ]
  },
  {
   "cell_type": "markdown",
   "metadata": {},
   "source": [
    "From the Above Muliticollinearity test the column 'Purpose_Debt Consolidation' VIF is 11.057627 which is very high hence we are dropping that column"
   ]
  },
  {
   "cell_type": "code",
   "execution_count": 72,
   "metadata": {},
   "outputs": [],
   "source": [
    "X=dfff.drop(['Loan Status','Bankruptcies','Number of Credit Problems','Home Ownership_Home Mortgage','Purpose_Debt Consolidation'],axis=1)\n",
    "y=dfff['Loan Status']\n",
    "X_train , X_test , y_train , y_test = train_test_split(X,y,test_size=0.3,random_state=3)"
   ]
  },
  {
   "cell_type": "code",
   "execution_count": 73,
   "metadata": {},
   "outputs": [],
   "source": [
    "Xc =sm.add_constant(X)"
   ]
  },
  {
   "cell_type": "code",
   "execution_count": 74,
   "metadata": {},
   "outputs": [
    {
     "data": {
      "text/html": [
       "<div>\n",
       "<style scoped>\n",
       "    .dataframe tbody tr th:only-of-type {\n",
       "        vertical-align: middle;\n",
       "    }\n",
       "\n",
       "    .dataframe tbody tr th {\n",
       "        vertical-align: top;\n",
       "    }\n",
       "\n",
       "    .dataframe thead th {\n",
       "        text-align: right;\n",
       "    }\n",
       "</style>\n",
       "<table border=\"1\" class=\"dataframe\">\n",
       "  <thead>\n",
       "    <tr style=\"text-align: right;\">\n",
       "      <th></th>\n",
       "      <th>Current Loan Amount</th>\n",
       "      <th>Term</th>\n",
       "      <th>Monthly Debt</th>\n",
       "      <th>Years of Credit History</th>\n",
       "      <th>Number of Open Accounts</th>\n",
       "      <th>Current Credit Balance</th>\n",
       "      <th>Maximum Open Credit</th>\n",
       "      <th>Credit Score</th>\n",
       "      <th>Annual Income</th>\n",
       "      <th>Years in current job_10+ years</th>\n",
       "      <th>Years in current job_2 years</th>\n",
       "      <th>Years in current job_3 years</th>\n",
       "      <th>Years in current job_4 years</th>\n",
       "      <th>Years in current job_5 years</th>\n",
       "      <th>Years in current job_6 years</th>\n",
       "      <th>Years in current job_7 years</th>\n",
       "      <th>Years in current job_8 years</th>\n",
       "      <th>Years in current job_9 years</th>\n",
       "      <th>Years in current job_&lt; 1 year</th>\n",
       "      <th>Home Ownership_Own Home</th>\n",
       "      <th>Home Ownership_Rent</th>\n",
       "      <th>Purpose_Buy House</th>\n",
       "      <th>Purpose_Buy a Car</th>\n",
       "      <th>Purpose_Educational Expenses</th>\n",
       "      <th>Purpose_Home Improvements</th>\n",
       "      <th>Purpose_Medical Bills</th>\n",
       "      <th>Purpose_Other</th>\n",
       "      <th>Purpose_Take a Trip</th>\n",
       "      <th>Purpose_major_purchase</th>\n",
       "      <th>Purpose_moving</th>\n",
       "      <th>Purpose_renewable_energy</th>\n",
       "      <th>Purpose_small_business</th>\n",
       "      <th>Purpose_vacation</th>\n",
       "      <th>Purpose_wedding</th>\n",
       "      <th>Tax Liens_1.0</th>\n",
       "      <th>Tax Liens_2.0</th>\n",
       "      <th>Tax Liens_3.0</th>\n",
       "      <th>Tax Liens_4.0</th>\n",
       "      <th>Tax Liens_5.0</th>\n",
       "      <th>Tax Liens_6.0</th>\n",
       "      <th>Tax Liens_7.0</th>\n",
       "      <th>Tax Liens_8.0</th>\n",
       "      <th>Tax Liens_9.0</th>\n",
       "      <th>Tax Liens_10.0</th>\n",
       "      <th>Tax Liens_11.0</th>\n",
       "      <th>Tax Liens_15.0</th>\n",
       "    </tr>\n",
       "  </thead>\n",
       "  <tbody>\n",
       "    <tr>\n",
       "      <th>vif</th>\n",
       "      <td>1.161583</td>\n",
       "      <td>1.137124</td>\n",
       "      <td>2.101104</td>\n",
       "      <td>1.187985</td>\n",
       "      <td>1.500571</td>\n",
       "      <td>3.173981</td>\n",
       "      <td>2.962035</td>\n",
       "      <td>1.121971</td>\n",
       "      <td>1.567247</td>\n",
       "      <td>2.809646</td>\n",
       "      <td>1.711064</td>\n",
       "      <td>1.648162</td>\n",
       "      <td>1.497012</td>\n",
       "      <td>1.54323</td>\n",
       "      <td>1.460013</td>\n",
       "      <td>1.454042</td>\n",
       "      <td>1.377929</td>\n",
       "      <td>1.326442</td>\n",
       "      <td>1.63892</td>\n",
       "      <td>1.107817</td>\n",
       "      <td>1.268415</td>\n",
       "      <td>1.009273</td>\n",
       "      <td>1.016034</td>\n",
       "      <td>1.002529</td>\n",
       "      <td>1.072831</td>\n",
       "      <td>1.011613</td>\n",
       "      <td>1.070762</td>\n",
       "      <td>1.009313</td>\n",
       "      <td>1.005207</td>\n",
       "      <td>1.002834</td>\n",
       "      <td>1.000442</td>\n",
       "      <td>1.002996</td>\n",
       "      <td>1.00224</td>\n",
       "      <td>1.001528</td>\n",
       "      <td>1.003402</td>\n",
       "      <td>1.001535</td>\n",
       "      <td>1.001008</td>\n",
       "      <td>1.001155</td>\n",
       "      <td>1.000415</td>\n",
       "      <td>1.000413</td>\n",
       "      <td>1.00078</td>\n",
       "      <td>1.000379</td>\n",
       "      <td>1.00022</td>\n",
       "      <td>1.000082</td>\n",
       "      <td>1.000299</td>\n",
       "      <td>1.000148</td>\n",
       "    </tr>\n",
       "  </tbody>\n",
       "</table>\n",
       "</div>"
      ],
      "text/plain": [
       "     Current Loan Amount      Term  Monthly Debt  Years of Credit History  \\\n",
       "vif             1.161583  1.137124      2.101104                 1.187985   \n",
       "\n",
       "     Number of Open Accounts  Current Credit Balance  Maximum Open Credit  \\\n",
       "vif                 1.500571                3.173981             2.962035   \n",
       "\n",
       "     Credit Score  Annual Income  Years in current job_10+ years  \\\n",
       "vif      1.121971       1.567247                        2.809646   \n",
       "\n",
       "     Years in current job_2 years  Years in current job_3 years  \\\n",
       "vif                      1.711064                      1.648162   \n",
       "\n",
       "     Years in current job_4 years  Years in current job_5 years  \\\n",
       "vif                      1.497012                       1.54323   \n",
       "\n",
       "     Years in current job_6 years  Years in current job_7 years  \\\n",
       "vif                      1.460013                      1.454042   \n",
       "\n",
       "     Years in current job_8 years  Years in current job_9 years  \\\n",
       "vif                      1.377929                      1.326442   \n",
       "\n",
       "     Years in current job_< 1 year  Home Ownership_Own Home  \\\n",
       "vif                        1.63892                 1.107817   \n",
       "\n",
       "     Home Ownership_Rent  Purpose_Buy House  Purpose_Buy a Car  \\\n",
       "vif             1.268415           1.009273           1.016034   \n",
       "\n",
       "     Purpose_Educational Expenses  Purpose_Home Improvements  \\\n",
       "vif                      1.002529                   1.072831   \n",
       "\n",
       "     Purpose_Medical Bills  Purpose_Other  Purpose_Take a Trip  \\\n",
       "vif               1.011613       1.070762             1.009313   \n",
       "\n",
       "     Purpose_major_purchase  Purpose_moving  Purpose_renewable_energy  \\\n",
       "vif                1.005207        1.002834                  1.000442   \n",
       "\n",
       "     Purpose_small_business  Purpose_vacation  Purpose_wedding  Tax Liens_1.0  \\\n",
       "vif                1.002996           1.00224         1.001528       1.003402   \n",
       "\n",
       "     Tax Liens_2.0  Tax Liens_3.0  Tax Liens_4.0  Tax Liens_5.0  \\\n",
       "vif       1.001535       1.001008       1.001155       1.000415   \n",
       "\n",
       "     Tax Liens_6.0  Tax Liens_7.0  Tax Liens_8.0  Tax Liens_9.0  \\\n",
       "vif       1.000413        1.00078       1.000379        1.00022   \n",
       "\n",
       "     Tax Liens_10.0  Tax Liens_11.0  Tax Liens_15.0  \n",
       "vif        1.000082        1.000299        1.000148  "
      ]
     },
     "execution_count": 74,
     "metadata": {},
     "output_type": "execute_result"
    }
   ],
   "source": [
    "vif=[variance_inflation_factor(Xc.values, i) for i in range(Xc.shape[1])]\n",
    "pd.DataFrame({'vif': vif[1:]}, index=X.columns).T"
   ]
  },
  {
   "cell_type": "markdown",
   "metadata": {},
   "source": [
    "Hence there is no multi-collinearity"
   ]
  },
  {
   "cell_type": "code",
   "execution_count": 75,
   "metadata": {},
   "outputs": [
    {
     "name": "stdout",
     "output_type": "stream",
     "text": [
      "Warning: Maximum number of iterations has been exceeded.\n",
      "         Current function value: 0.491924\n",
      "         Iterations: 35\n",
      "                                     Results: Logit\n",
      "========================================================================================\n",
      "Model:                       Logit                   Pseudo R-squared:        0.079     \n",
      "Dependent Variable:          Loan Status             AIC:                     76609.8612\n",
      "Date:                        2020-08-27 19:19        BIC:                     77035.8930\n",
      "No. Observations:            77774                   Log-Likelihood:          -38259.   \n",
      "Df Model:                    45                      LL-Null:                 -41543.   \n",
      "Df Residuals:                77728                   LLR p-value:             0.0000    \n",
      "Converged:                   0.0000                  Scale:                   1.0000    \n",
      "No. Iterations:              35.0000                                                    \n",
      "----------------------------------------------------------------------------------------\n",
      "                                Coef.   Std.Err.     z     P>|z|     [0.025     0.975]  \n",
      "----------------------------------------------------------------------------------------\n",
      "Current Loan Amount            14.1658     0.2481  57.1061 0.0000     13.6797    14.6520\n",
      "Term                           -1.0440     0.0210 -49.6204 0.0000     -1.0852    -1.0028\n",
      "Monthly Debt                   -0.0212     0.0016 -13.3585 0.0000     -0.0243    -0.0181\n",
      "Years of Credit History         0.1313     0.0229   5.7400 0.0000      0.0865     0.1761\n",
      "Number of Open Accounts        -0.1454     0.0187  -7.7609 0.0000     -0.1821    -0.1087\n",
      "Current Credit Balance         -0.0246     0.0015 -16.6722 0.0000     -0.0275    -0.0217\n",
      "Maximum Open Credit             0.0433     0.0026  16.6342 0.0000      0.0382     0.0484\n",
      "Credit Score                   -6.3002     0.0999 -63.0715 0.0000     -6.4960    -6.1045\n",
      "Annual Income                   0.5720     0.0259  22.0794 0.0000      0.5212     0.6228\n",
      "Years in current job_10+ years  0.1711     0.0316   5.4223 0.0000      0.1092     0.2329\n",
      "Years in current job_2 years    0.2385     0.0401   5.9442 0.0000      0.1598     0.3171\n",
      "Years in current job_3 years    0.2652     0.0415   6.3874 0.0000      0.1838     0.3465\n",
      "Years in current job_4 years    0.1800     0.0450   3.9960 0.0001      0.0917     0.2682\n",
      "Years in current job_5 years    0.1817     0.0435   4.1748 0.0000      0.0964     0.2669\n",
      "Years in current job_6 years    0.1108     0.0458   2.4178 0.0156      0.0210     0.2007\n",
      "Years in current job_7 years    0.1732     0.0467   3.7080 0.0002      0.0817     0.2648\n",
      "Years in current job_8 years    0.1241     0.0493   2.5168 0.0118      0.0275     0.2207\n",
      "Years in current job_9 years    0.0751     0.0520   1.4458 0.1482     -0.0267     0.1770\n",
      "Years in current job_< 1 year   0.1548     0.0409   3.7858 0.0002      0.0746     0.2349\n",
      "Home Ownership_Own Home        -0.1344     0.0327  -4.1109 0.0000     -0.1985    -0.0703\n",
      "Home Ownership_Rent            -0.2425     0.0204 -11.8757 0.0000     -0.2825    -0.2025\n",
      "Purpose_Buy House              -0.0936     0.1144  -0.8184 0.4132     -0.3178     0.1306\n",
      "Purpose_Buy a Car               0.6000     0.0900   6.6678 0.0000      0.4236     0.7763\n",
      "Purpose_Educational Expenses    0.6953     0.3329   2.0887 0.0367      0.0428     1.3477\n",
      "Purpose_Home Improvements       0.0276     0.0412   0.6696 0.5031     -0.0531     0.1083\n",
      "Purpose_Medical Bills          -0.0661     0.0824  -0.8018 0.4226     -0.2277     0.0955\n",
      "Purpose_Other                   0.1623     0.0325   4.9972 0.0000      0.0986     0.2259\n",
      "Purpose_Take a Trip             0.4931     0.1306   3.7763 0.0002      0.2372     0.7490\n",
      "Purpose_major_purchase         -0.0648     0.1492  -0.4345 0.6639     -0.3572     0.2275\n",
      "Purpose_moving                 -0.3128     0.2215  -1.4125 0.1578     -0.7468     0.1212\n",
      "Purpose_renewable_energy       -0.5398     0.7844  -0.6882 0.4913     -2.0771     0.9975\n",
      "Purpose_small_business         -1.2962     0.1482  -8.7487 0.0000     -1.5866    -1.0058\n",
      "Purpose_vacation                0.0298     0.2742   0.1085 0.9136     -0.5077     0.5672\n",
      "Purpose_wedding                -0.0421     0.2761  -0.1527 0.8787     -0.5832     0.4989\n",
      "Tax Liens_1.0                  -0.2262     0.0772  -2.9294 0.0034     -0.3775    -0.0749\n",
      "Tax Liens_2.0                  -0.2417     0.1418  -1.7044 0.0883     -0.5196     0.0362\n",
      "Tax Liens_3.0                  -0.5743     0.2511  -2.2870 0.0222     -1.0666    -0.0821\n",
      "Tax Liens_4.0                  -0.5008     0.3550  -1.4106 0.1584     -1.1967     0.1951\n",
      "Tax Liens_5.0                  -1.3355     0.6639  -2.0116 0.0443     -2.6368    -0.0343\n",
      "Tax Liens_6.0                   0.5673     1.1025   0.5146 0.6068     -1.5936     2.7282\n",
      "Tax Liens_7.0                  -2.0094     1.0369  -1.9379 0.0526     -4.0417     0.0229\n",
      "Tax Liens_8.0                  19.0175 39354.8935   0.0005 0.9996 -77115.1564 77153.1914\n",
      "Tax Liens_9.0                  -0.9673     1.2655  -0.7644 0.4447     -3.4475     1.5130\n",
      "Tax Liens_10.0                 19.2142 39373.7943   0.0005 0.9996 -77152.0045 77190.4329\n",
      "Tax Liens_11.0                 18.9390 39325.3611   0.0005 0.9996 -77057.3523 77095.2304\n",
      "Tax Liens_15.0                 19.3412 39396.5234   0.0005 0.9996 -77196.4257 77235.1081\n",
      "========================================================================================\n",
      "\n"
     ]
    }
   ],
   "source": [
    "logit_model=sm.Logit(y_train,X_train)\n",
    "result=logit_model.fit()\n",
    "print(result.summary2())"
   ]
  },
  {
   "cell_type": "code",
   "execution_count": 76,
   "metadata": {},
   "outputs": [
    {
     "name": "stdout",
     "output_type": "stream",
     "text": [
      "confusion matrix - Train \n",
      " [[ 1492 16069]\n",
      " [  980 59233]]\n",
      "Overall accuracy - Train \n",
      " 0.7807879239848793\n",
      "AUC-Train \n",
      " 0.6917198392113858\n",
      "confusion matrix - Test \n",
      " [[  652  6960]\n",
      " [  458 25263]]\n",
      "Overall accuracy - Test \n",
      " 0.7774577745777458\n",
      "AUC-Test \n",
      " 0.692812549345402\n"
     ]
    },
    {
     "data": {
      "image/png": "[encoded data removed]",
      "text/plain": [
       "<Figure size 432x288 with 1 Axes>"
      ]
     },
     "metadata": {
      "needs_background": "light"
     },
     "output_type": "display_data"
    }
   ],
   "source": [
    "lr = LogisticRegression(fit_intercept = True, solver='liblinear')\n",
    "lr.fit(X_train,y_train)\n",
    "y_train_pred = lr.predict(X_train)\n",
    "y_train_prob = lr.predict_proba(X_train)\n",
    "y_train_prob = lr.predict_proba(X_train)[:,1]\n",
    "print('confusion matrix - Train \\n',confusion_matrix(y_train,y_train_pred))\n",
    "print('Overall accuracy - Train \\n',accuracy_score(y_train,y_train_pred))\n",
    "print('AUC-Train \\n',roc_auc_score(y_train,y_train_prob))\n",
    "\n",
    "y_test_pred = lr.predict(X_test)\n",
    "y_test_prob = lr.predict_proba(X_test)[:,1]\n",
    "print('confusion matrix - Test \\n',confusion_matrix(y_test,y_test_pred))\n",
    "print('Overall accuracy - Test \\n',accuracy_score(y_test,y_test_pred))\n",
    "print('AUC-Test \\n',roc_auc_score(y_test,y_test_prob))\n",
    "\n",
    "fpr,tpr, thresholds = roc_curve(y_test,y_test_prob)\n",
    "plt.plot(fpr,tpr)\n",
    "plt.plot(fpr,fpr,'r')\n",
    "plt.xlabel('FPR')\n",
    "plt.ylabel('TPR')\n",
    "plt.show()"
   ]
  },
  {
   "cell_type": "code",
   "execution_count": 77,
   "metadata": {},
   "outputs": [
    {
     "name": "stdout",
     "output_type": "stream",
     "text": [
      "classification report - Train \n",
      "               precision    recall  f1-score   support\n",
      "\n",
      "           0       0.60      0.08      0.15     17561\n",
      "           1       0.79      0.98      0.87     60213\n",
      "\n",
      "    accuracy                           0.78     77774\n",
      "   macro avg       0.70      0.53      0.51     77774\n",
      "weighted avg       0.75      0.78      0.71     77774\n",
      "\n",
      "classification report - Test \n",
      "                precision    recall  f1-score   support\n",
      "\n",
      "           0       0.59      0.09      0.15      7612\n",
      "           1       0.78      0.98      0.87     25721\n",
      "\n",
      "    accuracy                           0.78     33333\n",
      "   macro avg       0.69      0.53      0.51     33333\n",
      "weighted avg       0.74      0.78      0.71     33333\n",
      "\n"
     ]
    }
   ],
   "source": [
    "print('classification report - Train \\n', classification_report(y_train,y_train_pred))\n",
    "print('classification report - Test \\n ', classification_report(y_test,y_test_pred))"
   ]
  },
  {
   "cell_type": "markdown",
   "metadata": {},
   "source": [
    "Here the Base model result of AUC score for both Train and Test is ~69% which is a generalized but the score is low hence this is a underfit model"
   ]
  },
  {
   "cell_type": "code",
   "execution_count": 78,
   "metadata": {},
   "outputs": [
    {
     "name": "stdout",
     "output_type": "stream",
     "text": [
      "0.6457661951138556\n",
      "0.006979743440785746\n"
     ]
    }
   ],
   "source": [
    "LR=LogisticRegression()\n",
    "from sklearn import model_selection\n",
    "kfold = model_selection.KFold(shuffle=True,n_splits=10,random_state=0)\n",
    "cv_results = model_selection.cross_val_score(LR, X, y,cv=kfold, scoring='roc_auc')\n",
    "print(np.mean(cv_results))\n",
    "print(np.std(cv_results,ddof=1))"
   ]
  },
  {
   "cell_type": "code",
   "execution_count": 79,
   "metadata": {},
   "outputs": [
    {
     "name": "stdout",
     "output_type": "stream",
     "text": [
      "['Current Loan Amount', 'Term', 'Monthly Debt', 'Years of Credit History', 'Number of Open Accounts', 'Current Credit Balance', 'Maximum Open Credit', 'Credit Score', 'Annual Income', 'Years in current job_10+ years', 'Years in current job_2 years', 'Years in current job_3 years', 'Years in current job_4 years', 'Years in current job_5 years', 'Years in current job_6 years', 'Years in current job_7 years', 'Years in current job_8 years', 'Years in current job_9 years', 'Years in current job_< 1 year', 'Home Ownership_Own Home', 'Home Ownership_Rent', 'Purpose_Buy House', 'Purpose_Buy a Car', 'Purpose_Medical Bills', 'Purpose_moving', 'Purpose_small_business', 'Tax Liens_1.0', 'Tax Liens_2.0', 'Tax Liens_3.0', 'Tax Liens_4.0', 'Tax Liens_5.0']\n"
     ]
    }
   ],
   "source": [
    "#Backward Elimination\n",
    "cols = list(X.columns)\n",
    "pmax = 1\n",
    "while (len(cols)>0):\n",
    "    p= []\n",
    "    X_1 = X[cols]\n",
    "    X_1 = sm.add_constant(X_1)\n",
    "    model = sm.OLS(y,X_1).fit()\n",
    "    p = pd.Series(model.pvalues.values[1:],index = cols)      \n",
    "    pmax = max(p)\n",
    "    feature_with_p_max = p.idxmax()\n",
    "    if(pmax>0.05):\n",
    "        cols.remove(feature_with_p_max)\n",
    "    else:\n",
    "        break\n",
    "selected_features_BE = cols\n",
    "print(selected_features_BE)"
   ]
  },
  {
   "cell_type": "code",
   "execution_count": 80,
   "metadata": {},
   "outputs": [
    {
     "name": "stdout",
     "output_type": "stream",
     "text": [
      "[1.25544215e-01 1.57344989e-02 1.04375203e-01 1.04314953e-01\n",
      " 9.22663647e-02 1.03651633e-01 1.04169723e-01 1.35020926e-01\n",
      " 1.22711329e-01 5.59186122e-03 4.57468547e-03 4.18126711e-03\n",
      " 5.09674269e-03 5.09516970e-03 4.64662433e-03 4.44024474e-03\n",
      " 4.52630148e-03 3.93287991e-03 4.96575077e-03 5.88678298e-03\n",
      " 6.17366009e-03 2.17626372e-03 2.07076455e-03 3.83000615e-04\n",
      " 4.60229613e-03 2.57171004e-03 8.68343776e-03 1.47729019e-03\n",
      " 1.44738673e-03 6.09752309e-04 9.52563882e-05 1.46309063e-03\n",
      " 4.72469667e-04 6.18165285e-04 3.40048233e-03 1.65050902e-03\n",
      " 6.77329829e-04 3.87626092e-04 1.20176576e-04 5.31534076e-05\n",
      " 7.58025074e-05 1.58351441e-06 5.49798422e-05 1.88114504e-06\n",
      " 3.32231080e-06 1.45269490e-06]\n"
     ]
    },
    {
     "data": {
      "image/png": "[encoded data removed]",
      "text/plain": [
       "<Figure size 432x288 with 1 Axes>"
      ]
     },
     "metadata": {
      "needs_background": "light"
     },
     "output_type": "display_data"
    }
   ],
   "source": [
    "from sklearn.ensemble import ExtraTreesClassifier\n",
    "import matplotlib.pyplot as plt\n",
    "model = ExtraTreesClassifier()\n",
    "model.fit(X_train,y_train)\n",
    "print(model.feature_importances_) #use inbuilt class feature_importances of tree based classifiers\n",
    "#plot graph of feature importances for better visualization\n",
    "feat_importances = pd.Series(model.feature_importances_, index=X.columns)\n",
    "feat_importances.nlargest(15).plot(kind='bar')\n",
    "plt.show()"
   ]
  },
  {
   "cell_type": "code",
   "execution_count": 81,
   "metadata": {},
   "outputs": [
    {
     "data": {
      "text/plain": [
       "Current Loan Amount               0.125544\n",
       "Term                              0.015734\n",
       "Monthly Debt                      0.104375\n",
       "Years of Credit History           0.104315\n",
       "Number of Open Accounts           0.092266\n",
       "Current Credit Balance            0.103652\n",
       "Maximum Open Credit               0.104170\n",
       "Credit Score                      0.135021\n",
       "Annual Income                     0.122711\n",
       "Years in current job_10+ years    0.005592\n",
       "Years in current job_2 years      0.004575\n",
       "Years in current job_3 years      0.004181\n",
       "Years in current job_4 years      0.005097\n",
       "Years in current job_5 years      0.005095\n",
       "Years in current job_6 years      0.004647\n",
       "Years in current job_7 years      0.004440\n",
       "Years in current job_8 years      0.004526\n",
       "Years in current job_9 years      0.003933\n",
       "Years in current job_< 1 year     0.004966\n",
       "Home Ownership_Own Home           0.005887\n",
       "Home Ownership_Rent               0.006174\n",
       "Purpose_Buy House                 0.002176\n",
       "Purpose_Buy a Car                 0.002071\n",
       "Purpose_Educational Expenses      0.000383\n",
       "Purpose_Home Improvements         0.004602\n",
       "Purpose_Medical Bills             0.002572\n",
       "Purpose_Other                     0.008683\n",
       "Purpose_Take a Trip               0.001477\n",
       "Purpose_major_purchase            0.001447\n",
       "Purpose_moving                    0.000610\n",
       "Purpose_renewable_energy          0.000095\n",
       "Purpose_small_business            0.001463\n",
       "Purpose_vacation                  0.000472\n",
       "Purpose_wedding                   0.000618\n",
       "Tax Liens_1.0                     0.003400\n",
       "Tax Liens_2.0                     0.001651\n",
       "Tax Liens_3.0                     0.000677\n",
       "Tax Liens_4.0                     0.000388\n",
       "Tax Liens_5.0                     0.000120\n",
       "Tax Liens_6.0                     0.000053\n",
       "Tax Liens_7.0                     0.000076\n",
       "Tax Liens_8.0                     0.000002\n",
       "Tax Liens_9.0                     0.000055\n",
       "Tax Liens_10.0                    0.000002\n",
       "Tax Liens_11.0                    0.000003\n",
       "Tax Liens_15.0                    0.000001\n",
       "dtype: float64"
      ]
     },
     "execution_count": 81,
     "metadata": {},
     "output_type": "execute_result"
    }
   ],
   "source": [
    "feat_importances"
   ]
  },
  {
   "cell_type": "code",
   "execution_count": 82,
   "metadata": {},
   "outputs": [],
   "source": [
    "# RFE "
   ]
  },
  {
   "cell_type": "markdown",
   "metadata": {},
   "source": [
    "cols=list(X.columns)\n",
    "pmax=1\n",
    "while(len(cols)>0):\n",
    "    p=[]\n",
    "    X=X[cols]\n",
    "    Xc=sm.add_constant(X)\n",
    "    model=sm.OLS(y,Xc).fit()\n",
    "    p=pd.Series(model.pvalues[1:],index=cols)\n",
    "    pmax=max(p)\n",
    "    feature_with_pvalue_max=p.idxmax()\n",
    "    if(pmax>0.05):\n",
    "        cols.remove(feature_with_pvalue_max)\n",
    "    else:\n",
    "        break\n",
    "selected_features=cols\n",
    "print(selected_features)"
   ]
  },
  {
   "cell_type": "markdown",
   "metadata": {},
   "source": [
    "X=dfff[selected_features]\n",
    "y=dfff['Loan Status']\n",
    "X_train , X_test , y_train , y_test = train_test_split(X,y,test_size=0.3,random_state=3)"
   ]
  },
  {
   "cell_type": "markdown",
   "metadata": {},
   "source": [
    "lr = LogisticRegression(fit_intercept = True, solver='liblinear')\n",
    "lr.fit(X_train,y_train)\n",
    "y_train_pred = lr.predict(X_train)\n",
    "y_train_prob = lr.predict_proba(X_train)\n",
    "y_train_prob = lr.predict_proba(X_train)[:,1]\n",
    "print('confusion matrix - Train \\n',confusion_matrix(y_train,y_train_pred))\n",
    "print('Overall accuracy - Train \\n',accuracy_score(y_train,y_train_pred))\n",
    "print('AUC-Train \\n',roc_auc_score(y_train,y_train_prob))\n",
    "\n",
    "y_test_pred = lr.predict(X_test)\n",
    "y_test_prob = lr.predict_proba(X_test)[:,1]\n",
    "print('confusion matrix - Test \\n',confusion_matrix(y_test,y_test_pred))\n",
    "print('Overall accuracy - Test \\n',accuracy_score(y_test,y_test_pred))\n",
    "print('AUC-Test \\n',roc_auc_score(y_test,y_test_prob))\n",
    "\n",
    "fpr,tpr, thresholds = roc_curve(y_test,y_test_prob)\n",
    "plt.plot(fpr,tpr)\n",
    "plt.title('RFE ')\n",
    "plt.plot(fpr,fpr,'r')\n",
    "plt.xlabel('FPR')\n",
    "plt.ylabel('TPR')\n",
    "plt.show()"
   ]
  },
  {
   "cell_type": "markdown",
   "metadata": {},
   "source": [
    "X=dfff[selected_features_BE]\n",
    "y=dfff['Loan Status']\n",
    "X_train , X_test , y_train , y_test = train_test_split(X,y,test_size=0.3,random_state=3)"
   ]
  },
  {
   "cell_type": "markdown",
   "metadata": {},
   "source": [
    "lr = LogisticRegression(fit_intercept = True, solver='liblinear')\n",
    "lr.fit(X_train,y_train)\n",
    "y_train_pred = lr.predict(X_train)\n",
    "y_train_prob = lr.predict_proba(X_train)\n",
    "y_train_prob = lr.predict_proba(X_train)[:,1]\n",
    "print('confusion matrix - Train \\n',confusion_matrix(y_train,y_train_pred))\n",
    "print('Overall accuracy - Train \\n',accuracy_score(y_train,y_train_pred))\n",
    "print('AUC-Train \\n',roc_auc_score(y_train,y_train_prob))\n",
    "\n",
    "y_test_pred = lr.predict(X_test)\n",
    "y_test_prob = lr.predict_proba(X_test)[:,1]\n",
    "print('confusion matrix - Test \\n',confusion_matrix(y_test,y_test_pred))\n",
    "print('Overall accuracy - Test \\n',accuracy_score(y_test,y_test_pred))\n",
    "print('AUC-Test \\n',roc_auc_score(y_test,y_test_prob))\n",
    "\n",
    "fpr,tpr, thresholds = roc_curve(y_test,y_test_prob)\n",
    "plt.plot(fpr,tpr)\n",
    "plt.plot(fpr,fpr,'r')\n",
    "plt.xlabel('FPR')\n",
    "plt.ylabel('TPR')\n",
    "plt.show()"
   ]
  },
  {
   "cell_type": "markdown",
   "metadata": {},
   "source": [
    "print('classification report - Train \\n', classification_report(y_train,y_train_pred))\n",
    "print('classification report - Test \\n ', classification_report(y_test,y_test_pred))"
   ]
  },
  {
   "cell_type": "markdown",
   "metadata": {},
   "source": [
    "X.columns"
   ]
  },
  {
   "cell_type": "markdown",
   "metadata": {},
   "source": [
    "rr = Ridge(alpha=0.01) \n",
    "# restricted and in this case linear and ridge regression resembles\n",
    "rr.fit(X_train, y_train)"
   ]
  },
  {
   "cell_type": "markdown",
   "metadata": {},
   "source": [
    "rr100 = Ridge(alpha=100) #  comparison with alpha value\n",
    "rr100.fit(X_train, y_train)"
   ]
  },
  {
   "cell_type": "markdown",
   "metadata": {},
   "source": [
    "train_score=lr.score(X_train, y_train)\n",
    "test_score=lr.score(X_test, y_test)"
   ]
  },
  {
   "cell_type": "markdown",
   "metadata": {},
   "source": [
    "Ridge_train_score = rr.score(X_train,y_train)\n",
    "Ridge_test_score = rr.score(X_test, y_test)"
   ]
  },
  {
   "cell_type": "markdown",
   "metadata": {},
   "source": [
    "Ridge_train_score100 = rr100.score(X_train,y_train)\n",
    "Ridge_test_score100 = rr100.score(X_test, y_test)"
   ]
  },
  {
   "cell_type": "markdown",
   "metadata": {},
   "source": [
    "print(\"R2 score logistic regression train score:\", train_score)\n",
    "print(\"R2 score logistic regression test score:\", test_score)\n",
    "print(\"ridge regression train score low alpha:\", Ridge_train_score)\n",
    "print(\"ridge regression test score low alpha:\", Ridge_test_score)\n",
    "print(\"ridge regression train score high alpha:\", Ridge_train_score100)\n",
    "print(\"ridge regression test score high alpha:\", Ridge_test_score100)"
   ]
  },
  {
   "cell_type": "code",
   "execution_count": 83,
   "metadata": {},
   "outputs": [],
   "source": [
    "from sklearn.feature_selection import SelectKBest\n",
    "from sklearn.feature_selection import f_classif"
   ]
  },
  {
   "cell_type": "code",
   "execution_count": 84,
   "metadata": {},
   "outputs": [
    {
     "name": "stdout",
     "output_type": "stream",
     "text": [
      "                        Specs         pvalue        Score\n",
      "7                Credit Score   0.000000e+00  2098.335911\n",
      "0         Current Loan Amount  1.956683e-241  1108.884137\n",
      "1                        Term  1.430870e-203   932.398339\n",
      "8               Annual Income   7.768290e-65   289.650614\n",
      "20        Home Ownership_Rent   5.625156e-41   179.912543\n",
      "6         Maximum Open Credit   1.061808e-19    82.534764\n",
      "3     Years of Credit History   1.182054e-16    68.670357\n",
      "31     Purpose_small_business   1.676954e-15    63.438242\n",
      "22          Purpose_Buy a Car   2.297375e-07    26.769978\n",
      "24  Purpose_Home Improvements   7.679145e-07    24.440706\n"
     ]
    }
   ],
   "source": [
    "bestfeatures = SelectKBest(score_func=f_classif, k=10)\n",
    "fit = bestfeatures.fit(X_train,y_train)\n",
    "dfscores = pd.DataFrame(fit.scores_)\n",
    "dfpvalue= pd.DataFrame(fit.pvalues_)\n",
    "dfcolumns = pd.DataFrame(X_train.columns)\n",
    "#concat two dataframes for better visualization \n",
    "featureScores = pd.concat([dfcolumns,dfpvalue,dfscores],axis=1)\n",
    "featureScores.columns = ['Specs','pvalue','Score']  #naming the dataframe columns\n",
    "print(featureScores.nlargest(10,'Score'))  #print 10 best features"
   ]
  },
  {
   "cell_type": "code",
   "execution_count": 85,
   "metadata": {},
   "outputs": [
    {
     "data": {
      "text/plain": [
       "['Credit Score',\n",
       " 'Current Loan Amount',\n",
       " 'Term',\n",
       " 'Annual Income',\n",
       " 'Home Ownership_Rent',\n",
       " 'Maximum Open Credit',\n",
       " 'Years of Credit History',\n",
       " 'Purpose_small_business',\n",
       " 'Purpose_Buy a Car',\n",
       " 'Purpose_Home Improvements']"
      ]
     },
     "execution_count": 85,
     "metadata": {},
     "output_type": "execute_result"
    }
   ],
   "source": [
    "signi_cols=list(featureScores.nlargest(10,'Score')['Specs'].values)\n",
    "signi_cols"
   ]
  },
  {
   "cell_type": "code",
   "execution_count": 86,
   "metadata": {},
   "outputs": [],
   "source": [
    "X=dfff[signi_cols]\n",
    "y=dfff['Loan Status']\n",
    "X_train , X_test , y_train , y_test = train_test_split(X,y,test_size=0.3,random_state=3)"
   ]
  },
  {
   "cell_type": "code",
   "execution_count": 87,
   "metadata": {},
   "outputs": [
    {
     "name": "stdout",
     "output_type": "stream",
     "text": [
      "Optimization terminated successfully.\n",
      "         Current function value: 0.498628\n",
      "         Iterations 6\n",
      "                              Results: Logit\n",
      "==========================================================================\n",
      "Model:                 Logit               Pseudo R-squared:    0.066     \n",
      "Dependent Variable:    Loan Status         AIC:                 77580.5150\n",
      "Date:                  2020-08-27 19:22    BIC:                 77673.1306\n",
      "No. Observations:      77774               Log-Likelihood:      -38780.   \n",
      "Df Model:              9                   LL-Null:             -41543.   \n",
      "Df Residuals:          77764               LLR p-value:         0.0000    \n",
      "Converged:             1.0000              Scale:               1.0000    \n",
      "No. Iterations:        6.0000                                             \n",
      "--------------------------------------------------------------------------\n",
      "                           Coef.  Std.Err.    z     P>|z|   [0.025  0.975]\n",
      "--------------------------------------------------------------------------\n",
      "Credit Score              -5.5828   0.0938 -59.5478 0.0000 -5.7666 -5.3991\n",
      "Current Loan Amount       13.1257   0.2384  55.0572 0.0000 12.6584 13.5929\n",
      "Term                      -1.0592   0.0208 -50.8699 0.0000 -1.1000 -1.0184\n",
      "Annual Income              0.3520   0.0224  15.7073 0.0000  0.3081  0.3959\n",
      "Home Ownership_Rent       -0.1766   0.0190  -9.2790 0.0000 -0.2140 -0.1393\n",
      "Maximum Open Credit       -0.0021   0.0015  -1.4012 0.1612 -0.0050  0.0008\n",
      "Years of Credit History    0.0692   0.0220   3.1474 0.0016  0.0261  0.1123\n",
      "Purpose_small_business    -1.1609   0.1438  -8.0740 0.0000 -1.4427 -0.8791\n",
      "Purpose_Buy a Car          0.7326   0.0889   8.2439 0.0000  0.5584  0.9068\n",
      "Purpose_Home Improvements  0.1452   0.0402   3.6093 0.0003  0.0663  0.2240\n",
      "==========================================================================\n",
      "\n"
     ]
    }
   ],
   "source": [
    "logit_model=sm.Logit(y_train,X_train)\n",
    "result=logit_model.fit()\n",
    "print(result.summary2())"
   ]
  },
  {
   "cell_type": "code",
   "execution_count": 88,
   "metadata": {},
   "outputs": [
    {
     "name": "stdout",
     "output_type": "stream",
     "text": [
      "confusion matrix - Train \n",
      " [[  891 16670]\n",
      " [  609 59604]]\n",
      "Overall accuracy - Train \n",
      " 0.7778306374881065\n",
      "AUC-Train \n",
      " 0.6758973716498919\n",
      "confusion matrix - Test \n",
      " [[  394  7218]\n",
      " [  264 25457]]\n",
      "Overall accuracy - Test \n",
      " 0.7755377553775538\n",
      "AUC-Test \n",
      " 0.6755447563830337\n"
     ]
    },
    {
     "data": {
      "image/png": "[encoded data removed]",
      "text/plain": [
       "<Figure size 432x288 with 1 Axes>"
      ]
     },
     "metadata": {
      "needs_background": "light"
     },
     "output_type": "display_data"
    }
   ],
   "source": [
    "lr = LogisticRegression(fit_intercept = True, solver='liblinear')\n",
    "lr.fit(X_train,y_train)\n",
    "y_train_pred = lr.predict(X_train)\n",
    "y_train_prob = lr.predict_proba(X_train)\n",
    "y_train_prob = lr.predict_proba(X_train)[:,1]\n",
    "print('confusion matrix - Train \\n',confusion_matrix(y_train,y_train_pred))\n",
    "print('Overall accuracy - Train \\n',accuracy_score(y_train,y_train_pred))\n",
    "print('AUC-Train \\n',roc_auc_score(y_train,y_train_prob))\n",
    "\n",
    "y_test_pred = lr.predict(X_test)\n",
    "y_test_prob = lr.predict_proba(X_test)[:,1]\n",
    "print('confusion matrix - Test \\n',confusion_matrix(y_test,y_test_pred))\n",
    "print('Overall accuracy - Test \\n',accuracy_score(y_test,y_test_pred))\n",
    "print('AUC-Test \\n',roc_auc_score(y_test,y_test_prob))\n",
    "\n",
    "fpr,tpr, thresholds = roc_curve(y_test,y_test_prob)\n",
    "plt.plot(fpr,tpr)\n",
    "plt.plot(fpr,fpr,'r')\n",
    "plt.xlabel('FPR')\n",
    "plt.ylabel('TPR')\n",
    "plt.show()"
   ]
  },
  {
   "cell_type": "markdown",
   "metadata": {},
   "source": [
    "### Scaling the data"
   ]
  },
  {
   "cell_type": "code",
   "execution_count": 89,
   "metadata": {},
   "outputs": [],
   "source": [
    "from sklearn.preprocessing import StandardScaler\n",
    "ss = StandardScaler()\n",
    "Xs = ss.fit_transform(X)\n",
    "\n",
    "X_train = ss.fit_transform(X_train)\n",
    "X_test = ss.transform(X_test)"
   ]
  },
  {
   "cell_type": "markdown",
   "metadata": {},
   "source": [
    "### Random Forest"
   ]
  },
  {
   "cell_type": "code",
   "execution_count": 90,
   "metadata": {},
   "outputs": [
    {
     "name": "stdout",
     "output_type": "stream",
     "text": [
      "confusion matrix - Train : \n",
      " [[17561     0]\n",
      " [    0 60213]]\n",
      "Overall accuracy - Train: \n",
      " 1.0\n",
      "AUC-Train: \n",
      " 1.0\n",
      "\n",
      "\n",
      "confusion matrix - Test: \n",
      " [[ 2007  5605]\n",
      " [  735 24986]]\n",
      "Overall accuracy - Test: \n",
      " 0.8097980979809798\n",
      "AUC-Test: \n",
      " 0.7805694746179154\n"
     ]
    },
    {
     "data": {
      "image/png": "[encoded data removed]",
      "text/plain": [
       "<Figure size 432x288 with 1 Axes>"
      ]
     },
     "metadata": {
      "needs_background": "light"
     },
     "output_type": "display_data"
    }
   ],
   "source": [
    "rfc = RandomForestClassifier(n_estimators=100,random_state=3)\n",
    "rfc.fit(X_train,y_train)\n",
    "y_train_pred = rfc.predict(X_train)\n",
    "y_train_prob = rfc.predict_proba(X_train)[:,1]\n",
    "print('confusion matrix - Train : \\n',confusion_matrix(y_train,y_train_pred))\n",
    "print('Overall accuracy - Train: \\n',accuracy_score(y_train,y_train_pred))\n",
    "print('AUC-Train: \\n',roc_auc_score(y_train,y_train_prob))\n",
    "\n",
    "y_test_pred = rfc.predict(X_test)\n",
    "y_test_prob = rfc.predict_proba(X_test)[:,1]\n",
    "print('\\n')\n",
    "print('confusion matrix - Test: \\n',confusion_matrix(y_test,y_test_pred))\n",
    "print('Overall accuracy - Test: \\n',accuracy_score(y_test,y_test_pred))\n",
    "print('AUC-Test: \\n',roc_auc_score(y_test,y_test_prob))\n",
    "fpr,tpr, thresholds = roc_curve(y_test,y_test_prob)\n",
    "plt.plot(fpr,tpr)\n",
    "plt.plot(fpr,fpr,'r')\n",
    "plt.xlabel('FPR')\n",
    "plt.ylabel('TPR')\n",
    "plt.show()"
   ]
  },
  {
   "cell_type": "code",
   "execution_count": 91,
   "metadata": {},
   "outputs": [
    {
     "data": {
      "text/html": [
       "<div>\n",
       "<style scoped>\n",
       "    .dataframe tbody tr th:only-of-type {\n",
       "        vertical-align: middle;\n",
       "    }\n",
       "\n",
       "    .dataframe tbody tr th {\n",
       "        vertical-align: top;\n",
       "    }\n",
       "\n",
       "    .dataframe thead th {\n",
       "        text-align: right;\n",
       "    }\n",
       "</style>\n",
       "<table border=\"1\" class=\"dataframe\">\n",
       "  <thead>\n",
       "    <tr style=\"text-align: right;\">\n",
       "      <th></th>\n",
       "      <th>IMP</th>\n",
       "    </tr>\n",
       "  </thead>\n",
       "  <tbody>\n",
       "    <tr>\n",
       "      <th>Current Loan Amount</th>\n",
       "      <td>0.225194</td>\n",
       "    </tr>\n",
       "    <tr>\n",
       "      <th>Annual Income</th>\n",
       "      <td>0.211309</td>\n",
       "    </tr>\n",
       "    <tr>\n",
       "      <th>Maximum Open Credit</th>\n",
       "      <td>0.196651</td>\n",
       "    </tr>\n",
       "    <tr>\n",
       "      <th>Years of Credit History</th>\n",
       "      <td>0.170599</td>\n",
       "    </tr>\n",
       "    <tr>\n",
       "      <th>Credit Score</th>\n",
       "      <td>0.164482</td>\n",
       "    </tr>\n",
       "    <tr>\n",
       "      <th>Term</th>\n",
       "      <td>0.013233</td>\n",
       "    </tr>\n",
       "    <tr>\n",
       "      <th>Home Ownership_Rent</th>\n",
       "      <td>0.008449</td>\n",
       "    </tr>\n",
       "    <tr>\n",
       "      <th>Purpose_Home Improvements</th>\n",
       "      <td>0.005961</td>\n",
       "    </tr>\n",
       "    <tr>\n",
       "      <th>Purpose_Buy a Car</th>\n",
       "      <td>0.002308</td>\n",
       "    </tr>\n",
       "    <tr>\n",
       "      <th>Purpose_small_business</th>\n",
       "      <td>0.001813</td>\n",
       "    </tr>\n",
       "  </tbody>\n",
       "</table>\n",
       "</div>"
      ],
      "text/plain": [
       "                                IMP\n",
       "Current Loan Amount        0.225194\n",
       "Annual Income              0.211309\n",
       "Maximum Open Credit        0.196651\n",
       "Years of Credit History    0.170599\n",
       "Credit Score               0.164482\n",
       "Term                       0.013233\n",
       "Home Ownership_Rent        0.008449\n",
       "Purpose_Home Improvements  0.005961\n",
       "Purpose_Buy a Car          0.002308\n",
       "Purpose_small_business     0.001813"
      ]
     },
     "execution_count": 91,
     "metadata": {},
     "output_type": "execute_result"
    }
   ],
   "source": [
    "imp =pd.DataFrame(rfc.feature_importances_, index=X.columns, columns=['IMP'])\n",
    "imp = imp.sort_values(by='IMP', ascending=False)\n",
    "imp"
   ]
  },
  {
   "cell_type": "code",
   "execution_count": 92,
   "metadata": {},
   "outputs": [
    {
     "name": "stdout",
     "output_type": "stream",
     "text": [
      "classification report - Train \n",
      "               precision    recall  f1-score   support\n",
      "\n",
      "           0       1.00      1.00      1.00     17561\n",
      "           1       1.00      1.00      1.00     60213\n",
      "\n",
      "    accuracy                           1.00     77774\n",
      "   macro avg       1.00      1.00      1.00     77774\n",
      "weighted avg       1.00      1.00      1.00     77774\n",
      "\n",
      "classification report - Test \n",
      "                precision    recall  f1-score   support\n",
      "\n",
      "           0       0.73      0.26      0.39      7612\n",
      "           1       0.82      0.97      0.89     25721\n",
      "\n",
      "    accuracy                           0.81     33333\n",
      "   macro avg       0.77      0.62      0.64     33333\n",
      "weighted avg       0.80      0.81      0.77     33333\n",
      "\n"
     ]
    }
   ],
   "source": [
    "print('classification report - Train \\n', classification_report(y_train,y_train_pred))\n",
    "print('classification report - Test \\n ', classification_report(y_test,y_test_pred))"
   ]
  },
  {
   "cell_type": "markdown",
   "metadata": {},
   "source": [
    "Cheking for Boosting techniques"
   ]
  },
  {
   "cell_type": "code",
   "execution_count": 93,
   "metadata": {},
   "outputs": [],
   "source": [
    "from sklearn import model_selection\n",
    "\n",
    "import lightgbm as lgm\n",
    "\n",
    "import xgboost as xgb\n",
    "\n",
    "from lightgbm import LGBMClassifier\n",
    "\n",
    "from xgboost import XGBClassifier"
   ]
  },
  {
   "cell_type": "code",
   "execution_count": 94,
   "metadata": {},
   "outputs": [],
   "source": [
    "models=[]\n",
    "models.append(('Lightgbm',LGBMClassifier()))\n",
    "models.append(('xgboost',XGBClassifier()))"
   ]
  },
  {
   "cell_type": "code",
   "execution_count": 95,
   "metadata": {},
   "outputs": [
    {
     "name": "stdout",
     "output_type": "stream",
     "text": [
      "Lightgbm 0.7557481889835759\n",
      "xgboost 0.7510445569457539\n"
     ]
    }
   ],
   "source": [
    "results=[]\n",
    "names=[]\n",
    "for name,model in models:\n",
    "    kfold= model_selection.KFold(n_splits=10, random_state=0, shuffle=True)\n",
    "    cv_results= model_selection.cross_val_score(model, X_train, y_train, cv=kfold, scoring='roc_auc')\n",
    "    results.append(cv_results)\n",
    "    names.append(name)\n",
    "    print(name, cv_results.mean())"
   ]
  },
  {
   "cell_type": "code",
   "execution_count": 96,
   "metadata": {},
   "outputs": [
    {
     "name": "stdout",
     "output_type": "stream",
     "text": [
      "overall accuracy -Train:  0.8234371383752925\n",
      "confusion matrix:\n",
      " [[ 3944 13617]\n",
      " [  115 60098]]\n",
      "AUC-train: 0.8011093281190669\n",
      "overall accuracy -Test:  0.8183181831818318\n",
      "confusion matrix:\n",
      " [[ 1670  5942]\n",
      " [  114 25607]]\n",
      "AUC-test: 0.7566269808670645\n"
     ]
    },
    {
     "data": {
      "image/png": "[encoded data removed]",
      "text/plain": [
       "<Figure size 432x288 with 1 Axes>"
      ]
     },
     "metadata": {
      "needs_background": "light"
     },
     "output_type": "display_data"
    }
   ],
   "source": [
    "lgbm= lgm.LGBMClassifier(n_estimators=100,random_state=1234)\n",
    "lgbm.fit(X_train,y_train)\n",
    "\n",
    "train_pred=lgbm.predict(X_train)\n",
    "train_prob=lgbm.predict_proba(X_train)[:,1]\n",
    "\n",
    "train_prob\n",
    "\n",
    "print('overall accuracy -Train: ',accuracy_score(y_train,train_pred))\n",
    "print('confusion matrix:\\n',confusion_matrix (y_train,train_pred))\n",
    "\n",
    "print('AUC-train:',roc_auc_score(y_train,train_prob))\n",
    "\n",
    "test_pred=lgbm.predict(X_test)\n",
    "test_prob=lgbm.predict_proba(X_test)[:,1]\n",
    "print('overall accuracy -Test: ',accuracy_score(y_test,test_pred))\n",
    "print('confusion matrix:\\n',confusion_matrix (y_test,test_pred))\n",
    "print('AUC-test:',roc_auc_score(y_test,test_prob))\n",
    "\n",
    "fpr, tpr, thresholds = roc_curve(y_test, test_prob)\n",
    "plt.plot(fpr, tpr)\n",
    "plt.plot(fpr, fpr, 'r')\n",
    "plt.xlabel('FPR')\n",
    "plt.ylabel('TPR')\n",
    "plt.title('ROC Analysis')\n",
    "plt.show()"
   ]
  },
  {
   "cell_type": "code",
   "execution_count": 97,
   "metadata": {},
   "outputs": [
    {
     "name": "stdout",
     "output_type": "stream",
     "text": [
      "classification report - Train \n",
      "               precision    recall  f1-score   support\n",
      "\n",
      "           0       0.97      0.22      0.36     17561\n",
      "           1       0.82      1.00      0.90     60213\n",
      "\n",
      "    accuracy                           0.82     77774\n",
      "   macro avg       0.89      0.61      0.63     77774\n",
      "weighted avg       0.85      0.82      0.78     77774\n",
      "\n",
      "classification report - Test \n",
      "                precision    recall  f1-score   support\n",
      "\n",
      "           0       0.94      0.22      0.36      7612\n",
      "           1       0.81      1.00      0.89     25721\n",
      "\n",
      "    accuracy                           0.82     33333\n",
      "   macro avg       0.87      0.61      0.62     33333\n",
      "weighted avg       0.84      0.82      0.77     33333\n",
      "\n"
     ]
    }
   ],
   "source": [
    "print('classification report - Train \\n', classification_report(y_train,train_pred))\n",
    "print('classification report - Test \\n ', classification_report(y_test,test_pred))"
   ]
  },
  {
   "cell_type": "code",
   "execution_count": 98,
   "metadata": {},
   "outputs": [
    {
     "name": "stdout",
     "output_type": "stream",
     "text": [
      "overall accuracy -Train:  0.8317818294031425\n",
      "confusion matrix:\n",
      " [[ 4703 12858]\n",
      " [  225 59988]]\n",
      "AUC-train: 0.8372890034202018\n",
      "overall accuracy -Test:  0.8171181711817118\n",
      "confusion matrix:\n",
      " [[ 1768  5844]\n",
      " [  252 25469]]\n",
      "AUC-test: 0.751940371784922\n"
     ]
    },
    {
     "data": {
      "image/png": "[encoded data removed]",
      "text/plain": [
       "<Figure size 432x288 with 1 Axes>"
      ]
     },
     "metadata": {
      "needs_background": "light"
     },
     "output_type": "display_data"
    }
   ],
   "source": [
    "xgbm= xgb.XGBClassifier(n_estimators=100,random_state=1234)\n",
    "xgbm.fit(X_train,y_train)\n",
    "\n",
    "train_pred=xgbm.predict(X_train)\n",
    "train_prob=xgbm.predict_proba(X_train)[:,1]\n",
    "\n",
    "train_prob\n",
    "\n",
    "print('overall accuracy -Train: ',accuracy_score(y_train,train_pred))\n",
    "print('confusion matrix:\\n',confusion_matrix (y_train,train_pred))\n",
    "\n",
    "print('AUC-train:',roc_auc_score(y_train,train_prob))\n",
    "\n",
    "test_pred=xgbm.predict(X_test)\n",
    "test_prob=xgbm.predict_proba(X_test)[:,1]\n",
    "print('overall accuracy -Test: ',accuracy_score(y_test,test_pred))\n",
    "print('confusion matrix:\\n',confusion_matrix (y_test,test_pred))\n",
    "print('AUC-test:',roc_auc_score(y_test,test_prob))\n",
    "\n",
    "fpr, tpr, thresholds = roc_curve(y_test, test_prob)\n",
    "plt.plot(fpr, tpr)\n",
    "plt.plot(fpr, fpr, 'r')\n",
    "plt.xlabel('FPR')\n",
    "plt.ylabel('TPR')\n",
    "plt.title('ROC Analysis')\n",
    "plt.show()"
   ]
  },
  {
   "cell_type": "code",
   "execution_count": 99,
   "metadata": {},
   "outputs": [
    {
     "name": "stdout",
     "output_type": "stream",
     "text": [
      "classification report - Train \n",
      "               precision    recall  f1-score   support\n",
      "\n",
      "           0       0.95      0.27      0.42     17561\n",
      "           1       0.82      1.00      0.90     60213\n",
      "\n",
      "    accuracy                           0.83     77774\n",
      "   macro avg       0.89      0.63      0.66     77774\n",
      "weighted avg       0.85      0.83      0.79     77774\n",
      "\n",
      "classification report - Test \n",
      "                precision    recall  f1-score   support\n",
      "\n",
      "           0       0.88      0.23      0.37      7612\n",
      "           1       0.81      0.99      0.89     25721\n",
      "\n",
      "    accuracy                           0.82     33333\n",
      "   macro avg       0.84      0.61      0.63     33333\n",
      "weighted avg       0.83      0.82      0.77     33333\n",
      "\n"
     ]
    }
   ],
   "source": [
    "print('classification report - Train \\n', classification_report(y_train,train_pred))\n",
    "print('classification report - Test \\n ', classification_report(y_test,test_pred))"
   ]
  },
  {
   "cell_type": "code",
   "execution_count": 100,
   "metadata": {},
   "outputs": [
    {
     "name": "stdout",
     "output_type": "stream",
     "text": [
      "Confusion Matrix:  \n",
      " [[ 3533 14028]\n",
      " [   22 60191]]\n",
      "Overall Accuracy -Train:  0.8193483683493198\n",
      "AUC-Train: 0.7474576229462757\n",
      "Confusion Matrix: -Test \n",
      " [[ 1564  6048]\n",
      " [   20 25701]]\n",
      "Overall Accuracy -Test:  0.8179581795817958\n",
      "AUC-Test: 0.7435277092110715\n"
     ]
    },
    {
     "data": {
      "image/png": "[encoded data removed]",
      "text/plain": [
       "<Figure size 432x288 with 1 Axes>"
      ]
     },
     "metadata": {
      "needs_background": "light"
     },
     "output_type": "display_data"
    }
   ],
   "source": [
    "from sklearn.ensemble import AdaBoostClassifier\n",
    "ada= AdaBoostClassifier(random_state=1234)\n",
    "ada.fit(X_train, y_train)\n",
    "\n",
    "\n",
    "y_train_pred= ada.predict(X_train)\n",
    "y_train_prob= ada.predict_proba(X_train)[:,1]\n",
    "\n",
    "print('Confusion Matrix: ', '\\n', confusion_matrix(y_train, y_train_pred))\n",
    "print('Overall Accuracy -Train: ', accuracy_score(y_train, y_train_pred))\n",
    "print('AUC-Train:',roc_auc_score(y_train, y_train_prob))\n",
    "\n",
    "y_test_pred= ada.predict(X_test)\n",
    "y_test_prob= ada.predict_proba(X_test)[:,1]\n",
    "\n",
    "print('Confusion Matrix: -Test', '\\n', confusion_matrix(y_test, y_test_pred))\n",
    "print('Overall Accuracy -Test: ', accuracy_score(y_test, y_test_pred))\n",
    "print('AUC-Test:',roc_auc_score(y_test, y_test_prob))\n",
    "\n",
    "fpr, tpr, thresholds = roc_curve(y_test, y_test_prob)\n",
    "plt.plot(fpr, tpr)\n",
    "plt.plot(fpr, fpr, 'r')\n",
    "plt.xlabel('FPR')\n",
    "plt.ylabel('TPR')\n",
    "plt.title('ROC Analysis')\n",
    "plt.show()"
   ]
  },
  {
   "cell_type": "code",
   "execution_count": null,
   "metadata": {},
   "outputs": [],
   "source": [
    "print('classification report - Train \\n', classification_report(y_train,y_train_pred))\n",
    "print('classification report - Test \\n ', classification_report(y_test,y_test_pred))"
   ]
  },
  {
   "cell_type": "code",
   "execution_count": 102,
   "metadata": {},
   "outputs": [
    {
     "data": {
      "text/plain": [
       "1    85934\n",
       "0    25173\n",
       "Name: Loan Status, dtype: int64"
      ]
     },
     "execution_count": 102,
     "metadata": {},
     "output_type": "execute_result"
    }
   ],
   "source": [
    "dfff['Loan Status'].value_counts()"
   ]
  },
  {
   "cell_type": "code",
   "execution_count": 103,
   "metadata": {},
   "outputs": [],
   "source": [
    "X=dfff[signi_cols]\n",
    "y=dfff['Loan Status']\n",
    "X_train , X_test , y_train , y_test = train_test_split(X,y,test_size=0.3,random_state=3)"
   ]
  },
  {
   "cell_type": "code",
   "execution_count": 104,
   "metadata": {},
   "outputs": [],
   "source": [
    "from sklearn.utils import resample \n",
    "upsample_data  = pd.concat([X_train, y_train], axis=1)"
   ]
  },
  {
   "cell_type": "code",
   "execution_count": 105,
   "metadata": {},
   "outputs": [],
   "source": [
    "majority = upsample_data[upsample_data[\"Loan Status\"]==1] \n",
    "minority = upsample_data[upsample_data[\"Loan Status\"]==0]  \n",
    "minority_upsampled = resample(minority, replace=True ,n_samples=60213 ,random_state=42)  \n",
    "del(upsample_data) \n",
    "upsample_data = pd.concat([majority,minority_upsampled])"
   ]
  },
  {
   "cell_type": "code",
   "execution_count": 106,
   "metadata": {},
   "outputs": [],
   "source": [
    "X=dfff[signi_cols]\n",
    "y=dfff['Loan Status']\n",
    "X_train , X_test , y_train , y_test = train_test_split(X,y,test_size=0.3,random_state=3)"
   ]
  },
  {
   "cell_type": "code",
   "execution_count": 107,
   "metadata": {},
   "outputs": [],
   "source": [
    "X_trains= upsample_data.drop('Loan Status', axis=1)\n",
    "y_trains= upsample_data['Loan Status']"
   ]
  },
  {
   "cell_type": "code",
   "execution_count": 108,
   "metadata": {},
   "outputs": [
    {
     "data": {
      "text/plain": [
       "1    60213\n",
       "0    60213\n",
       "Name: Loan Status, dtype: int64"
      ]
     },
     "execution_count": 108,
     "metadata": {},
     "output_type": "execute_result"
    }
   ],
   "source": [
    "upsample_data['Loan Status'].value_counts()"
   ]
  },
  {
   "cell_type": "code",
   "execution_count": null,
   "metadata": {},
   "outputs": [],
   "source": [
    "lr = LogisticRegression(fit_intercept = True, solver='liblinear')\n",
    "lr.fit(X_trains,y_trains)\n",
    "y_train_pred = lr.predict(X_trains)\n",
    "y_train_prob = lr.predict_proba(X_trains)\n",
    "y_train_prob = lr.predict_proba(X_trains)[:,1]\n",
    "print('confusion matrix - Train \\n',confusion_matrix(y_trains,y_train_pred))\n",
    "print('Overall accuracy - Train \\n',accuracy_score(y_trains,y_train_pred))\n",
    "print('AUC-Train \\n',roc_auc_score(y_trains,y_train_prob))\n",
    "\n",
    "y_test_pred = lr.predict(X_test)\n",
    "y_test_prob = lr.predict_proba(X_test)[:,1]\n",
    "print('confusion matrix - Test \\n',confusion_matrix(y_test,y_test_pred))\n",
    "print('Overall accuracy - Test \\n',accuracy_score(y_test,y_test_pred))\n",
    "print('AUC-Test \\n',roc_auc_score(y_test,y_test_prob))\n",
    "\n",
    "fpr,tpr, thresholds = roc_curve(y_test,y_test_prob)\n",
    "plt.plot(fpr,tpr)\n",
    "plt.plot(fpr,fpr,'r')\n",
    "plt.xlabel('FPR')\n",
    "plt.ylabel('TPR')\n",
    "plt.show()"
   ]
  },
  {
   "cell_type": "code",
   "execution_count": null,
   "metadata": {},
   "outputs": [],
   "source": [
    "print('classification report - Train \\n', classification_report(y_trains,y_train_pred))\n",
    "print('classification report - Test \\n ', classification_report(y_test,y_test_pred))"
   ]
  },
  {
   "cell_type": "code",
   "execution_count": 109,
   "metadata": {},
   "outputs": [
    {
     "name": "stdout",
     "output_type": "stream",
     "text": [
      "overall accuracy -Train:  0.7158919170278844\n",
      "confusion matrix:\n",
      " [[42090 18123]\n",
      " [16091 44122]]\n",
      "AUC-train: 0.8077193964735658\n",
      "overall accuracy -Test:  0.6902469024690246\n",
      "confusion matrix:\n",
      " [[ 4783  2829]\n",
      " [ 7496 18225]]\n",
      "AUC-test: 0.7561208728703497\n"
     ]
    },
    {
     "data": {
      "image/png": "[encoded data removed]",
      "text/plain": [
       "<Figure size 432x288 with 1 Axes>"
      ]
     },
     "metadata": {
      "needs_background": "light"
     },
     "output_type": "display_data"
    }
   ],
   "source": [
    "lgbm= lgm.LGBMClassifier(n_estimators=100,random_state=3)\n",
    "lgbm.fit(X_trains,y_trains)\n",
    "\n",
    "train_pred=lgbm.predict(X_trains)\n",
    "train_prob=lgbm.predict_proba(X_trains)[:,1]\n",
    "\n",
    "train_prob\n",
    "\n",
    "print('overall accuracy -Train: ',accuracy_score(y_trains,train_pred))\n",
    "print('confusion matrix:\\n',confusion_matrix (y_trains,train_pred))\n",
    "\n",
    "print('AUC-train:',roc_auc_score(y_trains,train_prob))\n",
    "\n",
    "test_pred=lgbm.predict(X_test)\n",
    "test_prob=lgbm.predict_proba(X_test)[:,1]\n",
    "print('overall accuracy -Test: ',accuracy_score(y_test,test_pred))\n",
    "print('confusion matrix:\\n',confusion_matrix (y_test,test_pred))\n",
    "print('AUC-test:',roc_auc_score(y_test,test_prob))\n",
    "\n",
    "fpr, tpr, thresholds = roc_curve(y_test, test_prob)\n",
    "plt.plot(fpr, tpr)\n",
    "plt.plot(fpr, fpr, 'r')\n",
    "plt.xlabel('FPR')\n",
    "plt.ylabel('TPR')\n",
    "plt.title('ROC Analysis')\n",
    "plt.show()"
   ]
  },
  {
   "cell_type": "code",
   "execution_count": 110,
   "metadata": {},
   "outputs": [
    {
     "name": "stdout",
     "output_type": "stream",
     "text": [
      "classification report - Train \n",
      "               precision    recall  f1-score   support\n",
      "\n",
      "           0       0.72      0.70      0.71     60213\n",
      "           1       0.71      0.73      0.72     60213\n",
      "\n",
      "    accuracy                           0.72    120426\n",
      "   macro avg       0.72      0.72      0.72    120426\n",
      "weighted avg       0.72      0.72      0.72    120426\n",
      "\n",
      "classification report - Test \n",
      "                precision    recall  f1-score   support\n",
      "\n",
      "           0       0.39      0.63      0.48      7612\n",
      "           1       0.87      0.71      0.78     25721\n",
      "\n",
      "    accuracy                           0.69     33333\n",
      "   macro avg       0.63      0.67      0.63     33333\n",
      "weighted avg       0.76      0.69      0.71     33333\n",
      "\n"
     ]
    }
   ],
   "source": [
    "print('classification report - Train \\n', classification_report(y_trains,train_pred))\n",
    "print('classification report - Test \\n ', classification_report(y_test,test_pred))"
   ]
  },
  {
   "cell_type": "code",
   "execution_count": 111,
   "metadata": {},
   "outputs": [
    {
     "name": "stdout",
     "output_type": "stream",
     "text": [
      "confusion matrix - Train : \n",
      " [[60213     0]\n",
      " [    0 60213]]\n",
      "Overall accuracy - Train: \n",
      " 1.0\n",
      "AUC-Train: \n",
      " 1.0\n",
      "\n",
      "\n",
      "confusion matrix - Test: \n",
      " [[ 2456  5156]\n",
      " [ 1546 24175]]\n",
      "Overall accuracy - Test: \n",
      " 0.7989379893798938\n",
      "AUC-Test: \n",
      " 0.7794731575620788\n"
     ]
    },
    {
     "data": {
      "image/png": "[encoded data removed]",
      "text/plain": [
       "<Figure size 432x288 with 1 Axes>"
      ]
     },
     "metadata": {
      "needs_background": "light"
     },
     "output_type": "display_data"
    }
   ],
   "source": [
    "rfc = RandomForestClassifier(n_estimators=100,random_state=3)\n",
    "rfc.fit(X_trains,y_trains)\n",
    "y_train_pred = rfc.predict(X_trains)\n",
    "y_train_prob = rfc.predict_proba(X_trains)[:,1]\n",
    "print('confusion matrix - Train : \\n',confusion_matrix(y_trains,y_train_pred))\n",
    "print('Overall accuracy - Train: \\n',accuracy_score(y_trains,y_train_pred))\n",
    "print('AUC-Train: \\n',roc_auc_score(y_trains,y_train_prob))\n",
    "\n",
    "y_test_pred = rfc.predict(X_test)\n",
    "y_test_prob = rfc.predict_proba(X_test)[:,1]\n",
    "print('\\n')\n",
    "print('confusion matrix - Test: \\n',confusion_matrix(y_test,y_test_pred))\n",
    "print('Overall accuracy - Test: \\n',accuracy_score(y_test,y_test_pred))\n",
    "print('AUC-Test: \\n',roc_auc_score(y_test,y_test_prob))\n",
    "fpr,tpr, thresholds = roc_curve(y_test,y_test_prob)\n",
    "plt.plot(fpr,tpr)\n",
    "plt.plot(fpr,fpr,'r')\n",
    "plt.xlabel('FPR')\n",
    "plt.ylabel('TPR')\n",
    "plt.show()"
   ]
  },
  {
   "cell_type": "code",
   "execution_count": 112,
   "metadata": {},
   "outputs": [
    {
     "name": "stdout",
     "output_type": "stream",
     "text": [
      "classification report - Train \n",
      "               precision    recall  f1-score   support\n",
      "\n",
      "           0       1.00      1.00      1.00     60213\n",
      "           1       1.00      1.00      1.00     60213\n",
      "\n",
      "    accuracy                           1.00    120426\n",
      "   macro avg       1.00      1.00      1.00    120426\n",
      "weighted avg       1.00      1.00      1.00    120426\n",
      "\n",
      "classification report - Test \n",
      "                precision    recall  f1-score   support\n",
      "\n",
      "           0       0.61      0.32      0.42      7612\n",
      "           1       0.82      0.94      0.88     25721\n",
      "\n",
      "    accuracy                           0.80     33333\n",
      "   macro avg       0.72      0.63      0.65     33333\n",
      "weighted avg       0.78      0.80      0.77     33333\n",
      "\n"
     ]
    }
   ],
   "source": [
    "print('classification report - Train \\n', classification_report(y_trains,y_train_pred))\n",
    "print('classification report - Test \\n ', classification_report(y_test,y_test_pred))"
   ]
  },
  {
   "cell_type": "code",
   "execution_count": 113,
   "metadata": {},
   "outputs": [
    {
     "name": "stdout",
     "output_type": "stream",
     "text": [
      "overall accuracy -Train:  0.75438858718217\n",
      "confusion matrix:\n",
      " [[44731 15482]\n",
      " [14096 46117]]\n",
      "AUC-train: 0.849730180052588\n",
      "overall accuracy -Test:  0.7026370263702637\n",
      "confusion matrix:\n",
      " [[ 4565  3047]\n",
      " [ 6865 18856]]\n",
      "AUC-test: 0.7508331679676061\n"
     ]
    },
    {
     "data": {
      "image/png": "[encoded data removed]",
      "text/plain": [
       "<Figure size 432x288 with 1 Axes>"
      ]
     },
     "metadata": {
      "needs_background": "light"
     },
     "output_type": "display_data"
    }
   ],
   "source": [
    "xgbm= xgb.XGBClassifier(n_estimators=100,random_state=1234)\n",
    "xgbm.fit(X_trains,y_trains)\n",
    "\n",
    "train_pred=xgbm.predict(X_trains)\n",
    "train_prob=xgbm.predict_proba(X_trains)[:,1]\n",
    "\n",
    "train_prob\n",
    "\n",
    "print('overall accuracy -Train: ',accuracy_score(y_trains,train_pred))\n",
    "print('confusion matrix:\\n',confusion_matrix (y_trains,train_pred))\n",
    "\n",
    "print('AUC-train:',roc_auc_score(y_trains,train_prob))\n",
    "\n",
    "test_pred=xgbm.predict(X_test)\n",
    "test_prob=xgbm.predict_proba(X_test)[:,1]\n",
    "print('overall accuracy -Test: ',accuracy_score(y_test,test_pred))\n",
    "print('confusion matrix:\\n',confusion_matrix (y_test,test_pred))\n",
    "print('AUC-test:',roc_auc_score(y_test,test_prob))\n",
    "\n",
    "fpr, tpr, thresholds = roc_curve(y_test, test_prob)\n",
    "plt.plot(fpr, tpr)\n",
    "plt.plot(fpr, fpr, 'r')\n",
    "plt.xlabel('FPR')\n",
    "plt.ylabel('TPR')\n",
    "plt.title('ROC Analysis')\n",
    "plt.show()"
   ]
  },
  {
   "cell_type": "code",
   "execution_count": 114,
   "metadata": {},
   "outputs": [
    {
     "name": "stdout",
     "output_type": "stream",
     "text": [
      "classification report - Train \n",
      "               precision    recall  f1-score   support\n",
      "\n",
      "           0       0.76      0.74      0.75     60213\n",
      "           1       0.75      0.77      0.76     60213\n",
      "\n",
      "    accuracy                           0.75    120426\n",
      "   macro avg       0.75      0.75      0.75    120426\n",
      "weighted avg       0.75      0.75      0.75    120426\n",
      "\n",
      "classification report - Test \n",
      "                precision    recall  f1-score   support\n",
      "\n",
      "           0       0.40      0.60      0.48      7612\n",
      "           1       0.86      0.73      0.79     25721\n",
      "\n",
      "    accuracy                           0.70     33333\n",
      "   macro avg       0.63      0.67      0.64     33333\n",
      "weighted avg       0.76      0.70      0.72     33333\n",
      "\n"
     ]
    }
   ],
   "source": [
    "print('classification report - Train \\n', classification_report(y_trains,train_pred))\n",
    "print('classification report - Test \\n ', classification_report(y_test,test_pred))"
   ]
  },
  {
   "cell_type": "code",
   "execution_count": 115,
   "metadata": {},
   "outputs": [
    {
     "name": "stdout",
     "output_type": "stream",
     "text": [
      "Confusion Matrix:  \n",
      " [[41623 18590]\n",
      " [21804 38409]]\n",
      "Overall Accuracy -Train:  0.664574095295036\n",
      "AUC-Train: 0.7485799026021909\n",
      "Confusion Matrix: -Test \n",
      " [[ 5256  2356]\n",
      " [ 9505 16216]]\n",
      "Overall Accuracy -Test:  0.6441664416644166\n",
      "AUC-Test: 0.7454149317396226\n"
     ]
    },
    {
     "data": {
      "image/png": "[encoded data removed]",
      "text/plain": [
       "<Figure size 432x288 with 1 Axes>"
      ]
     },
     "metadata": {
      "needs_background": "light"
     },
     "output_type": "display_data"
    }
   ],
   "source": [
    "ada= AdaBoostClassifier(random_state=1234)\n",
    "ada.fit(X_trains, y_trains)\n",
    "\n",
    "\n",
    "y_train_pred= ada.predict(X_trains)\n",
    "y_train_prob= ada.predict_proba(X_trains)[:,1]\n",
    "\n",
    "print('Confusion Matrix: ', '\\n', confusion_matrix(y_trains, y_train_pred))\n",
    "print('Overall Accuracy -Train: ', accuracy_score(y_trains, y_train_pred))\n",
    "print('AUC-Train:',roc_auc_score(y_trains, y_train_prob))\n",
    "\n",
    "y_test_pred= ada.predict(X_test)\n",
    "y_test_prob= ada.predict_proba(X_test)[:,1]\n",
    "\n",
    "print('Confusion Matrix: -Test', '\\n', confusion_matrix(y_test, y_test_pred))\n",
    "print('Overall Accuracy -Test: ', accuracy_score(y_test, y_test_pred))\n",
    "print('AUC-Test:',roc_auc_score(y_test, y_test_prob))\n",
    "\n",
    "fpr, tpr, thresholds = roc_curve(y_test, y_test_prob)\n",
    "plt.plot(fpr, tpr)\n",
    "plt.plot(fpr, fpr, 'r')\n",
    "plt.xlabel('FPR')\n",
    "plt.ylabel('TPR')\n",
    "plt.title('ROC Analysis')\n",
    "plt.show()"
   ]
  },
  {
   "cell_type": "code",
   "execution_count": 116,
   "metadata": {},
   "outputs": [
    {
     "name": "stdout",
     "output_type": "stream",
     "text": [
      "classification report - Train \n",
      "               precision    recall  f1-score   support\n",
      "\n",
      "           0       0.66      0.69      0.67     60213\n",
      "           1       0.67      0.64      0.66     60213\n",
      "\n",
      "    accuracy                           0.66    120426\n",
      "   macro avg       0.67      0.66      0.66    120426\n",
      "weighted avg       0.67      0.66      0.66    120426\n",
      "\n",
      "classification report - Test \n",
      "                precision    recall  f1-score   support\n",
      "\n",
      "           0       0.36      0.69      0.47      7612\n",
      "           1       0.87      0.63      0.73     25721\n",
      "\n",
      "    accuracy                           0.64     33333\n",
      "   macro avg       0.61      0.66      0.60     33333\n",
      "weighted avg       0.76      0.64      0.67     33333\n",
      "\n"
     ]
    }
   ],
   "source": [
    "print('classification report - Train \\n', classification_report(y_trains,y_train_pred))\n",
    "print('classification report - Test \\n ', classification_report(y_test,y_test_pred))"
   ]
  },
  {
   "cell_type": "code",
   "execution_count": 117,
   "metadata": {},
   "outputs": [],
   "source": [
    "from sklearn import svm"
   ]
  },
  {
   "cell_type": "code",
   "execution_count": 118,
   "metadata": {},
   "outputs": [],
   "source": [
    "classifier = svm.SVC(kernel='linear', probability=True)\n",
    "probas_ = classifier.fit(X_trains, y_trains).predict_proba(X_test)"
   ]
  },
  {
   "cell_type": "code",
   "execution_count": 121,
   "metadata": {},
   "outputs": [],
   "source": [
    "from sklearn.metrics import roc_curve, auc"
   ]
  },
  {
   "cell_type": "code",
   "execution_count": 122,
   "metadata": {},
   "outputs": [
    {
     "name": "stdout",
     "output_type": "stream",
     "text": [
      "Area under the ROC curve : 0.322787\n"
     ]
    }
   ],
   "source": [
    "fpr, tpr, thresholds = roc_curve(y_test, probas_[:, 1])\n",
    "roc_auc = auc(fpr, tpr)\n",
    "print (\"Area under the ROC curve : %f\" % roc_auc)"
   ]
  },
  {
   "cell_type": "code",
   "execution_count": 123,
   "metadata": {},
   "outputs": [
    {
     "data": {
      "image/png": "[encoded data removed]",
      "text/plain": [
       "<Figure size 432x288 with 1 Axes>"
      ]
     },
     "metadata": {
      "needs_background": "light"
     },
     "output_type": "display_data"
    }
   ],
   "source": [
    "# Plot ROC curve\n",
    "plt.clf()\n",
    "plt.plot(fpr, tpr, label='ROC curve (area = %0.2f)' % roc_auc)\n",
    "plt.plot([0, 1], [0, 1], 'k--')\n",
    "plt.xlim([0.0, 1.0])\n",
    "plt.ylim([0.0, 1.0])\n",
    "plt.xlabel('False Positive Rate')\n",
    "plt.ylabel('True Positive Rate')\n",
    "plt.title('Receiver operating characteristic example')\n",
    "plt.legend(loc=\"lower right\")\n",
    "plt.show()"
   ]
  },
  {
   "cell_type": "code",
   "execution_count": 124,
   "metadata": {},
   "outputs": [
    {
     "data": {
      "text/plain": [
       "array([[6.60123012, 2.64606756, 1.        , ..., 0.        , 0.        ,\n",
       "        0.        ],\n",
       "       [6.60529792, 2.62063392, 0.        , ..., 0.        , 0.        ,\n",
       "        0.        ],\n",
       "       [6.68586095, 2.6023785 , 0.        , ..., 0.        , 0.        ,\n",
       "        0.        ],\n",
       "       ...,\n",
       "       [6.60934924, 2.62540194, 0.        , ..., 0.        , 0.        ,\n",
       "        0.        ],\n",
       "       [6.60665019, 2.64011093, 0.        , ..., 0.        , 0.        ,\n",
       "        0.        ],\n",
       "       [6.5971457 , 2.6260466 , 0.        , ..., 0.        , 0.        ,\n",
       "        1.        ]])"
      ]
     },
     "execution_count": 124,
     "metadata": {},
     "output_type": "execute_result"
    }
   ],
   "source": [
    "support_vectors = classifier.support_vectors_\n",
    "support_vectors"
   ]
  },
  {
   "cell_type": "code",
   "execution_count": 125,
   "metadata": {},
   "outputs": [
    {
     "name": "stdout",
     "output_type": "stream",
     "text": [
      "overall accuracy -Train:  0.6236360918738478\n",
      "confusion matrix:\n",
      " [[34552 25661]\n",
      " [19663 40550]]\n",
      "AUC-train: 0.3227698062524576\n",
      "overall accuracy -Test:  0.6530165301653017\n",
      "confusion matrix:\n",
      " [[ 4435  3177]\n",
      " [ 8389 17332]]\n",
      "AUC-test: 0.32278729880074725\n"
     ]
    },
    {
     "data": {
      "image/png": "[encoded data removed]",
      "text/plain": [
       "<Figure size 432x288 with 1 Axes>"
      ]
     },
     "metadata": {
      "needs_background": "light"
     },
     "output_type": "display_data"
    }
   ],
   "source": [
    "train_pred=classifier.predict(X_trains)\n",
    "train_prob=classifier.predict_proba(X_trains)[:,1]\n",
    "\n",
    "train_prob\n",
    "\n",
    "print('overall accuracy -Train: ',accuracy_score(y_trains,train_pred))\n",
    "print('confusion matrix:\\n',confusion_matrix (y_trains,train_pred))\n",
    "\n",
    "print('AUC-train:',roc_auc_score(y_trains,train_prob))\n",
    "\n",
    "test_pred=classifier.predict(X_test)\n",
    "test_prob=classifier.predict_proba(X_test)[:,1]\n",
    "print('overall accuracy -Test: ',accuracy_score(y_test,test_pred))\n",
    "print('confusion matrix:\\n',confusion_matrix (y_test,test_pred))\n",
    "print('AUC-test:',roc_auc_score(y_test,test_prob))\n",
    "\n",
    "fpr, tpr, thresholds = roc_curve(y_test, test_prob)\n",
    "plt.plot(fpr, tpr)\n",
    "plt.plot(fpr, fpr, 'r')\n",
    "plt.xlabel('FPR')\n",
    "plt.ylabel('TPR')\n",
    "plt.title('ROC Analysis')\n",
    "plt.show()"
   ]
  },
  {
   "cell_type": "code",
   "execution_count": 126,
   "metadata": {},
   "outputs": [],
   "source": [
    "train_pred=classifier.predict(X_trains)\n",
    "test_pred=classifier.predict(X_test)"
   ]
  },
  {
   "cell_type": "code",
   "execution_count": 127,
   "metadata": {},
   "outputs": [
    {
     "name": "stdout",
     "output_type": "stream",
     "text": [
      "classification report - Train \n",
      "               precision    recall  f1-score   support\n",
      "\n",
      "           0       0.64      0.57      0.60     60213\n",
      "           1       0.61      0.67      0.64     60213\n",
      "\n",
      "    accuracy                           0.62    120426\n",
      "   macro avg       0.62      0.62      0.62    120426\n",
      "weighted avg       0.62      0.62      0.62    120426\n",
      "\n",
      "classification report - Test \n",
      "                precision    recall  f1-score   support\n",
      "\n",
      "           0       0.35      0.58      0.43      7612\n",
      "           1       0.85      0.67      0.75     25721\n",
      "\n",
      "    accuracy                           0.65     33333\n",
      "   macro avg       0.60      0.63      0.59     33333\n",
      "weighted avg       0.73      0.65      0.68     33333\n",
      "\n"
     ]
    }
   ],
   "source": [
    "print('classification report - Train \\n', classification_report(y_trains,train_pred))\n",
    "print('classification report - Test \\n ', classification_report(y_test,test_pred))"
   ]
  },
  {
   "cell_type": "code",
   "execution_count": 128,
   "metadata": {},
   "outputs": [
    {
     "name": "stdout",
     "output_type": "stream",
     "text": [
      "The accuracy score achieved using Linear SVM is: 65.3 %\n"
     ]
    }
   ],
   "source": [
    "score_svm = round(accuracy_score(test_pred,y_test)*100,2)\n",
    "print(\"The accuracy score achieved using Linear SVM is: \"+str(score_svm)+\" %\")"
   ]
  },
  {
   "cell_type": "code",
   "execution_count": 129,
   "metadata": {},
   "outputs": [
    {
     "name": "stdout",
     "output_type": "stream",
     "text": [
      "confusion matrix - Train : \n",
      " [[60213     0]\n",
      " [    0 60213]]\n",
      "Overall accuracy - Train: \n",
      " 1.0\n",
      "AUC-Train: \n",
      " 1.0\n",
      "\n",
      "\n",
      "confusion matrix - Test: \n",
      " [[ 2456  5156]\n",
      " [ 1546 24175]]\n",
      "Overall accuracy - Test: \n",
      " 0.7989379893798938\n",
      "AUC-Test: \n",
      " 0.7794731575620788\n"
     ]
    },
    {
     "data": {
      "image/png": "[encoded data removed]",
      "text/plain": [
       "<Figure size 432x288 with 1 Axes>"
      ]
     },
     "metadata": {
      "needs_background": "light"
     },
     "output_type": "display_data"
    }
   ],
   "source": [
    "rfc.fit(X_trains,y_trains)\n",
    "y_train_pred = rfc.predict(X_trains)\n",
    "y_train_prob = rfc.predict_proba(X_trains)[:,1]\n",
    "print('confusion matrix - Train : \\n',confusion_matrix(y_trains,y_train_pred))\n",
    "print('Overall accuracy - Train: \\n',accuracy_score(y_trains,y_train_pred))\n",
    "print('AUC-Train: \\n',roc_auc_score(y_trains,y_train_prob))\n",
    "\n",
    "y_test_pred = rfc.predict(X_test)\n",
    "y_test_prob = rfc.predict_proba(X_test)[:,1]\n",
    "print('\\n')\n",
    "print('confusion matrix - Test: \\n',confusion_matrix(y_test,y_test_pred))\n",
    "print('Overall accuracy - Test: \\n',accuracy_score(y_test,y_test_pred))\n",
    "print('AUC-Test: \\n',roc_auc_score(y_test,y_test_prob))\n",
    "fpr,tpr, thresholds = roc_curve(y_test,y_test_prob)\n",
    "plt.plot(fpr,tpr)\n",
    "plt.plot(fpr,fpr,'r')\n",
    "plt.xlabel('FPR')\n",
    "plt.ylabel('TPR')\n",
    "plt.show()"
   ]
  },
  {
   "cell_type": "code",
   "execution_count": 130,
   "metadata": {},
   "outputs": [
    {
     "name": "stdout",
     "output_type": "stream",
     "text": [
      "0.5927159271592716\n"
     ]
    }
   ],
   "source": [
    "# instantiate learning model (k = 5)\n",
    "knn = KNeighborsClassifier(n_neighbors=5)\n",
    "\n",
    "# fitting the model\n",
    "knn.fit(X_trains, y_trains)\n",
    "\n",
    "# predict the response\n",
    "y_pred = knn.predict(X_test)\n",
    "\n",
    "# evaluate accuracy\n",
    "print(accuracy_score(y_test, y_pred))"
   ]
  },
  {
   "cell_type": "code",
   "execution_count": 131,
   "metadata": {},
   "outputs": [
    {
     "name": "stdout",
     "output_type": "stream",
     "text": [
      "0.7071370713707137\n"
     ]
    }
   ],
   "source": [
    "# instantiate learning model (k = 1)\n",
    "knn = KNeighborsClassifier(n_neighbors=1)\n",
    "\n",
    "# fitting the model\n",
    "knn.fit(X_trains, y_trains)\n",
    "\n",
    "# predict the response\n",
    "y_pred = knn.predict(X_test)\n",
    "\n",
    "# evaluate accuracy\n",
    "print(accuracy_score(y_test, y_pred))"
   ]
  },
  {
   "cell_type": "code",
   "execution_count": 132,
   "metadata": {},
   "outputs": [
    {
     "name": "stdout",
     "output_type": "stream",
     "text": [
      "overall accuracy -Train:  0.8400013286167439\n",
      "confusion matrix:\n",
      " [[56419  3794]\n",
      " [15474 44739]]\n",
      "AUC-train: 0.9447642438660565\n",
      "overall accuracy -Test:  0.5927159271592716\n",
      "confusion matrix:\n",
      " [[ 3570  4042]\n",
      " [ 9534 16187]]\n",
      "AUC-test: 0.5701991940762615\n"
     ]
    },
    {
     "data": {
      "image/png": "[encoded data removed]",
      "text/plain": [
       "<Figure size 432x288 with 1 Axes>"
      ]
     },
     "metadata": {
      "needs_background": "light"
     },
     "output_type": "display_data"
    }
   ],
   "source": [
    "knn = KNeighborsClassifier(n_neighbors=5)\n",
    "\n",
    "# fitting the model\n",
    "knn.fit(X_trains, y_trains)\n",
    "\n",
    "train_pred=knn.predict(X_trains)\n",
    "train_prob=knn.predict_proba(X_trains)[:,1]\n",
    "\n",
    "train_prob\n",
    "\n",
    "print('overall accuracy -Train: ',accuracy_score(y_trains,train_pred))\n",
    "print('confusion matrix:\\n',confusion_matrix (y_trains,train_pred))\n",
    "\n",
    "print('AUC-train:',roc_auc_score(y_trains,train_prob))\n",
    "\n",
    "test_pred=knn.predict(X_test)\n",
    "test_prob=knn.predict_proba(X_test)[:,1]\n",
    "print('overall accuracy -Test: ',accuracy_score(y_test,test_pred))\n",
    "print('confusion matrix:\\n',confusion_matrix (y_test,test_pred))\n",
    "print('AUC-test:',roc_auc_score(y_test,test_prob))\n",
    "\n",
    "fpr, tpr, thresholds = roc_curve(y_test, test_prob)\n",
    "plt.plot(fpr, tpr)\n",
    "plt.plot(fpr, fpr, 'r')\n",
    "plt.xlabel('FPR')\n",
    "plt.ylabel('TPR')\n",
    "plt.title('ROC Analysis')\n",
    "plt.show()"
   ]
  },
  {
   "cell_type": "code",
   "execution_count": 133,
   "metadata": {},
   "outputs": [],
   "source": [
    "from sklearn.preprocessing import StandardScaler\n",
    "sc=StandardScaler()\n",
    "X_trains = sc.fit_transform(X_trains)\n",
    "X_test = sc.transform(X_test)"
   ]
  },
  {
   "cell_type": "code",
   "execution_count": 134,
   "metadata": {},
   "outputs": [],
   "source": [
    "from sklearn.naive_bayes import GaussianNB, BernoulliNB, MultinomialNB"
   ]
  },
  {
   "cell_type": "code",
   "execution_count": 135,
   "metadata": {},
   "outputs": [
    {
     "data": {
      "text/plain": [
       "GaussianNB(priors=None, var_smoothing=1e-09)"
      ]
     },
     "execution_count": 135,
     "metadata": {},
     "output_type": "execute_result"
    }
   ],
   "source": [
    "naiveClassifier=GaussianNB()\n",
    "naiveClassifier.fit(X_trains,y_trains)"
   ]
  },
  {
   "cell_type": "code",
   "execution_count": 136,
   "metadata": {},
   "outputs": [],
   "source": [
    "y_pred = naiveClassifier.predict(X_test)"
   ]
  },
  {
   "cell_type": "code",
   "execution_count": 137,
   "metadata": {},
   "outputs": [
    {
     "name": "stdout",
     "output_type": "stream",
     "text": [
      "overall accuracy -Train:  0.6312507265872818\n",
      "confusion matrix:\n",
      " [[37568 22645]\n",
      " [21762 38451]]\n",
      "AUC-train: 0.6894157376784268\n",
      "overall accuracy -Test:  0.6341163411634116\n",
      "confusion matrix:\n",
      " [[ 4790  2822]\n",
      " [ 9374 16347]]\n",
      "AUC-test: 0.6883528639910428\n"
     ]
    },
    {
     "data": {
      "image/png": "[encoded data removed]",
      "text/plain": [
       "<Figure size 432x288 with 1 Axes>"
      ]
     },
     "metadata": {
      "needs_background": "light"
     },
     "output_type": "display_data"
    }
   ],
   "source": [
    "naiveClassifier=GaussianNB()\n",
    "naiveClassifier.fit(X_trains,y_trains)\n",
    "\n",
    "train_pred=naiveClassifier.predict(X_trains)\n",
    "train_prob=naiveClassifier.predict_proba(X_trains)[:,1]\n",
    "\n",
    "train_prob\n",
    "\n",
    "print('overall accuracy -Train: ',accuracy_score(y_trains,train_pred))\n",
    "print('confusion matrix:\\n',confusion_matrix (y_trains,train_pred))\n",
    "\n",
    "print('AUC-train:',roc_auc_score(y_trains,train_prob))\n",
    "\n",
    "test_pred=naiveClassifier.predict(X_test)\n",
    "test_prob=naiveClassifier.predict_proba(X_test)[:,1]\n",
    "print('overall accuracy -Test: ',accuracy_score(y_test,test_pred))\n",
    "print('confusion matrix:\\n',confusion_matrix (y_test,test_pred))\n",
    "print('AUC-test:',roc_auc_score(y_test,test_prob))\n",
    "\n",
    "fpr, tpr, thresholds = roc_curve(y_test, test_prob)\n",
    "plt.plot(fpr, tpr)\n",
    "plt.plot(fpr, fpr, 'r')\n",
    "plt.xlabel('FPR')\n",
    "plt.ylabel('TPR')\n",
    "plt.title('ROC Analysis')\n",
    "plt.show()"
   ]
  },
  {
   "cell_type": "code",
   "execution_count": 138,
   "metadata": {},
   "outputs": [
    {
     "name": "stdout",
     "output_type": "stream",
     "text": [
      "              precision    recall  f1-score   support\n",
      "\n",
      "           0       0.63      0.34      0.44     14164\n",
      "           1       0.64      0.85      0.73     19169\n",
      "\n",
      "    accuracy                           0.63     33333\n",
      "   macro avg       0.63      0.60      0.58     33333\n",
      "weighted avg       0.63      0.63      0.61     33333\n",
      "\n"
     ]
    }
   ],
   "source": [
    "from sklearn import metrics\n",
    "print(metrics.classification_report(y_pred, y_test))"
   ]
  },
  {
   "cell_type": "code",
   "execution_count": 139,
   "metadata": {},
   "outputs": [],
   "source": [
    "# creating odd list of K for KNN\n",
    "myList = list(range(1,20))\n",
    "\n",
    "# subsetting just the odd ones\n",
    "neighbors = list(filter(lambda x: x % 2 != 0, myList))"
   ]
  },
  {
   "cell_type": "code",
   "execution_count": 140,
   "metadata": {},
   "outputs": [
    {
     "name": "stdout",
     "output_type": "stream",
     "text": [
      "The optimal number of neighbors is 19\n"
     ]
    }
   ],
   "source": [
    "# empty list that will hold accuracy scores\n",
    "ac_scores = []\n",
    "\n",
    "# perform accuracy metrics for values from 1,3,5....19\n",
    "for k in neighbors:\n",
    "    knn = KNeighborsClassifier(n_neighbors=k)\n",
    "    knn.fit(X_trains, y_trains)\n",
    "    # predict the response\n",
    "    test_prob=knn.predict_proba(X_test)[:,1]\n",
    "    # evaluate accuracy\n",
    "    scores = roc_auc_score(y_test, test_prob)\n",
    "    ac_scores.append(scores)\n",
    "\n",
    "# changing to misclassification error\n",
    "MSE = [1 - x for x in ac_scores]\n",
    "\n",
    "# determining best k\n",
    "optimal_k = neighbors[MSE.index(min(MSE))]\n",
    "print(\"The optimal number of neighbors is %d\" % optimal_k)"
   ]
  },
  {
   "cell_type": "code",
   "execution_count": 141,
   "metadata": {},
   "outputs": [
    {
     "name": "stdout",
     "output_type": "stream",
     "text": [
      "overall accuracy -Train:  0.7372245196220085\n",
      "confusion matrix:\n",
      " [[46407 13806]\n",
      " [17839 42374]]\n",
      "AUC-train: 0.8315963076896028\n",
      "overall accuracy -Test:  0.6466564665646657\n",
      "confusion matrix:\n",
      " [[ 4510  3102]\n",
      " [ 8676 17045]]\n",
      "AUC-test: 0.698850470354064\n"
     ]
    },
    {
     "data": {
      "image/png": "[encoded data removed]",
      "text/plain": [
       "<Figure size 432x288 with 1 Axes>"
      ]
     },
     "metadata": {
      "needs_background": "light"
     },
     "output_type": "display_data"
    }
   ],
   "source": [
    "knn = KNeighborsClassifier(n_neighbors=17)\n",
    "\n",
    "# fitting the model\n",
    "knn.fit(X_trains, y_trains)\n",
    "\n",
    "train_pred=knn.predict(X_trains)\n",
    "train_prob=knn.predict_proba(X_trains)[:,1]\n",
    "\n",
    "train_prob\n",
    "\n",
    "print('overall accuracy -Train: ',accuracy_score(y_trains,train_pred))\n",
    "print('confusion matrix:\\n',confusion_matrix (y_trains,train_pred))\n",
    "\n",
    "print('AUC-train:',roc_auc_score(y_trains,train_prob))\n",
    "\n",
    "test_pred=knn.predict(X_test)\n",
    "test_prob=knn.predict_proba(X_test)[:,1]\n",
    "print('overall accuracy -Test: ',accuracy_score(y_test,test_pred))\n",
    "print('confusion matrix:\\n',confusion_matrix (y_test,test_pred))\n",
    "print('AUC-test:',roc_auc_score(y_test,test_prob))\n",
    "\n",
    "fpr, tpr, thresholds = roc_curve(y_test, test_prob)\n",
    "plt.plot(fpr, tpr)\n",
    "plt.plot(fpr, fpr, 'r')\n",
    "plt.xlabel('FPR')\n",
    "plt.ylabel('TPR')\n",
    "plt.title('ROC Analysis')\n",
    "plt.show()"
   ]
  },
  {
   "cell_type": "code",
   "execution_count": 142,
   "metadata": {},
   "outputs": [
    {
     "name": "stdout",
     "output_type": "stream",
     "text": [
      "classification report - Train \n",
      "               precision    recall  f1-score   support\n",
      "\n",
      "           0       0.72      0.77      0.75     60213\n",
      "           1       0.75      0.70      0.73     60213\n",
      "\n",
      "    accuracy                           0.74    120426\n",
      "   macro avg       0.74      0.74      0.74    120426\n",
      "weighted avg       0.74      0.74      0.74    120426\n",
      "\n",
      "classification report - Test \n",
      "                precision    recall  f1-score   support\n",
      "\n",
      "           0       0.34      0.59      0.43      7612\n",
      "           1       0.85      0.66      0.74     25721\n",
      "\n",
      "    accuracy                           0.65     33333\n",
      "   macro avg       0.59      0.63      0.59     33333\n",
      "weighted avg       0.73      0.65      0.67     33333\n",
      "\n"
     ]
    }
   ],
   "source": [
    "print('classification report - Train \\n', classification_report(y_trains,train_pred))\n",
    "print('classification report - Test \\n ', classification_report(y_test,test_pred))"
   ]
  },
  {
   "cell_type": "code",
   "execution_count": null,
   "metadata": {},
   "outputs": [],
   "source": []
  }
 ],
 "metadata": {
  "kernelspec": {
   "display_name": "Python 3",
   "language": "python",
   "name": "python3"
  },
  "language_info": {
   "codemirror_mode": {
    "name": "ipython",
    "version": 3
   },
   "file_extension": ".py",
   "mimetype": "text/x-python",
   "name": "python",
   "nbconvert_exporter": "python",
   "pygments_lexer": "ipython3",
   "version": "3.7.4"
  }
 },
 "nbformat": 4,
 "nbformat_minor": 2
}
