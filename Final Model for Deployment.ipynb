{
 "cells": [
  {
   "cell_type": "markdown",
   "metadata": {},
   "source": [
    "# Loan Eligibility Problem"
   ]
  },
  {
   "cell_type": "markdown",
   "metadata": {},
   "source": [
    "### Loading Libraries"
   ]
  },
  {
   "cell_type": "code",
   "execution_count": 1,
   "metadata": {},
   "outputs": [],
   "source": [
    "import pandas as pd\n",
    "import numpy as np\n",
    "import matplotlib.pyplot as plt\n",
    "from scipy.stats import skew, norm, probplot, boxcox\n",
    "from sklearn.experimental import enable_iterative_imputer\n",
    "from sklearn.impute import IterativeImputer\n",
    "from sklearn.feature_selection import SelectKBest\n",
    "from sklearn.feature_selection import f_classif\n",
    "from sklearn.model_selection import train_test_split\n",
    "from sklearn.preprocessing import StandardScaler\n",
    "import warnings\n",
    "warnings.filterwarnings('ignore')\n",
    "from sklearn.model_selection import GridSearchCV\n",
    "%matplotlib inline\n",
    "from sklearn.metrics import  confusion_matrix, accuracy_score, classification_report, roc_auc_score, roc_curve\n",
    "import lightgbm as lgm\n",
    "from lightgbm import LGBMClassifier"
   ]
  },
  {
   "cell_type": "code",
   "execution_count": 2,
   "metadata": {},
   "outputs": [],
   "source": [
    "lp = pd.read_csv('LoansTrainingSetV2.csv')"
   ]
  },
  {
   "cell_type": "code",
   "execution_count": 3,
   "metadata": {},
   "outputs": [],
   "source": [
    "dfb=lp.copy()"
   ]
  },
  {
   "cell_type": "code",
   "execution_count": 4,
   "metadata": {},
   "outputs": [],
   "source": [
    "dfb['Maximum Open Credit']=dfb['Maximum Open Credit'].replace({'#VALUE!':np.nan})"
   ]
  },
  {
   "cell_type": "code",
   "execution_count": 5,
   "metadata": {},
   "outputs": [],
   "source": [
    "dfb['Monthly Debt']=dfb['Monthly Debt'].replace({'$1,051.41 ':'1051.41','$157.15 ':'157.15','$944.70 ':'944.7','$481.34 ':'481.34','$1,838.98 ':'1838.98','$471.60 ':'471.6'})"
   ]
  },
  {
   "cell_type": "code",
   "execution_count": 6,
   "metadata": {},
   "outputs": [],
   "source": [
    "dfb['Monthly Debt']=dfb['Monthly Debt'].astype(float)\n",
    "\n",
    "dfb['Maximum Open Credit']=dfb['Maximum Open Credit'].fillna(dfb['Maximum Open Credit'].median())"
   ]
  },
  {
   "cell_type": "code",
   "execution_count": 7,
   "metadata": {},
   "outputs": [],
   "source": [
    "dfb['Monthly Debt']=dfb['Monthly Debt'].astype(float)"
   ]
  },
  {
   "cell_type": "code",
   "execution_count": 8,
   "metadata": {},
   "outputs": [],
   "source": [
    "dfb['Tax Liens'] = dfb['Tax Liens'].astype('object')\n",
    "dfb['Tax Liens'] = dfb['Tax Liens'].fillna(dfb['Tax Liens'].mode()[0])"
   ]
  },
  {
   "cell_type": "code",
   "execution_count": 9,
   "metadata": {},
   "outputs": [],
   "source": [
    "dfb['Bankruptcies'] = dfb['Bankruptcies'].astype('object')\n",
    "dfb['Bankruptcies'] = dfb['Bankruptcies'].fillna(dfb['Bankruptcies'].mode()[0])"
   ]
  },
  {
   "cell_type": "code",
   "execution_count": 10,
   "metadata": {},
   "outputs": [],
   "source": [
    "dfb=dfb.drop('Months since last delinquent',axis=1)"
   ]
  },
  {
   "cell_type": "code",
   "execution_count": 11,
   "metadata": {},
   "outputs": [],
   "source": [
    "mice_imputer= IterativeImputer(initial_strategy='median',imputation_order='random',random_state=3)"
   ]
  },
  {
   "cell_type": "code",
   "execution_count": 12,
   "metadata": {},
   "outputs": [],
   "source": [
    "df2=dfb[['Credit Score','Annual Income']]"
   ]
  },
  {
   "cell_type": "code",
   "execution_count": 13,
   "metadata": {},
   "outputs": [],
   "source": [
    "df2.iloc[:,:]=np.round(mice_imputer.fit_transform(df2))"
   ]
  },
  {
   "cell_type": "code",
   "execution_count": 14,
   "metadata": {},
   "outputs": [],
   "source": [
    "df1=dfb.drop(columns=['Credit Score','Annual Income'],axis=1)"
   ]
  },
  {
   "cell_type": "code",
   "execution_count": 15,
   "metadata": {},
   "outputs": [],
   "source": [
    "result= pd.concat([df1,df2], axis=1)"
   ]
  },
  {
   "cell_type": "code",
   "execution_count": 16,
   "metadata": {},
   "outputs": [],
   "source": [
    "result['Credit Score']=result[result['Credit Score']<=800]['Credit Score']\n",
    "result['Credit Score']= result['Credit Score'].fillna(800)"
   ]
  },
  {
   "cell_type": "code",
   "execution_count": 17,
   "metadata": {},
   "outputs": [],
   "source": [
    "result['Tax Liens'] = result['Tax Liens'].astype('object')"
   ]
  },
  {
   "cell_type": "code",
   "execution_count": 18,
   "metadata": {},
   "outputs": [],
   "source": [
    "result['Bankruptcies'] = result['Bankruptcies'].astype('object')"
   ]
  },
  {
   "cell_type": "code",
   "execution_count": 19,
   "metadata": {},
   "outputs": [],
   "source": [
    "num_cols1 = result.select_dtypes(['float64','int64']).columns"
   ]
  },
  {
   "cell_type": "code",
   "execution_count": 20,
   "metadata": {},
   "outputs": [],
   "source": [
    "skewed_features = result[num_cols1].apply(lambda x : skew (x.dropna())).sort_values(ascending=False)\n",
    "\n",
    "#compute skewness\n",
    "skewness = pd.DataFrame({'Skew' :skewed_features})  "
   ]
  },
  {
   "cell_type": "code",
   "execution_count": 21,
   "metadata": {},
   "outputs": [],
   "source": [
    "# Get only higest skewed features\n",
    "skewness = skewness[abs(skewness) > 0.7]\n",
    "skewness = skewness.dropna()"
   ]
  },
  {
   "cell_type": "code",
   "execution_count": 22,
   "metadata": {},
   "outputs": [],
   "source": [
    "#Create Empty list \n",
    "l_opt = {}\n",
    "\n",
    "#create for loop for skewness.index\n",
    "for feat in skewness.index:\n",
    "    result[feat], l_opt[feat] = boxcox((result[feat]+1))"
   ]
  },
  {
   "cell_type": "code",
   "execution_count": 23,
   "metadata": {},
   "outputs": [],
   "source": [
    "#create skewed_features2 for skewness.index\n",
    "skewed_features2 = result[skewness.index].apply(lambda x : skew (x.dropna())).sort_values(ascending=False)\n",
    "\n",
    "#compute skewness\n",
    "skewness2 = pd.DataFrame({'New Skew' :skewed_features2}) "
   ]
  },
  {
   "cell_type": "code",
   "execution_count": 24,
   "metadata": {},
   "outputs": [],
   "source": [
    "result['Credit Score']=np.log1p(result['Credit Score'])"
   ]
  },
  {
   "cell_type": "code",
   "execution_count": 25,
   "metadata": {},
   "outputs": [],
   "source": [
    "result['Purpose']=result['Purpose'].replace({'other':'Other'})"
   ]
  },
  {
   "cell_type": "code",
   "execution_count": 26,
   "metadata": {},
   "outputs": [],
   "source": [
    "result['Loan Status']=result['Loan Status'].replace({'Charged Off': 0,'Fully Paid': 1 })"
   ]
  },
  {
   "cell_type": "code",
   "execution_count": 27,
   "metadata": {},
   "outputs": [],
   "source": [
    "result['Term']=result['Term'].replace({'Short Term': 0, 'Long Term': 1})"
   ]
  },
  {
   "cell_type": "code",
   "execution_count": 28,
   "metadata": {},
   "outputs": [],
   "source": [
    "result = result.drop(['Loan ID','Customer ID'],axis=1)"
   ]
  },
  {
   "cell_type": "code",
   "execution_count": 29,
   "metadata": {},
   "outputs": [],
   "source": [
    "from sklearn.preprocessing import OneHotEncoder"
   ]
  },
  {
   "cell_type": "code",
   "execution_count": 30,
   "metadata": {},
   "outputs": [],
   "source": [
    "dfff=pd.get_dummies(data=result,columns=['Years in current job','Home Ownership','Purpose','Tax Liens'],drop_first=True)"
   ]
  },
  {
   "cell_type": "code",
   "execution_count": 31,
   "metadata": {},
   "outputs": [],
   "source": [
    "X=dfff.drop(['Loan Status','Bankruptcies','Number of Credit Problems','Home Ownership_Home Mortgage','Purpose_Debt Consolidation'],axis=1)\n",
    "y=dfff['Loan Status']\n",
    "X_train , X_test , y_train , y_test = train_test_split(X,y,test_size=0.3,random_state=3)"
   ]
  },
  {
   "cell_type": "code",
   "execution_count": 32,
   "metadata": {},
   "outputs": [],
   "source": [
    "dfff=pd.get_dummies(data=result,columns=['Years in current job','Home Ownership','Purpose','Tax Liens'],drop_first=True)"
   ]
  },
  {
   "cell_type": "code",
   "execution_count": 33,
   "metadata": {},
   "outputs": [],
   "source": [
    "from sklearn.feature_selection import SelectKBest\n",
    "from sklearn.feature_selection import f_classif"
   ]
  },
  {
   "cell_type": "code",
   "execution_count": 34,
   "metadata": {},
   "outputs": [
    {
     "name": "stdout",
     "output_type": "stream",
     "text": [
      "                             Specs         pvalue        Score\n",
      "7                     Credit Score   0.000000e+00  2098.335911\n",
      "0              Current Loan Amount  1.956683e-241  1108.884137\n",
      "1                             Term  1.430870e-203   932.398339\n",
      "8                    Annual Income   7.768290e-65   289.650614\n",
      "20             Home Ownership_Rent   5.625156e-41   179.912543\n",
      "3          Years of Credit History   1.182054e-16    68.670357\n",
      "31          Purpose_small_business   1.676954e-15    63.438242\n",
      "22               Purpose_Buy a Car   2.297375e-07    26.769978\n",
      "24       Purpose_Home Improvements   7.679145e-07    24.440706\n",
      "9   Years in current job_10+ years   5.042902e-06    20.823844\n",
      "4          Number of Open Accounts   4.791803e-05    16.530611\n"
     ]
    }
   ],
   "source": [
    "bestfeatures = SelectKBest(score_func=f_classif, k=11)\n",
    "fit = bestfeatures.fit(X_train,y_train)\n",
    "dfscores = pd.DataFrame(fit.scores_)\n",
    "dfpvalue= pd.DataFrame(fit.pvalues_)\n",
    "dfcolumns = pd.DataFrame(X_train.columns)\n",
    "#concat two dataframes for better visualization \n",
    "featureScores = pd.concat([dfcolumns,dfpvalue,dfscores],axis=1)\n",
    "featureScores.columns = ['Specs','pvalue','Score']  #naming the dataframe columns\n",
    "print(featureScores.nlargest(11,'Score'))  #print 11 best features"
   ]
  },
  {
   "cell_type": "code",
   "execution_count": 35,
   "metadata": {},
   "outputs": [
    {
     "data": {
      "text/plain": [
       "['Credit Score',\n",
       " 'Current Loan Amount',\n",
       " 'Term',\n",
       " 'Annual Income',\n",
       " 'Home Ownership_Rent',\n",
       " 'Years of Credit History',\n",
       " 'Purpose_small_business',\n",
       " 'Purpose_Buy a Car',\n",
       " 'Purpose_Home Improvements',\n",
       " 'Years in current job_10+ years',\n",
       " 'Number of Open Accounts']"
      ]
     },
     "execution_count": 35,
     "metadata": {},
     "output_type": "execute_result"
    }
   ],
   "source": [
    "signi_cols=list(featureScores.nlargest(11,'Score')['Specs'].values)\n",
    "signi_cols"
   ]
  },
  {
   "cell_type": "code",
   "execution_count": 36,
   "metadata": {},
   "outputs": [],
   "source": [
    "ss = StandardScaler()\n",
    "Xs = ss.fit_transform(X)\n",
    "\n",
    "X_train = ss.fit_transform(X_train)\n",
    "X_test = ss.transform(X_test)"
   ]
  },
  {
   "cell_type": "code",
   "execution_count": 37,
   "metadata": {},
   "outputs": [],
   "source": [
    "X=dfff[signi_cols]\n",
    "y=dfff['Loan Status']\n",
    "X_train , X_test , y_train , y_test = train_test_split(X,y,test_size=0.3,random_state=3)"
   ]
  },
  {
   "cell_type": "code",
   "execution_count": 38,
   "metadata": {},
   "outputs": [],
   "source": [
    "from sklearn.utils import resample \n",
    "randomoversampled_data  = pd.concat([X_train, y_train], axis=1)"
   ]
  },
  {
   "cell_type": "code",
   "execution_count": 39,
   "metadata": {},
   "outputs": [],
   "source": [
    "majority = randomoversampled_data[randomoversampled_data[\"Loan Status\"]==1] \n",
    "minority = randomoversampled_data[randomoversampled_data[\"Loan Status\"]==0]  \n",
    "minority_randomoversampled = resample(minority, replace=True ,n_samples=51182 ,random_state=2)  \n",
    "del(randomoversampled_data) \n",
    "randomoversampled_data = pd.concat([majority,minority_randomoversampled])"
   ]
  },
  {
   "cell_type": "code",
   "execution_count": 40,
   "metadata": {},
   "outputs": [],
   "source": [
    "X=dfff[signi_cols]\n",
    "y=dfff['Loan Status']\n",
    "X_train , X_test , y_train , y_test = train_test_split(X,y,test_size=0.3,random_state=3)"
   ]
  },
  {
   "cell_type": "code",
   "execution_count": 41,
   "metadata": {},
   "outputs": [],
   "source": [
    "X_trains= randomoversampled_data.drop('Loan Status', axis=1)\n",
    "y_trains= randomoversampled_data['Loan Status']"
   ]
  },
  {
   "cell_type": "code",
   "execution_count": 42,
   "metadata": {},
   "outputs": [],
   "source": [
    "rsearch_lgbm_best_params={'criterion':'gini', 'max_depth': 6,'max_features': 2,'min_samples_leaf': 4,'min_samples_split': 7,'n_estimators': 90,\n",
    "                          'objective':'binary'}"
   ]
  },
  {
   "cell_type": "code",
   "execution_count": 43,
   "metadata": {},
   "outputs": [
    {
     "name": "stdout",
     "output_type": "stream",
     "text": [
      "confusion matrix:\n",
      " [[29269 21913]\n",
      " [11447 48766]]\n",
      "AUC-train: 0.7875386231859068\n",
      "confusion matrix:\n",
      " [[ 4060  3552]\n",
      " [ 5272 20449]]\n",
      "AUC-test: 0.7535504300840277\n"
     ]
    },
    {
     "data": {
      "image/png": "[encoded data removed]",
      "text/plain": [
       "<Figure size 432x288 with 1 Axes>"
      ]
     },
     "metadata": {
      "needs_background": "light"
     },
     "output_type": "display_data"
    },
    {
     "name": "stdout",
     "output_type": "stream",
     "text": [
      "\n",
      "\n",
      "classification report - Train \n",
      "                precision    recall  f1-score   support\n",
      "\n",
      "           0       0.72      0.57      0.64     51182\n",
      "           1       0.69      0.81      0.75     60213\n",
      "\n",
      "    accuracy                           0.70    111395\n",
      "   macro avg       0.70      0.69      0.69    111395\n",
      "weighted avg       0.70      0.70      0.70    111395\n",
      "\n",
      "classification report - Test \n",
      "               precision    recall  f1-score   support\n",
      "\n",
      "           0       0.44      0.53      0.48      7612\n",
      "           1       0.85      0.80      0.82     25721\n",
      "\n",
      "    accuracy                           0.74     33333\n",
      "   macro avg       0.64      0.66      0.65     33333\n",
      "weighted avg       0.76      0.74      0.74     33333\n",
      "\n"
     ]
    }
   ],
   "source": [
    "lgbm= LGBMClassifier(**rsearch_lgbm_best_params)\n",
    "\n",
    "lgbm.fit(X_trains,y_trains)\n",
    "\n",
    "train_pred=lgbm.predict(X_trains)\n",
    "train_prob=lgbm.predict_proba(X_trains)[:,1]\n",
    "\n",
    "train_prob\n",
    "\n",
    "\n",
    "print('confusion matrix:\\n',confusion_matrix (y_trains,train_pred))\n",
    "\n",
    "print('AUC-train:',roc_auc_score(y_trains,train_prob))\n",
    "\n",
    "test_pred=lgbm.predict(X_test)\n",
    "test_prob=lgbm.predict_proba(X_test)[:,1]\n",
    "\n",
    "print('confusion matrix:\\n',confusion_matrix (y_test,test_pred))\n",
    "print('AUC-test:',roc_auc_score(y_test,test_prob))\n",
    "\n",
    "fpr, tpr, thresholds = roc_curve(y_test, test_prob)\n",
    "plt.plot(fpr, tpr)\n",
    "plt.plot(fpr, fpr, 'r')\n",
    "plt.xlabel('FPR')\n",
    "plt.ylabel('TPR')\n",
    "plt.title('ROC Analysis')\n",
    "plt.show()\n",
    "print('\\n')\n",
    "print('classification report - Train \\n ', classification_report(y_trains,train_pred))\n",
    "print('classification report - Test \\n', classification_report(y_test,test_pred))"
   ]
  },
  {
   "cell_type": "code",
   "execution_count": 44,
   "metadata": {},
   "outputs": [],
   "source": [
    "import xgboost as xgb\n",
    "from xgboost import XGBClassifier"
   ]
  },
  {
   "cell_type": "code",
   "execution_count": 45,
   "metadata": {},
   "outputs": [],
   "source": [
    "gsearch_xgb_best_params={'criterion': 'gini','max_depth': 6,'min_samples_leaf': 1,'min_samples_split': 2,'n_estimators': 90}"
   ]
  },
  {
   "cell_type": "code",
   "execution_count": 46,
   "metadata": {},
   "outputs": [
    {
     "name": "stdout",
     "output_type": "stream",
     "text": [
      "overall accuracy -Train:  0.7476278109430405\n",
      "confusion matrix:\n",
      " [[33178 18004]\n",
      " [10109 50104]]\n",
      "AUC-train: 0.8428009515849464\n",
      "overall accuracy -Test:  0.7338973389733897\n",
      "confusion matrix:\n",
      " [[ 3933  3679]\n",
      " [ 5191 20530]]\n",
      "AUC-test: 0.7456335378079784\n"
     ]
    },
    {
     "data": {
      "image/png": "[encoded data removed]",
      "text/plain": [
       "<Figure size 432x288 with 1 Axes>"
      ]
     },
     "metadata": {
      "needs_background": "light"
     },
     "output_type": "display_data"
    },
    {
     "name": "stdout",
     "output_type": "stream",
     "text": [
      "\n",
      "\n",
      "classification report - Train \n",
      "                precision    recall  f1-score   support\n",
      "\n",
      "           0       0.77      0.65      0.70     51182\n",
      "           1       0.74      0.83      0.78     60213\n",
      "\n",
      "    accuracy                           0.75    111395\n",
      "   macro avg       0.75      0.74      0.74    111395\n",
      "weighted avg       0.75      0.75      0.74    111395\n",
      "\n",
      "classification report - Test \n",
      "               precision    recall  f1-score   support\n",
      "\n",
      "           0       0.43      0.52      0.47      7612\n",
      "           1       0.85      0.80      0.82     25721\n",
      "\n",
      "    accuracy                           0.73     33333\n",
      "   macro avg       0.64      0.66      0.65     33333\n",
      "weighted avg       0.75      0.73      0.74     33333\n",
      "\n"
     ]
    }
   ],
   "source": [
    "xgbm= xgb.XGBClassifier(**gsearch_xgb_best_params)\n",
    "xgbm.fit(X_trains,y_trains)\n",
    "\n",
    "train_pred=xgbm.predict(X_trains)\n",
    "train_prob=xgbm.predict_proba(X_trains)[:,1]\n",
    "\n",
    "train_prob\n",
    "\n",
    "print('overall accuracy -Train: ',accuracy_score(y_trains,train_pred))\n",
    "print('confusion matrix:\\n',confusion_matrix (y_trains,train_pred))\n",
    "\n",
    "print('AUC-train:',roc_auc_score(y_trains,train_prob))\n",
    "\n",
    "test_pred=xgbm.predict(X_test)\n",
    "test_prob=xgbm.predict_proba(X_test)[:,1]\n",
    "print('overall accuracy -Test: ',accuracy_score(y_test,test_pred))\n",
    "print('confusion matrix:\\n',confusion_matrix (y_test,test_pred))\n",
    "print('AUC-test:',roc_auc_score(y_test,test_prob))\n",
    "\n",
    "fpr, tpr, thresholds = roc_curve(y_test, test_prob)\n",
    "plt.plot(fpr, tpr)\n",
    "plt.plot(fpr, fpr, 'r')\n",
    "plt.xlabel('FPR')\n",
    "plt.ylabel('TPR')\n",
    "plt.title('ROC Analysis')\n",
    "plt.show()\n",
    "print('\\n')\n",
    "print('classification report - Train \\n ', classification_report(y_trains,train_pred))\n",
    "print('classification report - Test \\n', classification_report(y_test,test_pred))"
   ]
  },
  {
   "cell_type": "code",
   "execution_count": 51,
   "metadata": {},
   "outputs": [],
   "source": [
    "from tkinter import *\n",
    "from tkinter import ttk\n",
    "\n",
    "root = Tk()\n",
    "root.title('Loan Prediction System')\n",
    "root.geometry('850x650')\n",
    "root.configure(background=\"purple2\")\n",
    "var = StringVar()\n",
    "label = Label( root, textvariable = var,font=('arial',20,'bold'),bd=20,background=\"purple2\")\n",
    "var.set('                                             Loan Prediction System')\n",
    "label.grid(row=0,columnspan=6)\n",
    "\n",
    "label_0 = ttk.Label(root, text ='Please Enter the Values',font=(\"Helvetica\", 16),background=\"Purple3\")\n",
    "label_0.grid(row=10,column=0)\n",
    "\n",
    "label_1 = ttk.Label(root, text ='Credit Score',font=(\"Helvetica\", 16),background=\"Purple3\")\n",
    "label_1.grid(row=11,column=0)\n",
    "    \n",
    "Entry_1= Entry(root)\n",
    "Entry_1.grid(row=11,column=1)\n",
    "\n",
    "label_2 = ttk.Label(root, text ='Current Loan Amount',font=(\"Helvetica\", 16),background=\"Purple3\")\n",
    "label_2.grid(row=12,column=0)\n",
    "    \n",
    "Entry_2 = Entry(root)\n",
    "Entry_2.grid(row=12,column=1)\n",
    "    \n",
    "    \n",
    "label_3 = ttk.Label(root, text ='Term, Short Term:0, Long Term:1',font=(\"Helvetica\", 16),background=\"Purple3\")\n",
    "label_3.grid(row=13,column=0)\n",
    "    \n",
    "Entry_3 = Entry(root)\n",
    "Entry_3.grid(row=13,column=1)\n",
    "\n",
    "label_4 = ttk.Label(root, text ='Annual Income',font=(\"Helvetica\", 16),background=\"Purple3\")\n",
    "label_4.grid(row=14,column=0)\n",
    "    \n",
    "Entry_4 = Entry(root)\n",
    "Entry_4.grid(row=14,column=1)\n",
    "\n",
    "label_5 = ttk.Label(root, text ='Home Ownership_Rent No:0, Yes:1',font=(\"Helvetica\", 16),background=\"Purple3\")\n",
    "label_5.grid(row=15,column=0)\n",
    "    \n",
    "Entry_5 = Entry(root)\n",
    "Entry_5.grid(row=15,column=1)\n",
    "\n",
    "\n",
    "label_6 = ttk.Label(root, text ='Years of Credit History',font=(\"Helvetica\", 16),background=\"Purple3\")\n",
    "label_6.grid(row=17,column=0)\n",
    "    \n",
    "Entry_6 = Entry(root)\n",
    "Entry_6.grid(row=17,column=1)\n",
    "\n",
    "Entry_7 = Entry(root)\n",
    "Entry_7.grid(row=18,column=1)\n",
    "\n",
    "label_7 = ttk.Label(root, text ='Purpose_small_business  No:0, Yes:1',font=(\"Helvetica\", 16),background=\"Purple3\")\n",
    "label_7.grid(row=18,column=0)\n",
    "    \n",
    "Entry_8 = Entry(root)\n",
    "Entry_8.grid(row=19,column=1)\n",
    "\n",
    "label_8 = ttk.Label(root, text ='Purpose_Buy a Car No:0, Yes:1',font=(\"Helvetica\", 16),background=\"Purple3\")\n",
    "label_8.grid(row=19,column=0)\n",
    "    \n",
    "Entry_9 = Entry(root)\n",
    "Entry_9.grid(row=20,column=1)\n",
    "\n",
    "label_9 = ttk.Label(root, text ='Purpose_Home Improvements No:0, Yes:1',font=(\"Helvetica\", 16),background=\"Purple3\")\n",
    "label_9.grid(row=20,column=0)\n",
    "\n",
    "Entry_10 = Entry(root)\n",
    "Entry_10.grid(row=21,column=1)\n",
    "\n",
    "label_10 = ttk.Label(root, text ='Years in current job_10+ years No:0, Yes:1',font=(\"Helvetica\", 16),background=\"Purple3\")\n",
    "label_10.grid(row=21,column=0)\n",
    "\n",
    "Entry_11 = Entry(root)\n",
    "Entry_11.grid(row=22,column=1)\n",
    "\n",
    "label_11 = ttk.Label(root, text = 'Number of Open Accounts',font=(\"Helvetica\", 16),background=\"Purple3\")\n",
    "label_11.grid(row=22,column=0)\n",
    "    \n",
    "\n",
    "\n",
    "def predict():\n",
    "    Cla = float(Entry_1.get())\n",
    "    T = float(Entry_2.get())\n",
    "    Md = float(Entry_3.get())\n",
    "    Ych = float(Entry_4.get())\n",
    "    Noa = float(Entry_5.get())\n",
    "    Ncp = float(Entry_6.get())\n",
    "    Ccb = float(Entry_7.get())\n",
    "    Moc = float(Entry_8.get())\n",
    "    Cs = float(Entry_9.get())\n",
    "    Ycj = float(Entry_10.get())\n",
    "    Ml= float(Entry_11.get())\n",
    "    arr=np.array([[(Cla),(T),(Md),(Ych),(Noa),(Ncp),(Ccb),(Moc),(Cs),(Ycj),(Ml)]])\n",
    "    out = lgbm.predict(arr)\n",
    "    if out[0] == 0:\n",
    "        output.delete(0,END)\n",
    "        output.insert(0,'Candidate is eligible, Loan can be given')\n",
    "        output.insert(0,'Congragulations,')\n",
    "    else :\n",
    "        output.delete(0,END)\n",
    "        output.insert(0,'Loan is refused, Please pay the dues then Apply for Loan again')\n",
    "        output.insert(0,'Sorry, ')\n",
    "\n",
    "b1 = Button(root, text = 'predict',font=(\"Helvetica\", 16),background=\"Purple3\",command = predict)\n",
    "b1.grid(row=24,column=0)\n",
    "    \n",
    "\n",
    "output = Entry(root, text='P',font=(\"Helvetica\", 16), width=70)\n",
    "output.grid(row=24,column=1)\n",
    "\n",
    "root.mainloop()"
   ]
  },
  {
   "cell_type": "code",
   "execution_count": 48,
   "metadata": {},
   "outputs": [],
   "source": [
    "Significant_K_Best_Features=['Credit Score','Current Loan Amount','Term','Annual Income', 'Home Ownership_Rent',\n",
    "                             'Maximum Open Credit','Years of Credit History','Purpose_small_business',\n",
    "                             'Purpose_Buy a Car','Purpose_Home Improvements']"
   ]
  }
 ],
 "metadata": {
  "kernelspec": {
   "display_name": "Python 3",
   "language": "python",
   "name": "python3"
  },
  "language_info": {
   "codemirror_mode": {
    "name": "ipython",
    "version": 3
   },
   "file_extension": ".py",
   "mimetype": "text/x-python",
   "name": "python",
   "nbconvert_exporter": "python",
   "pygments_lexer": "ipython3",
   "version": "3.7.4"
  }
 },
 "nbformat": 4,
 "nbformat_minor": 2
}
